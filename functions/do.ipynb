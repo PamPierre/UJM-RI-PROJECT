{
 "cells": [
  {
   "cell_type": "code",
   "execution_count": 21,
   "id": "de54399c",
   "metadata": {},
   "outputs": [],
   "source": [
    "from file_process import * #==> issues on the import of splitDocs, don't read efficiently the content\n",
    "## Fonction de traintement du texte\n",
    "from text_process import *\n",
    "from weiting_function import *\n",
    "from runs_function import *\n",
    "import re"
   ]
  },
  {
   "cell_type": "code",
   "execution_count": 14,
   "id": "cddb2170",
   "metadata": {},
   "outputs": [],
   "source": [
    "list_file = list_file_data(\"../Practice_05_data/XML-Coll-withSem_/\")\n",
    "dataset = \"../Practice_05_data/XML-Coll-withSem_/\"\n",
    "# Cell to initialise global variable\n",
    "team_name = \"DjibrilMohamedOmaimaDouae\"\n",
    "assets = \"assets/\"\n",
    "k = 1.2\n",
    "b = 0.75\n",
    "use_stem = False\n",
    "use_stopword = False\n",
    "run_id=0\n",
    "list_termes = {}"
   ]
  },
  {
   "cell_type": "code",
   "execution_count": 61,
   "id": "081975a4",
   "metadata": {},
   "outputs": [],
   "source": [
    "list_file[127]\n",
    "fileName = '612.xml'\n",
    "filePath = dataset+fileName"
   ]
  },
  {
   "cell_type": "code",
   "execution_count": 59,
   "id": "7259ec9f",
   "metadata": {},
   "outputs": [
    {
     "name": "stdout",
     "output_type": "stream",
     "text": [
      "../Practice_05_data/XML-Coll-withSem_/612.xml\n"
     ]
    }
   ],
   "source": [
    "content = preprocesFile(dataset+fileName)\n"
   ]
  },
  {
   "cell_type": "code",
   "execution_count": 42,
   "id": "c45d1674",
   "metadata": {},
   "outputs": [],
   "source": [
    "article = re.search('<article xmlns:xlink=\"http://www.w3.org/1999/xlink\">(.*?)^[+&nbsp]</article>', str(content))\n",
    "article"
   ]
  },
  {
   "cell_type": "code",
   "execution_count": 76,
   "id": "16d4a657",
   "metadata": {},
   "outputs": [
    {
     "name": "stdout",
     "output_type": "stream",
     "text": [
      "body {}\n"
     ]
    }
   ],
   "source": [
    "#from lxml import etree as ET\n",
    "from lxml import html as ET\n",
    "\n",
    "import xml.etree.ElementTree as ET2\n",
    "article = ET.parse(dataset+fileName)\n",
    "root = article.getroot()\n",
    "for child in root:\n",
    "    print(child.tag,child.attrib)"
   ]
  },
  {
   "cell_type": "code",
   "execution_count": 79,
   "id": "1d3fa194",
   "metadata": {},
   "outputs": [],
   "source": [
    " with open(filePath, \"r\",encoding='utf-8') as file:\n",
    "      # Read each line in the file, readlines() returns a list of lines\n",
    "      content = file.readlines()\n",
    "      # Combine the lines in the list into a string\n",
    "      content = \" \".join(content)\n",
    "      soup = BeautifulSoup(content, \"xml\")\n",
    "      text =  soup.get_text()\n",
    "      article = soup.find_all('article')"
   ]
  },
  {
   "cell_type": "code",
   "execution_count": 81,
   "id": "5310875d",
   "metadata": {},
   "outputs": [],
   "source": [
    "header = soup.find_allrticle"
   ]
  },
  {
   "cell_type": "code",
   "execution_count": null,
   "id": "7526715e",
   "metadata": {},
   "outputs": [],
   "source": []
  },
  {
   "cell_type": "code",
   "execution_count": 3,
   "id": "9b0b69f0",
   "metadata": {},
   "outputs": [],
   "source": [
    "def xml_text_minings_full(list_terms = dict(), use_stem=bool(), use_stopword=bool()):\n",
    "    start = time.time()\n",
    "    new_list_terms = {}\n",
    "    posting_list = {}\n",
    "    dl = list()\n",
    "    i = 0\n",
    "    for docno, content in list_terms.items():\n",
    "        i+=1\n",
    "        text_clean = clean(content, use_stem, use_stopword)\n",
    "        new_list_terms[docno] = text_clean.split()\n",
    "        lt = text_clean.split()\n",
    "        current_dico = countWord(lt)\n",
    "        #sec_1 = \"[word : fre]\"\n",
    "        posting_list = countWordIntoDocs(current_dico,docno, posting_list)\n",
    "    \n",
    "    return posting_list, new_list_terms,(time.time() - start)\n",
    "\n",
    "def xml_text_minings(list_terms = dict(), use_stem=bool(), use_stopword=bool()):\n",
    "    start = time.time()\n",
    "    new_list_terms = {}\n",
    "    posting_list = {}\n",
    "    posting_list_el = {}\n",
    "    lt_ = dict()\n",
    "    lt_final = dict()\n",
    "    dl = list()\n",
    "    i = 0\n",
    "\n",
    "    for docno, content in list_terms.items():\n",
    "        i+=1\n",
    "        j = 0\n",
    "        #print(i,\"==>\",id, \"len sec==>\", len(content))\n",
    "        # if content[0] = 1 else normal indexion\n",
    "        posting_list_el.clear()\n",
    "        lt_.clear()\n",
    "        for text in content:\n",
    "            j+=1\n",
    "            soup = BeautifulSoup(str(text), \"xml\")\n",
    "            text_content = soup.get_text()\n",
    "            #print(text_content)\n",
    "            text_clean = clean(text_content, use_stem, use_stopword)\n",
    "            #new_list_terms[id] = text_clean.split()\n",
    "            lt = text_clean.split()\n",
    "            lt_[j] = lt\n",
    "            current_dico = countWord(lt)\n",
    "            #sec_1 = \"[word : fre]\"\n",
    "            posting_list_el = countWordIntoDocs(current_dico,\"sec_{}\".format(j), posting_list_el)\n",
    "            #posting_list.setdefault(docno,[]).append(countWordIntoDocs(current_dico,\"sec_{}\".format(j), posting_list_el))\n",
    "            #posting_list_el = countWordIntoDocs(current_dico,\"sec_{}\".format(j), posting_list_el) \n",
    "            #print(\"Sec[{}]==>{}\".format(j,text_content))\n",
    "            #print(\"**********-/*-*/-*-************************************************-/-*/-/-*/-*/-\",j)\n",
    "            \n",
    "        lt_final[docno] = lt_.copy()\n",
    "        posting_list[docno] = posting_list_el.copy();\n",
    "     \n",
    "        #break\n",
    "        if(i==80): break\n",
    "    return posting_list,lt_final,(time.time() - start)\n",
    "\n",
    "def splitDocs3(fileDoc, list_terme):\n",
    "    content = []\n",
    "    sec_dict = {} # keys = {chiffre incrementale} # values = {contenues des paragraphes}\n",
    "      # Read the XML file\n",
    "    with open(fileDoc, \"r\",encoding='utf-8') as file:\n",
    "      # Read each line in the file, readlines() returns a list of lines\n",
    "      content = file.readlines()\n",
    "      # Combine the lines in the list into a string\n",
    "      content = \" \".join(content)\n",
    "      soup = BeautifulSoup(content, \"xml\")\n",
    "      text =  soup.get_text()\n",
    "      id = str(soup.find_all('id')[0]).strip('</id>')\n",
    "      sec = soup.find_all('sec')\n",
    "      # list_terme[id] = ['P'|'S'] # 0==> il n'ya pas de section et le 1 il y a des sections\n",
    "   \n",
    "      list_terme[id]=sec  # Pour chaque article on recuper les sections\n",
    "    return list_terme\n",
    "\n",
    "# For all weigting function\n",
    "def all_score_wf(query_list, ltn,ltc,bm25):\n",
    "    start = time.time()\n",
    "    score_ltn= score(query,ltn)\n",
    "    print(\"Ltn time : \",time.time() -start)\n",
    "    start = time.time()\n",
    "    score_ltc = score(query,ltc)\n",
    "    print(\"Ltc time : \",time.time() -start)\n",
    "    start = time.time()\n",
    "    score_bm25 = score(query,bm25)\n",
    "    print(\"Bm25 time : \",time.time() -start)\n",
    "    \n",
    "    return score_ltn,score_ltc,score_bm25"
   ]
  },
  {
   "cell_type": "code",
   "execution_count": 4,
   "id": "5406e4c5",
   "metadata": {},
   "outputs": [
    {
     "name": "stdout",
     "output_type": "stream",
     "text": [
      "0.02127832571665446\n"
     ]
    }
   ],
   "source": [
    "# For full content\n",
    "for file_name in list_file:\n",
    "    list_termes = splitDocs2(dataset+file_name,list_termes)\n",
    "pl_f,lt_f,ti = xml_text_minings_full(list_termes,use_stem, use_stopword)\n",
    "\n",
    "print(ti/60)\n",
    "stat_ = get_statistics(pl_f, lt_f)"
   ]
  },
  {
   "cell_type": "code",
   "execution_count": 4,
   "id": "656bd819",
   "metadata": {},
   "outputs": [
    {
     "name": "stdout",
     "output_type": "stream",
     "text": [
      "0.08189438581466675\n"
     ]
    }
   ],
   "source": [
    "# For content with sec\n",
    "for file_name in list_file:\n",
    "    list_termes = splitDocs3(dataset+file_name,list_termes)\n",
    "pl,lt,ti = xml_text_minings(list_termes,use_stem, use_stopword)\n",
    "new_pl = {}\n",
    "\n",
    "print(ti/60)\n"
   ]
  },
  {
   "cell_type": "code",
   "execution_count": 5,
   "id": "1b6ffaec",
   "metadata": {},
   "outputs": [],
   "source": [
    "\n",
    "new_pl = {}\n",
    "for dic, values in pl.items():\n",
    "        for word,v in values.items():\n",
    "            new_pl.setdefault(word,[]).append({dic:v})\n"
   ]
  },
  {
   "cell_type": "code",
   "execution_count": 6,
   "id": "7c5610bb",
   "metadata": {},
   "outputs": [
    {
     "data": {
      "text/plain": [
       "[{'10136': [('sec_3', 2)]},\n",
       " {'1064': [('sec_2', 1), ('sec_3', 1), ('sec_8', 1), ('sec_12', 1)]},\n",
       " {'10646': [('sec_1', 12),\n",
       "   ('sec_2', 2),\n",
       "   ('sec_3', 28),\n",
       "   ('sec_4', 33),\n",
       "   ('sec_5', 17),\n",
       "   ('sec_6', 18),\n",
       "   ('sec_7', 4),\n",
       "   ('sec_8', 2),\n",
       "   ('sec_9', 5),\n",
       "   ('sec_10', 3),\n",
       "   ('sec_11', 5),\n",
       "   ('sec_12', 25)]},\n",
       " {'10843': [('sec_4', 1), ('sec_5', 1), ('sec_6', 5)]},\n",
       " {'10975': [('sec_1', 1), ('sec_7', 1)]},\n",
       " {'11243': [('sec_8', 1)]},\n",
       " {'11286': [('sec_1', 1), ('sec_3', 3), ('sec_6', 3), ('sec_7', 2)]},\n",
       " {'11298': [('sec_1', 1)]},\n",
       " {'1134': [('sec_1', 1)]},\n",
       " {'1164': [('sec_8', 2)]},\n",
       " {'12424': [('sec_8', 1)]},\n",
       " {'12436': [('sec_3', 1), ('sec_8', 10)]},\n",
       " {'12486': [('sec_1', 4),\n",
       "   ('sec_3', 2),\n",
       "   ('sec_4', 1),\n",
       "   ('sec_5', 2),\n",
       "   ('sec_6', 1),\n",
       "   ('sec_7', 2)]},\n",
       " {'14647': [('sec_3', 2), ('sec_5', 2)]},\n",
       " {'1841': [('sec_1', 2), ('sec_2', 2)]}]"
      ]
     },
     "execution_count": 6,
     "metadata": {},
     "output_type": "execute_result"
    }
   ],
   "source": [
    "\n",
    "new_pl['food']"
   ]
  },
  {
   "cell_type": "code",
   "execution_count": 7,
   "id": "fef44cb2",
   "metadata": {
    "scrolled": true
   },
   "outputs": [],
   "source": [
    "# Part of statistique\n",
    "\n",
    "def doc_len_xml(list_terms):\n",
    "    dl = {}\n",
    "    dl_sec = {}\n",
    "    n_sec = 0\n",
    "    for doc_n, sec in list_terms.items():\n",
    "        dl_sec.clear()\n",
    "        n_sec+=len(sec)\n",
    "        for sec_n, len_sec in sec.items():\n",
    "            dl_sec[sec_n] = len(len_sec)\n",
    "        dl[doc_n] = [dl_sec.copy()]\n",
    "    # dl = [(doc_n, len(len_doc)) for doc_n,len_doc in list_terms.items()]\n",
    "    return dl,n_sec\n",
    "#{docn : {sec_1:5}}\n",
    "\n",
    "def collection_term_freq_xml(posting_list):\n",
    "    c_size = {}\n",
    "    dl = {}\n",
    "    for term, article in posting_list.items():  # get the term\n",
    "        somme = 0\n",
    "        j = 0\n",
    "        for secs in article:\n",
    "            \n",
    "            for sec,val in secs.items():\n",
    "                \n",
    "                for v in val:\n",
    "                    j+=1\n",
    "                    somme += v[1]\n",
    "        dl[term] = [(somme, len(article),j)]\n",
    "                                                   # somme = somme de frequence dans toutes les sections\n",
    "    return dl                                              \n",
    "                                                            # j = nombre total d'element\n",
    "def get_xml_stat(posting_list, list_terms):\n",
    "    stat = {}\n",
    "    # document length\n",
    "    stat['df'],stat['n_sec'] = doc_len_xml(list_terms)\n",
    "    # Number of a doc\n",
    "    stat['n_article'] = len(stat['df']) # n article\n",
    "    stat['n_element'] = stat['n_sec'] + stat['n_article']\n",
    "    # term length\n",
    "    stat['tl'] = term_len(posting_list)\n",
    "    # vocabulary size\n",
    "    stat['voc_size'] = vocabulary_size(posting_list)\n",
    "    # collection frequency of terms\n",
    "    stat['colec_freq'] = collection_term_freq_xml(posting_list)\n",
    "    return stat"
   ]
  },
  {
   "cell_type": "code",
   "execution_count": 8,
   "id": "cf01522b",
   "metadata": {},
   "outputs": [],
   "source": [
    "stat = get_xml_stat(new_pl,lt)"
   ]
  },
  {
   "cell_type": "code",
   "execution_count": 9,
   "id": "87b19f2b",
   "metadata": {},
   "outputs": [
    {
     "data": {
      "text/plain": [
       "'\\n   i=0\\n      # \\'10013\\' = [\\'P\\'|\\'S\\',[list des paragraphes],[listes de sections(listes des paragraphes)]]\\n      if(len(sec)==0):\\n        p = [\\'P\\']\\n        p.append(soup.find_all(\\'p\\'))\\n        list_terme[id] = p\\n\\n    else : \\n        sec = [\\'S\\']\\n\\n        for paragraphe in sec:\\n            i+=1\\n            soup = BeautifulSoup(paragraphe, \"xml\")\\n            p = soup.find_all(\\'p\\')\\n            sec_dict[i] = p\\n'"
      ]
     },
     "execution_count": 9,
     "metadata": {},
     "output_type": "execute_result"
    }
   ],
   "source": [
    "\"\"\"\n",
    "   i=0\n",
    "      # '10013' = ['P'|'S',[list des paragraphes],[listes de sections(listes des paragraphes)]]\n",
    "      if(len(sec)==0):\n",
    "        p = ['P']\n",
    "        p.append(soup.find_all('p'))\n",
    "        list_terme[id] = p\n",
    "\n",
    "    else : \n",
    "        sec = ['S']\n",
    "\n",
    "        for paragraphe in sec:\n",
    "            i+=1\n",
    "            soup = BeautifulSoup(paragraphe, \"xml\")\n",
    "            p = soup.find_all('p')\n",
    "            sec_dict[i] = p\n",
    "\"\"\""
   ]
  },
  {
   "cell_type": "code",
   "execution_count": null,
   "id": "b0cd5825",
   "metadata": {},
   "outputs": [],
   "source": []
  },
  {
   "cell_type": "code",
   "execution_count": null,
   "id": "7086627d",
   "metadata": {},
   "outputs": [],
   "source": []
  },
  {
   "cell_type": "markdown",
   "id": "62906c7e",
   "metadata": {
    "scrolled": true
   },
   "source": [
    "Article > Sections > Paragraphes\n",
    "        >Paragraphes\n"
   ]
  },
  {
   "cell_type": "code",
   "execution_count": 15,
   "id": "6eca24b7",
   "metadata": {},
   "outputs": [],
   "source": [
    "# Part of weigting function\n",
    "def smart_ltn_xml(posting_list,stat):\n",
    "    i = 0\n",
    "    n = stat['n_element']\n",
    "    df_t = stat['colec_freq']\n",
    "    df = 0\n",
    "    #(1+LOG(tf))*LOG(n/df)\n",
    "    #tf is the frequence of term on a document\n",
    "    #df number of document where the term appear\n",
    "    ltn_value_sec = {} # key sec, value (terme, ltn)\n",
    "    ltn_value = {} # key doc number, value (terme, ltn)\n",
    "    for term, articles in posting_list.items():\n",
    "        i+=1\n",
    "        dl = df_t[term]\n",
    "        df = dl[0][2] # nombre de doc dans lequel le terme apparait sur toute la collection\n",
    "        # print(value) [{'10013': [('sec_1', 1), ('sec_12', 1)]},...]\n",
    "        \n",
    "        for sec in articles:\n",
    "            # print(sec.values()) dict_values([[('sec_1', 1), ('sec_12', 1)]])\n",
    "            \n",
    "            for doc_no,val in sec.items():\n",
    "                ltn_value_sec.clear()\n",
    "                for v in val:\n",
    "                    tf = v[1]\n",
    "                    sec =v[0]\n",
    "                    ltn = (1+math.log10(tf))*(math.log10(n/df))\n",
    "                    ltn_value_sec.setdefault(sec,[]).append((term,round(ltn,4))) # ltn en fonction de la section\n",
    "           \n",
    "                ltn_value.setdefault(doc_no,[]).append(ltn_value_sec.copy()) # ltn en fonction des articles\n",
    "    return ltn_value\n",
    "\n",
    "def ltn_ref(ltn):\n",
    "    new_ltn = {}\n",
    "    ltn_refractor = {}\n",
    "    for doc, article in ltn.items():\n",
    "        new_ltn.clear()\n",
    "        for l in article: \n",
    "            for se, k in l.items():\n",
    "                for i in k:\n",
    "                    new_ltn.setdefault(se,[]).append(i)\n",
    "        ltn_refractor[doc] = new_ltn.copy()\n",
    "    return ltn_refractor\n",
    "query = \"olive from oil health benefit\"\n",
    "def xml_w_score(wf=dict()):\n",
    "    score_wt = {}\n",
    "    for doc_no, article in wf.items():\n",
    "        scores = rsv_score(query,article)\n",
    "        if(len(scores)>0):\n",
    "            for sec in scores:\n",
    "                score_wt.setdefault(doc_no,[]).append(sec)\n",
    "    return score_wt\n",
    "\n",
    "def ltc_xml(ltn):\n",
    "    score_ltn = {}\n",
    "    for doc_no, sec_ltn_value in ltn.items():\n",
    "        for value in sec_ltn_value:\n",
    "            res = smart_ltc(sec_ltn_value)\n",
    "            score_ltn[doc_no] = res\n",
    "    return score_ltn"
   ]
  },
  {
   "cell_type": "code",
   "execution_count": 16,
   "id": "8ea4b3ad",
   "metadata": {},
   "outputs": [
    {
     "data": {
      "text/plain": [
       "\"\\nltn\\n{'10013': [{'sec_1': [('overview', 1.2433)],\\n   'sec_12': [('overview', 1.2433)]}],\\n '10136': [{'sec_1': [('overview', 1.2433)]}],...]\\n\""
      ]
     },
     "execution_count": 16,
     "metadata": {},
     "output_type": "execute_result"
    }
   ],
   "source": [
    "#stat['n_element']\n",
    "ltn = ltn_ref(smart_ltn_xml(new_pl,stat))\n",
    "score_ltn = xml_w_score(ltn)\n",
    "\"\"\"\n",
    "ltn\n",
    "{'10013': [{'sec_1': [('overview', 1.2433)],\n",
    "   'sec_12': [('overview', 1.2433)]}],\n",
    " '10136': [{'sec_1': [('overview', 1.2433)]}],...]\n",
    "\"\"\"\n",
    "#score_ltn"
   ]
  },
  {
   "cell_type": "code",
   "execution_count": 17,
   "id": "b6df555d",
   "metadata": {},
   "outputs": [],
   "source": [
    "ltn_,ltc_,bm25_ =weinting_function(pl_f, stat_,k,b) "
   ]
  },
  {
   "cell_type": "code",
   "execution_count": null,
   "id": "21d26893",
   "metadata": {},
   "outputs": [],
   "source": []
  },
  {
   "cell_type": "code",
   "execution_count": 18,
   "id": "94413802",
   "metadata": {},
   "outputs": [],
   "source": [
    "ltc =ltc_xml(ltn)\n",
    "score_ltc = xml_w_score(ltc)\n",
    "#score_ltc"
   ]
  },
  {
   "cell_type": "code",
   "execution_count": null,
   "id": "d46d6182",
   "metadata": {},
   "outputs": [],
   "source": [
    "score_ltn"
   ]
  },
  {
   "cell_type": "code",
   "execution_count": 29,
   "id": "fc7049e1",
   "metadata": {},
   "outputs": [],
   "source": [
    "def build_run_file_xml(run_id, wf_score, index, use_stem, use_stopword, k, b):\n",
    "    start = time.time()\n",
    "    if index != 2:\n",
    "        k = 0.0\n",
    "        b = 0.0\n",
    "    run_file_name, run_id = create_run_file(run_id, index, use_stem, use_stopword, k, b)\n",
    "    for article, scores in wf_score.items():\n",
    "        for score in scores:\n",
    "            print(len(score))\n",
    "            for i in range(len(score)):\n",
    "                run_score = str(score[i]).replace(',', '').replace(\"'\", '').replace('(', '').replace(')', '')\n",
    "                print(run_score)\n",
    "                break\n",
    "                run_file_name.write(run_score + \"\\n\")\n",
    "        run_file_name.close()\n",
    "        break\n",
    "    print(\"Execution time for the run {} is {}\".format(run_id, time.time() - start))\n",
    "    return run_id\n"
   ]
  },
  {
   "cell_type": "code",
   "execution_count": 128,
   "id": "a6fe16ff",
   "metadata": {},
   "outputs": [],
   "source": [
    "\n",
    "def scores(query_list,rsv_wf,docno,j):\n",
    "    team_name = \"DjibrilMohamedOmaimaDouae\"\n",
    "    score = []\n",
    "    k=j\n",
    "    for query in query_list:\n",
    "        \n",
    "        query = query.split(' ', 1)\n",
    "        result,k = result_querys(query[0],docno, rsv_score(query[1], rsv_wf), team_name,k)\n",
    "        score.append(result)\n",
    "    return score,k\n",
    "\n",
    "def result_querys(num_query, docno, rsv_result,team_name, j):\n",
    "    start = time.time()\n",
    "    score = reverse_score(rsv_result)\n",
    "    rsv_r = []\n",
    "    k = 0\n",
    "    x = score\n",
    "   \n",
    "    if len(x)>1500:\n",
    "        x = x[:1500]\n",
    "        \n",
    "    for i in range(len(x)):\n",
    "        k = i+j\n",
    "        rsv_r.append(('-',num_query,'Q0', '{}'.format(docno),k,\n",
    "                      round(x[i][1],5), team_name,'/article[1]/sec[{}]'.format(x[i][0].replace(\"sec_\",\"\"))))\n",
    "    return rsv_r,k\n",
    "# 2009011 Q0 1164 1 0.7262 DjibrilMohamedOmaimaDouae /article[1]/sec"
   ]
  },
  {
   "cell_type": "code",
   "execution_count": 129,
   "id": "6dc39838",
   "metadata": {},
   "outputs": [
    {
     "name": "stdout",
     "output_type": "stream",
     "text": [
      "[[[('-', '2009011', 'Q0', '10013', 1, 1.2541, 'DjibrilMohamedOmaimaDouae', '/article[1]/sec[2]'), ('-', '2009011', 'Q0', '10013', 2, 1.6316, 'DjibrilMohamedOmaimaDouae', '/article[1]/sec[11]'), ('-', '2009011', 'Q0', '10013', 3, 1.6316, 'DjibrilMohamedOmaimaDouae', '/article[1]/sec[3]'), ('-', '2009011', 'Q0', '10013', 4, 1.6316, 'DjibrilMohamedOmaimaDouae', '/article[1]/sec[7]'), ('-', '2009011', 'Q0', '10013', 5, 1.68, 'DjibrilMohamedOmaimaDouae', '/article[1]/sec[6]'), ('-', '2009011', 'Q0', '10013', 6, 2.0091, 'DjibrilMohamedOmaimaDouae', '/article[1]/sec[12]'), ('-', '2009011', 'Q0', '10013', 7, 2.9341, 'DjibrilMohamedOmaimaDouae', '/article[1]/sec[8]'), ('-', '2009011', 'Q0', '10013', 8, 3.4399, 'DjibrilMohamedOmaimaDouae', '/article[1]/sec[4]')], [], [('-', '2009067', 'Q0', '10013', 0, 0.185, 'DjibrilMohamedOmaimaDouae', '/article[1]/sec[10]'), ('-', '2009067', 'Q0', '10013', 1, 0.185, 'DjibrilMohamedOmaimaDouae', '/article[1]/sec[7]'), ('-', '2009067', 'Q0', '10013', 2, 0.185, 'DjibrilMohamedOmaimaDouae', '/article[1]/sec[9]'), ('-', '2009067', 'Q0', '10013', 3, 0.3142, 'DjibrilMohamedOmaimaDouae', '/article[1]/sec[11]'), ('-', '2009067', 'Q0', '10013', 4, 0.3142, 'DjibrilMohamedOmaimaDouae', '/article[1]/sec[12]'), ('-', '2009067', 'Q0', '10013', 5, 0.3289, 'DjibrilMohamedOmaimaDouae', '/article[1]/sec[3]'), ('-', '2009067', 'Q0', '10013', 6, 0.4295, 'DjibrilMohamedOmaimaDouae', '/article[1]/sec[8]'), ('-', '2009067', 'Q0', '10013', 7, 1.0664, 'DjibrilMohamedOmaimaDouae', '/article[1]/sec[5]'), ('-', '2009067', 'Q0', '10013', 8, 1.2482, 'DjibrilMohamedOmaimaDouae', '/article[1]/sec[4]'), ('-', '2009067', 'Q0', '10013', 9, 1.3317, 'DjibrilMohamedOmaimaDouae', '/article[1]/sec[1]'), ('-', '2009067', 'Q0', '10013', 10, 1.7491, 'DjibrilMohamedOmaimaDouae', '/article[1]/sec[6]')], [('-', '2009073', 'Q0', '10013', 10, 0.9476, 'DjibrilMohamedOmaimaDouae', '/article[1]/sec[6]'), ('-', '2009073', 'Q0', '10013', 11, 1.2127, 'DjibrilMohamedOmaimaDouae', '/article[1]/sec[1]'), ('-', '2009073', 'Q0', '10013', 12, 1.7913, 'DjibrilMohamedOmaimaDouae', '/article[1]/sec[12]')], [('-', '2009074', 'Q0', '10013', 12, 0.8349, 'DjibrilMohamedOmaimaDouae', '/article[1]/sec[10]'), ('-', '2009074', 'Q0', '10013', 13, 0.9476, 'DjibrilMohamedOmaimaDouae', '/article[1]/sec[6]'), ('-', '2009074', 'Q0', '10013', 14, 2.1572, 'DjibrilMohamedOmaimaDouae', '/article[1]/sec[4]')], [('-', '2009078', 'Q0', '10013', 14, 0.8349, 'DjibrilMohamedOmaimaDouae', '/article[1]/sec[10]')], [('-', '2009085', 'Q0', '10013', 14, 0.881, 'DjibrilMohamedOmaimaDouae', '/article[1]/sec[4]')]]]\n",
      "[[[('-', '2009011', 'Q0', '10013', 1, 1.2541, 'DjibrilMohamedOmaimaDouae', '/article[1]/sec[2]'), ('-', '2009011', 'Q0', '10013', 2, 1.6316, 'DjibrilMohamedOmaimaDouae', '/article[1]/sec[11]'), ('-', '2009011', 'Q0', '10013', 3, 1.6316, 'DjibrilMohamedOmaimaDouae', '/article[1]/sec[3]'), ('-', '2009011', 'Q0', '10013', 4, 1.6316, 'DjibrilMohamedOmaimaDouae', '/article[1]/sec[7]'), ('-', '2009011', 'Q0', '10013', 5, 1.68, 'DjibrilMohamedOmaimaDouae', '/article[1]/sec[6]'), ('-', '2009011', 'Q0', '10013', 6, 2.0091, 'DjibrilMohamedOmaimaDouae', '/article[1]/sec[12]'), ('-', '2009011', 'Q0', '10013', 7, 2.9341, 'DjibrilMohamedOmaimaDouae', '/article[1]/sec[8]'), ('-', '2009011', 'Q0', '10013', 8, 3.4399, 'DjibrilMohamedOmaimaDouae', '/article[1]/sec[4]')], [], [('-', '2009067', 'Q0', '10013', 0, 0.185, 'DjibrilMohamedOmaimaDouae', '/article[1]/sec[10]'), ('-', '2009067', 'Q0', '10013', 1, 0.185, 'DjibrilMohamedOmaimaDouae', '/article[1]/sec[7]'), ('-', '2009067', 'Q0', '10013', 2, 0.185, 'DjibrilMohamedOmaimaDouae', '/article[1]/sec[9]'), ('-', '2009067', 'Q0', '10013', 3, 0.3142, 'DjibrilMohamedOmaimaDouae', '/article[1]/sec[11]'), ('-', '2009067', 'Q0', '10013', 4, 0.3142, 'DjibrilMohamedOmaimaDouae', '/article[1]/sec[12]'), ('-', '2009067', 'Q0', '10013', 5, 0.3289, 'DjibrilMohamedOmaimaDouae', '/article[1]/sec[3]'), ('-', '2009067', 'Q0', '10013', 6, 0.4295, 'DjibrilMohamedOmaimaDouae', '/article[1]/sec[8]'), ('-', '2009067', 'Q0', '10013', 7, 1.0664, 'DjibrilMohamedOmaimaDouae', '/article[1]/sec[5]'), ('-', '2009067', 'Q0', '10013', 8, 1.2482, 'DjibrilMohamedOmaimaDouae', '/article[1]/sec[4]'), ('-', '2009067', 'Q0', '10013', 9, 1.3317, 'DjibrilMohamedOmaimaDouae', '/article[1]/sec[1]'), ('-', '2009067', 'Q0', '10013', 10, 1.7491, 'DjibrilMohamedOmaimaDouae', '/article[1]/sec[6]')], [('-', '2009073', 'Q0', '10013', 10, 0.9476, 'DjibrilMohamedOmaimaDouae', '/article[1]/sec[6]'), ('-', '2009073', 'Q0', '10013', 11, 1.2127, 'DjibrilMohamedOmaimaDouae', '/article[1]/sec[1]'), ('-', '2009073', 'Q0', '10013', 12, 1.7913, 'DjibrilMohamedOmaimaDouae', '/article[1]/sec[12]')], [('-', '2009074', 'Q0', '10013', 12, 0.8349, 'DjibrilMohamedOmaimaDouae', '/article[1]/sec[10]'), ('-', '2009074', 'Q0', '10013', 13, 0.9476, 'DjibrilMohamedOmaimaDouae', '/article[1]/sec[6]'), ('-', '2009074', 'Q0', '10013', 14, 2.1572, 'DjibrilMohamedOmaimaDouae', '/article[1]/sec[4]')], [('-', '2009078', 'Q0', '10013', 14, 0.8349, 'DjibrilMohamedOmaimaDouae', '/article[1]/sec[10]')], [('-', '2009085', 'Q0', '10013', 14, 0.881, 'DjibrilMohamedOmaimaDouae', '/article[1]/sec[4]')]], [[('-', '2009011', 'Q0', '10136', 14, 1.2541, 'DjibrilMohamedOmaimaDouae', '/article[1]/sec[3]'), ('-', '2009011', 'Q0', '10136', 15, 2.6631, 'DjibrilMohamedOmaimaDouae', '/article[1]/sec[1]')], [], [('-', '2009067', 'Q0', '10136', 0, 0.185, 'DjibrilMohamedOmaimaDouae', '/article[1]/sec[5]'), ('-', '2009067', 'Q0', '10136', 1, 1.0301, 'DjibrilMohamedOmaimaDouae', '/article[1]/sec[1]'), ('-', '2009067', 'Q0', '10136', 2, 1.2251, 'DjibrilMohamedOmaimaDouae', '/article[1]/sec[2]'), ('-', '2009067', 'Q0', '10136', 3, 1.3177, 'DjibrilMohamedOmaimaDouae', '/article[1]/sec[4]'), ('-', '2009067', 'Q0', '10136', 4, 2.2054, 'DjibrilMohamedOmaimaDouae', '/article[1]/sec[3]')], [('-', '2009073', 'Q0', '10136', 4, 0.9267, 'DjibrilMohamedOmaimaDouae', '/article[1]/sec[6]'), ('-', '2009073', 'Q0', '10136', 5, 2.718, 'DjibrilMohamedOmaimaDouae', '/article[1]/sec[1]')], [('-', '2009074', 'Q0', '10136', 5, 0.8349, 'DjibrilMohamedOmaimaDouae', '/article[1]/sec[3]'), ('-', '2009074', 'Q0', '10136', 6, 0.8349, 'DjibrilMohamedOmaimaDouae', '/article[1]/sec[4]'), ('-', '2009074', 'Q0', '10136', 7, 0.8349, 'DjibrilMohamedOmaimaDouae', '/article[1]/sec[6]')], [('-', '2009078', 'Q0', '10136', 7, 0.8349, 'DjibrilMohamedOmaimaDouae', '/article[1]/sec[4]'), ('-', '2009078', 'Q0', '10136', 8, 2.6117, 'DjibrilMohamedOmaimaDouae', '/article[1]/sec[3]'), ('-', '2009078', 'Q0', '10136', 9, 3.78, 'DjibrilMohamedOmaimaDouae', '/article[1]/sec[6]')], [('-', '2009085', 'Q0', '10136', 9, 0.6771, 'DjibrilMohamedOmaimaDouae', '/article[1]/sec[2]'), ('-', '2009085', 'Q0', '10136', 10, 1.0002, 'DjibrilMohamedOmaimaDouae', '/article[1]/sec[6]'), ('-', '2009085', 'Q0', '10136', 11, 1.3543, 'DjibrilMohamedOmaimaDouae', '/article[1]/sec[1]'), ('-', '2009085', 'Q0', '10136', 12, 2.9558, 'DjibrilMohamedOmaimaDouae', '/article[1]/sec[3]'), ('-', '2009085', 'Q0', '10136', 13, 3.117, 'DjibrilMohamedOmaimaDouae', '/article[1]/sec[4]')]]]\n",
      "[[[('-', '2009011', 'Q0', '10013', 1, 1.2541, 'DjibrilMohamedOmaimaDouae', '/article[1]/sec[2]'), ('-', '2009011', 'Q0', '10013', 2, 1.6316, 'DjibrilMohamedOmaimaDouae', '/article[1]/sec[11]'), ('-', '2009011', 'Q0', '10013', 3, 1.6316, 'DjibrilMohamedOmaimaDouae', '/article[1]/sec[3]'), ('-', '2009011', 'Q0', '10013', 4, 1.6316, 'DjibrilMohamedOmaimaDouae', '/article[1]/sec[7]'), ('-', '2009011', 'Q0', '10013', 5, 1.68, 'DjibrilMohamedOmaimaDouae', '/article[1]/sec[6]'), ('-', '2009011', 'Q0', '10013', 6, 2.0091, 'DjibrilMohamedOmaimaDouae', '/article[1]/sec[12]'), ('-', '2009011', 'Q0', '10013', 7, 2.9341, 'DjibrilMohamedOmaimaDouae', '/article[1]/sec[8]'), ('-', '2009011', 'Q0', '10013', 8, 3.4399, 'DjibrilMohamedOmaimaDouae', '/article[1]/sec[4]')], [], [('-', '2009067', 'Q0', '10013', 0, 0.185, 'DjibrilMohamedOmaimaDouae', '/article[1]/sec[10]'), ('-', '2009067', 'Q0', '10013', 1, 0.185, 'DjibrilMohamedOmaimaDouae', '/article[1]/sec[7]'), ('-', '2009067', 'Q0', '10013', 2, 0.185, 'DjibrilMohamedOmaimaDouae', '/article[1]/sec[9]'), ('-', '2009067', 'Q0', '10013', 3, 0.3142, 'DjibrilMohamedOmaimaDouae', '/article[1]/sec[11]'), ('-', '2009067', 'Q0', '10013', 4, 0.3142, 'DjibrilMohamedOmaimaDouae', '/article[1]/sec[12]'), ('-', '2009067', 'Q0', '10013', 5, 0.3289, 'DjibrilMohamedOmaimaDouae', '/article[1]/sec[3]'), ('-', '2009067', 'Q0', '10013', 6, 0.4295, 'DjibrilMohamedOmaimaDouae', '/article[1]/sec[8]'), ('-', '2009067', 'Q0', '10013', 7, 1.0664, 'DjibrilMohamedOmaimaDouae', '/article[1]/sec[5]'), ('-', '2009067', 'Q0', '10013', 8, 1.2482, 'DjibrilMohamedOmaimaDouae', '/article[1]/sec[4]'), ('-', '2009067', 'Q0', '10013', 9, 1.3317, 'DjibrilMohamedOmaimaDouae', '/article[1]/sec[1]'), ('-', '2009067', 'Q0', '10013', 10, 1.7491, 'DjibrilMohamedOmaimaDouae', '/article[1]/sec[6]')], [('-', '2009073', 'Q0', '10013', 10, 0.9476, 'DjibrilMohamedOmaimaDouae', '/article[1]/sec[6]'), ('-', '2009073', 'Q0', '10013', 11, 1.2127, 'DjibrilMohamedOmaimaDouae', '/article[1]/sec[1]'), ('-', '2009073', 'Q0', '10013', 12, 1.7913, 'DjibrilMohamedOmaimaDouae', '/article[1]/sec[12]')], [('-', '2009074', 'Q0', '10013', 12, 0.8349, 'DjibrilMohamedOmaimaDouae', '/article[1]/sec[10]'), ('-', '2009074', 'Q0', '10013', 13, 0.9476, 'DjibrilMohamedOmaimaDouae', '/article[1]/sec[6]'), ('-', '2009074', 'Q0', '10013', 14, 2.1572, 'DjibrilMohamedOmaimaDouae', '/article[1]/sec[4]')], [('-', '2009078', 'Q0', '10013', 14, 0.8349, 'DjibrilMohamedOmaimaDouae', '/article[1]/sec[10]')], [('-', '2009085', 'Q0', '10013', 14, 0.881, 'DjibrilMohamedOmaimaDouae', '/article[1]/sec[4]')]], [[('-', '2009011', 'Q0', '10136', 14, 1.2541, 'DjibrilMohamedOmaimaDouae', '/article[1]/sec[3]'), ('-', '2009011', 'Q0', '10136', 15, 2.6631, 'DjibrilMohamedOmaimaDouae', '/article[1]/sec[1]')], [], [('-', '2009067', 'Q0', '10136', 0, 0.185, 'DjibrilMohamedOmaimaDouae', '/article[1]/sec[5]'), ('-', '2009067', 'Q0', '10136', 1, 1.0301, 'DjibrilMohamedOmaimaDouae', '/article[1]/sec[1]'), ('-', '2009067', 'Q0', '10136', 2, 1.2251, 'DjibrilMohamedOmaimaDouae', '/article[1]/sec[2]'), ('-', '2009067', 'Q0', '10136', 3, 1.3177, 'DjibrilMohamedOmaimaDouae', '/article[1]/sec[4]'), ('-', '2009067', 'Q0', '10136', 4, 2.2054, 'DjibrilMohamedOmaimaDouae', '/article[1]/sec[3]')], [('-', '2009073', 'Q0', '10136', 4, 0.9267, 'DjibrilMohamedOmaimaDouae', '/article[1]/sec[6]'), ('-', '2009073', 'Q0', '10136', 5, 2.718, 'DjibrilMohamedOmaimaDouae', '/article[1]/sec[1]')], [('-', '2009074', 'Q0', '10136', 5, 0.8349, 'DjibrilMohamedOmaimaDouae', '/article[1]/sec[3]'), ('-', '2009074', 'Q0', '10136', 6, 0.8349, 'DjibrilMohamedOmaimaDouae', '/article[1]/sec[4]'), ('-', '2009074', 'Q0', '10136', 7, 0.8349, 'DjibrilMohamedOmaimaDouae', '/article[1]/sec[6]')], [('-', '2009078', 'Q0', '10136', 7, 0.8349, 'DjibrilMohamedOmaimaDouae', '/article[1]/sec[4]'), ('-', '2009078', 'Q0', '10136', 8, 2.6117, 'DjibrilMohamedOmaimaDouae', '/article[1]/sec[3]'), ('-', '2009078', 'Q0', '10136', 9, 3.78, 'DjibrilMohamedOmaimaDouae', '/article[1]/sec[6]')], [('-', '2009085', 'Q0', '10136', 9, 0.6771, 'DjibrilMohamedOmaimaDouae', '/article[1]/sec[2]'), ('-', '2009085', 'Q0', '10136', 10, 1.0002, 'DjibrilMohamedOmaimaDouae', '/article[1]/sec[6]'), ('-', '2009085', 'Q0', '10136', 11, 1.3543, 'DjibrilMohamedOmaimaDouae', '/article[1]/sec[1]'), ('-', '2009085', 'Q0', '10136', 12, 2.9558, 'DjibrilMohamedOmaimaDouae', '/article[1]/sec[3]'), ('-', '2009085', 'Q0', '10136', 13, 3.117, 'DjibrilMohamedOmaimaDouae', '/article[1]/sec[4]')]], [[], [('-', '2009036', 'Q0', '10793', 0, 1.5137, 'DjibrilMohamedOmaimaDouae', '/article[1]/sec[9]'), ('-', '2009036', 'Q0', '10793', 1, 2.2359, 'DjibrilMohamedOmaimaDouae', '/article[1]/sec[1]'), ('-', '2009036', 'Q0', '10793', 2, 2.425, 'DjibrilMohamedOmaimaDouae', '/article[1]/sec[8]'), ('-', '2009036', 'Q0', '10793', 3, 2.5717, 'DjibrilMohamedOmaimaDouae', '/article[1]/sec[5]'), ('-', '2009036', 'Q0', '10793', 4, 2.6916, 'DjibrilMohamedOmaimaDouae', '/article[1]/sec[4]'), ('-', '2009036', 'Q0', '10793', 5, 3.6029, 'DjibrilMohamedOmaimaDouae', '/article[1]/sec[10]'), ('-', '2009036', 'Q0', '10793', 6, 4.9501, 'DjibrilMohamedOmaimaDouae', '/article[1]/sec[3]'), ('-', '2009036', 'Q0', '10793', 7, 5.2052, 'DjibrilMohamedOmaimaDouae', '/article[1]/sec[7]'), ('-', '2009036', 'Q0', '10793', 8, 9.1743, 'DjibrilMohamedOmaimaDouae', '/article[1]/sec[6]'), ('-', '2009036', 'Q0', '10793', 9, 12.093, 'DjibrilMohamedOmaimaDouae', '/article[1]/sec[2]')], [('-', '2009067', 'Q0', '10793', 9, 0.185, 'DjibrilMohamedOmaimaDouae', '/article[1]/sec[8]'), ('-', '2009067', 'Q0', '10793', 10, 0.2732, 'DjibrilMohamedOmaimaDouae', '/article[1]/sec[3]'), ('-', '2009067', 'Q0', '10793', 11, 0.3142, 'DjibrilMohamedOmaimaDouae', '/article[1]/sec[5]'), ('-', '2009067', 'Q0', '10793', 12, 0.3289, 'DjibrilMohamedOmaimaDouae', '/article[1]/sec[1]'), ('-', '2009067', 'Q0', '10793', 13, 0.3289, 'DjibrilMohamedOmaimaDouae', '/article[1]/sec[4]'), ('-', '2009067', 'Q0', '10793', 14, 0.3289, 'DjibrilMohamedOmaimaDouae', '/article[1]/sec[6]'), ('-', '2009067', 'Q0', '10793', 15, 0.3614, 'DjibrilMohamedOmaimaDouae', '/article[1]/sec[7]'), ('-', '2009067', 'Q0', '10793', 16, 0.9851, 'DjibrilMohamedOmaimaDouae', '/article[1]/sec[10]'), ('-', '2009067', 'Q0', '10793', 17, 1.2741, 'DjibrilMohamedOmaimaDouae', '/article[1]/sec[2]')], [('-', '2009073', 'Q0', '10793', 17, 1.2127, 'DjibrilMohamedOmaimaDouae', '/article[1]/sec[4]')], [], [], []]]\n",
      "[[[('-', '2009011', 'Q0', '10013', 1, 1.2541, 'DjibrilMohamedOmaimaDouae', '/article[1]/sec[2]'), ('-', '2009011', 'Q0', '10013', 2, 1.6316, 'DjibrilMohamedOmaimaDouae', '/article[1]/sec[11]'), ('-', '2009011', 'Q0', '10013', 3, 1.6316, 'DjibrilMohamedOmaimaDouae', '/article[1]/sec[3]'), ('-', '2009011', 'Q0', '10013', 4, 1.6316, 'DjibrilMohamedOmaimaDouae', '/article[1]/sec[7]'), ('-', '2009011', 'Q0', '10013', 5, 1.68, 'DjibrilMohamedOmaimaDouae', '/article[1]/sec[6]'), ('-', '2009011', 'Q0', '10013', 6, 2.0091, 'DjibrilMohamedOmaimaDouae', '/article[1]/sec[12]'), ('-', '2009011', 'Q0', '10013', 7, 2.9341, 'DjibrilMohamedOmaimaDouae', '/article[1]/sec[8]'), ('-', '2009011', 'Q0', '10013', 8, 3.4399, 'DjibrilMohamedOmaimaDouae', '/article[1]/sec[4]')], [], [('-', '2009067', 'Q0', '10013', 0, 0.185, 'DjibrilMohamedOmaimaDouae', '/article[1]/sec[10]'), ('-', '2009067', 'Q0', '10013', 1, 0.185, 'DjibrilMohamedOmaimaDouae', '/article[1]/sec[7]'), ('-', '2009067', 'Q0', '10013', 2, 0.185, 'DjibrilMohamedOmaimaDouae', '/article[1]/sec[9]'), ('-', '2009067', 'Q0', '10013', 3, 0.3142, 'DjibrilMohamedOmaimaDouae', '/article[1]/sec[11]'), ('-', '2009067', 'Q0', '10013', 4, 0.3142, 'DjibrilMohamedOmaimaDouae', '/article[1]/sec[12]'), ('-', '2009067', 'Q0', '10013', 5, 0.3289, 'DjibrilMohamedOmaimaDouae', '/article[1]/sec[3]'), ('-', '2009067', 'Q0', '10013', 6, 0.4295, 'DjibrilMohamedOmaimaDouae', '/article[1]/sec[8]'), ('-', '2009067', 'Q0', '10013', 7, 1.0664, 'DjibrilMohamedOmaimaDouae', '/article[1]/sec[5]'), ('-', '2009067', 'Q0', '10013', 8, 1.2482, 'DjibrilMohamedOmaimaDouae', '/article[1]/sec[4]'), ('-', '2009067', 'Q0', '10013', 9, 1.3317, 'DjibrilMohamedOmaimaDouae', '/article[1]/sec[1]'), ('-', '2009067', 'Q0', '10013', 10, 1.7491, 'DjibrilMohamedOmaimaDouae', '/article[1]/sec[6]')], [('-', '2009073', 'Q0', '10013', 10, 0.9476, 'DjibrilMohamedOmaimaDouae', '/article[1]/sec[6]'), ('-', '2009073', 'Q0', '10013', 11, 1.2127, 'DjibrilMohamedOmaimaDouae', '/article[1]/sec[1]'), ('-', '2009073', 'Q0', '10013', 12, 1.7913, 'DjibrilMohamedOmaimaDouae', '/article[1]/sec[12]')], [('-', '2009074', 'Q0', '10013', 12, 0.8349, 'DjibrilMohamedOmaimaDouae', '/article[1]/sec[10]'), ('-', '2009074', 'Q0', '10013', 13, 0.9476, 'DjibrilMohamedOmaimaDouae', '/article[1]/sec[6]'), ('-', '2009074', 'Q0', '10013', 14, 2.1572, 'DjibrilMohamedOmaimaDouae', '/article[1]/sec[4]')], [('-', '2009078', 'Q0', '10013', 14, 0.8349, 'DjibrilMohamedOmaimaDouae', '/article[1]/sec[10]')], [('-', '2009085', 'Q0', '10013', 14, 0.881, 'DjibrilMohamedOmaimaDouae', '/article[1]/sec[4]')]], [[('-', '2009011', 'Q0', '10136', 14, 1.2541, 'DjibrilMohamedOmaimaDouae', '/article[1]/sec[3]'), ('-', '2009011', 'Q0', '10136', 15, 2.6631, 'DjibrilMohamedOmaimaDouae', '/article[1]/sec[1]')], [], [('-', '2009067', 'Q0', '10136', 0, 0.185, 'DjibrilMohamedOmaimaDouae', '/article[1]/sec[5]'), ('-', '2009067', 'Q0', '10136', 1, 1.0301, 'DjibrilMohamedOmaimaDouae', '/article[1]/sec[1]'), ('-', '2009067', 'Q0', '10136', 2, 1.2251, 'DjibrilMohamedOmaimaDouae', '/article[1]/sec[2]'), ('-', '2009067', 'Q0', '10136', 3, 1.3177, 'DjibrilMohamedOmaimaDouae', '/article[1]/sec[4]'), ('-', '2009067', 'Q0', '10136', 4, 2.2054, 'DjibrilMohamedOmaimaDouae', '/article[1]/sec[3]')], [('-', '2009073', 'Q0', '10136', 4, 0.9267, 'DjibrilMohamedOmaimaDouae', '/article[1]/sec[6]'), ('-', '2009073', 'Q0', '10136', 5, 2.718, 'DjibrilMohamedOmaimaDouae', '/article[1]/sec[1]')], [('-', '2009074', 'Q0', '10136', 5, 0.8349, 'DjibrilMohamedOmaimaDouae', '/article[1]/sec[3]'), ('-', '2009074', 'Q0', '10136', 6, 0.8349, 'DjibrilMohamedOmaimaDouae', '/article[1]/sec[4]'), ('-', '2009074', 'Q0', '10136', 7, 0.8349, 'DjibrilMohamedOmaimaDouae', '/article[1]/sec[6]')], [('-', '2009078', 'Q0', '10136', 7, 0.8349, 'DjibrilMohamedOmaimaDouae', '/article[1]/sec[4]'), ('-', '2009078', 'Q0', '10136', 8, 2.6117, 'DjibrilMohamedOmaimaDouae', '/article[1]/sec[3]'), ('-', '2009078', 'Q0', '10136', 9, 3.78, 'DjibrilMohamedOmaimaDouae', '/article[1]/sec[6]')], [('-', '2009085', 'Q0', '10136', 9, 0.6771, 'DjibrilMohamedOmaimaDouae', '/article[1]/sec[2]'), ('-', '2009085', 'Q0', '10136', 10, 1.0002, 'DjibrilMohamedOmaimaDouae', '/article[1]/sec[6]'), ('-', '2009085', 'Q0', '10136', 11, 1.3543, 'DjibrilMohamedOmaimaDouae', '/article[1]/sec[1]'), ('-', '2009085', 'Q0', '10136', 12, 2.9558, 'DjibrilMohamedOmaimaDouae', '/article[1]/sec[3]'), ('-', '2009085', 'Q0', '10136', 13, 3.117, 'DjibrilMohamedOmaimaDouae', '/article[1]/sec[4]')]], [[], [('-', '2009036', 'Q0', '10793', 0, 1.5137, 'DjibrilMohamedOmaimaDouae', '/article[1]/sec[9]'), ('-', '2009036', 'Q0', '10793', 1, 2.2359, 'DjibrilMohamedOmaimaDouae', '/article[1]/sec[1]'), ('-', '2009036', 'Q0', '10793', 2, 2.425, 'DjibrilMohamedOmaimaDouae', '/article[1]/sec[8]'), ('-', '2009036', 'Q0', '10793', 3, 2.5717, 'DjibrilMohamedOmaimaDouae', '/article[1]/sec[5]'), ('-', '2009036', 'Q0', '10793', 4, 2.6916, 'DjibrilMohamedOmaimaDouae', '/article[1]/sec[4]'), ('-', '2009036', 'Q0', '10793', 5, 3.6029, 'DjibrilMohamedOmaimaDouae', '/article[1]/sec[10]'), ('-', '2009036', 'Q0', '10793', 6, 4.9501, 'DjibrilMohamedOmaimaDouae', '/article[1]/sec[3]'), ('-', '2009036', 'Q0', '10793', 7, 5.2052, 'DjibrilMohamedOmaimaDouae', '/article[1]/sec[7]'), ('-', '2009036', 'Q0', '10793', 8, 9.1743, 'DjibrilMohamedOmaimaDouae', '/article[1]/sec[6]'), ('-', '2009036', 'Q0', '10793', 9, 12.093, 'DjibrilMohamedOmaimaDouae', '/article[1]/sec[2]')], [('-', '2009067', 'Q0', '10793', 9, 0.185, 'DjibrilMohamedOmaimaDouae', '/article[1]/sec[8]'), ('-', '2009067', 'Q0', '10793', 10, 0.2732, 'DjibrilMohamedOmaimaDouae', '/article[1]/sec[3]'), ('-', '2009067', 'Q0', '10793', 11, 0.3142, 'DjibrilMohamedOmaimaDouae', '/article[1]/sec[5]'), ('-', '2009067', 'Q0', '10793', 12, 0.3289, 'DjibrilMohamedOmaimaDouae', '/article[1]/sec[1]'), ('-', '2009067', 'Q0', '10793', 13, 0.3289, 'DjibrilMohamedOmaimaDouae', '/article[1]/sec[4]'), ('-', '2009067', 'Q0', '10793', 14, 0.3289, 'DjibrilMohamedOmaimaDouae', '/article[1]/sec[6]'), ('-', '2009067', 'Q0', '10793', 15, 0.3614, 'DjibrilMohamedOmaimaDouae', '/article[1]/sec[7]'), ('-', '2009067', 'Q0', '10793', 16, 0.9851, 'DjibrilMohamedOmaimaDouae', '/article[1]/sec[10]'), ('-', '2009067', 'Q0', '10793', 17, 1.2741, 'DjibrilMohamedOmaimaDouae', '/article[1]/sec[2]')], [('-', '2009073', 'Q0', '10793', 17, 1.2127, 'DjibrilMohamedOmaimaDouae', '/article[1]/sec[4]')], [], [], []], [[('-', '2009011', 'Q0', '11286', 0, 1.2541, 'DjibrilMohamedOmaimaDouae', '/article[1]/sec[2]'), ('-', '2009011', 'Q0', '11286', 1, 1.8524, 'DjibrilMohamedOmaimaDouae', '/article[1]/sec[6]'), ('-', '2009011', 'Q0', '11286', 2, 2.0091, 'DjibrilMohamedOmaimaDouae', '/article[1]/sec[3]')], [('-', '2009036', 'Q0', '11286', 2, 5.8492, 'DjibrilMohamedOmaimaDouae', '/article[1]/sec[4]')], [('-', '2009067', 'Q0', '11286', 2, 0.185, 'DjibrilMohamedOmaimaDouae', '/article[1]/sec[1]'), ('-', '2009067', 'Q0', '11286', 3, 0.2963, 'DjibrilMohamedOmaimaDouae', '/article[1]/sec[2]'), ('-', '2009067', 'Q0', '11286', 4, 0.3289, 'DjibrilMohamedOmaimaDouae', '/article[1]/sec[4]'), ('-', '2009067', 'Q0', '11286', 5, 0.3413, 'DjibrilMohamedOmaimaDouae', '/article[1]/sec[3]'), ('-', '2009067', 'Q0', '11286', 6, 0.8738, 'DjibrilMohamedOmaimaDouae', '/article[1]/sec[7]'), ('-', '2009067', 'Q0', '11286', 7, 0.9294, 'DjibrilMohamedOmaimaDouae', '/article[1]/sec[6]')], [('-', '2009073', 'Q0', '11286', 7, 0.9267, 'DjibrilMohamedOmaimaDouae', '/article[1]/sec[7]')], [], [('-', '2009078', 'Q0', '11286', 0, 1.2029, 'DjibrilMohamedOmaimaDouae', '/article[1]/sec[4]')], []]]\n",
      "[[[('-', '2009011', 'Q0', '10013', 1, 1.2541, 'DjibrilMohamedOmaimaDouae', '/article[1]/sec[2]'), ('-', '2009011', 'Q0', '10013', 2, 1.6316, 'DjibrilMohamedOmaimaDouae', '/article[1]/sec[11]'), ('-', '2009011', 'Q0', '10013', 3, 1.6316, 'DjibrilMohamedOmaimaDouae', '/article[1]/sec[3]'), ('-', '2009011', 'Q0', '10013', 4, 1.6316, 'DjibrilMohamedOmaimaDouae', '/article[1]/sec[7]'), ('-', '2009011', 'Q0', '10013', 5, 1.68, 'DjibrilMohamedOmaimaDouae', '/article[1]/sec[6]'), ('-', '2009011', 'Q0', '10013', 6, 2.0091, 'DjibrilMohamedOmaimaDouae', '/article[1]/sec[12]'), ('-', '2009011', 'Q0', '10013', 7, 2.9341, 'DjibrilMohamedOmaimaDouae', '/article[1]/sec[8]'), ('-', '2009011', 'Q0', '10013', 8, 3.4399, 'DjibrilMohamedOmaimaDouae', '/article[1]/sec[4]')], [], [('-', '2009067', 'Q0', '10013', 0, 0.185, 'DjibrilMohamedOmaimaDouae', '/article[1]/sec[10]'), ('-', '2009067', 'Q0', '10013', 1, 0.185, 'DjibrilMohamedOmaimaDouae', '/article[1]/sec[7]'), ('-', '2009067', 'Q0', '10013', 2, 0.185, 'DjibrilMohamedOmaimaDouae', '/article[1]/sec[9]'), ('-', '2009067', 'Q0', '10013', 3, 0.3142, 'DjibrilMohamedOmaimaDouae', '/article[1]/sec[11]'), ('-', '2009067', 'Q0', '10013', 4, 0.3142, 'DjibrilMohamedOmaimaDouae', '/article[1]/sec[12]'), ('-', '2009067', 'Q0', '10013', 5, 0.3289, 'DjibrilMohamedOmaimaDouae', '/article[1]/sec[3]'), ('-', '2009067', 'Q0', '10013', 6, 0.4295, 'DjibrilMohamedOmaimaDouae', '/article[1]/sec[8]'), ('-', '2009067', 'Q0', '10013', 7, 1.0664, 'DjibrilMohamedOmaimaDouae', '/article[1]/sec[5]'), ('-', '2009067', 'Q0', '10013', 8, 1.2482, 'DjibrilMohamedOmaimaDouae', '/article[1]/sec[4]'), ('-', '2009067', 'Q0', '10013', 9, 1.3317, 'DjibrilMohamedOmaimaDouae', '/article[1]/sec[1]'), ('-', '2009067', 'Q0', '10013', 10, 1.7491, 'DjibrilMohamedOmaimaDouae', '/article[1]/sec[6]')], [('-', '2009073', 'Q0', '10013', 10, 0.9476, 'DjibrilMohamedOmaimaDouae', '/article[1]/sec[6]'), ('-', '2009073', 'Q0', '10013', 11, 1.2127, 'DjibrilMohamedOmaimaDouae', '/article[1]/sec[1]'), ('-', '2009073', 'Q0', '10013', 12, 1.7913, 'DjibrilMohamedOmaimaDouae', '/article[1]/sec[12]')], [('-', '2009074', 'Q0', '10013', 12, 0.8349, 'DjibrilMohamedOmaimaDouae', '/article[1]/sec[10]'), ('-', '2009074', 'Q0', '10013', 13, 0.9476, 'DjibrilMohamedOmaimaDouae', '/article[1]/sec[6]'), ('-', '2009074', 'Q0', '10013', 14, 2.1572, 'DjibrilMohamedOmaimaDouae', '/article[1]/sec[4]')], [('-', '2009078', 'Q0', '10013', 14, 0.8349, 'DjibrilMohamedOmaimaDouae', '/article[1]/sec[10]')], [('-', '2009085', 'Q0', '10013', 14, 0.881, 'DjibrilMohamedOmaimaDouae', '/article[1]/sec[4]')]], [[('-', '2009011', 'Q0', '10136', 14, 1.2541, 'DjibrilMohamedOmaimaDouae', '/article[1]/sec[3]'), ('-', '2009011', 'Q0', '10136', 15, 2.6631, 'DjibrilMohamedOmaimaDouae', '/article[1]/sec[1]')], [], [('-', '2009067', 'Q0', '10136', 0, 0.185, 'DjibrilMohamedOmaimaDouae', '/article[1]/sec[5]'), ('-', '2009067', 'Q0', '10136', 1, 1.0301, 'DjibrilMohamedOmaimaDouae', '/article[1]/sec[1]'), ('-', '2009067', 'Q0', '10136', 2, 1.2251, 'DjibrilMohamedOmaimaDouae', '/article[1]/sec[2]'), ('-', '2009067', 'Q0', '10136', 3, 1.3177, 'DjibrilMohamedOmaimaDouae', '/article[1]/sec[4]'), ('-', '2009067', 'Q0', '10136', 4, 2.2054, 'DjibrilMohamedOmaimaDouae', '/article[1]/sec[3]')], [('-', '2009073', 'Q0', '10136', 4, 0.9267, 'DjibrilMohamedOmaimaDouae', '/article[1]/sec[6]'), ('-', '2009073', 'Q0', '10136', 5, 2.718, 'DjibrilMohamedOmaimaDouae', '/article[1]/sec[1]')], [('-', '2009074', 'Q0', '10136', 5, 0.8349, 'DjibrilMohamedOmaimaDouae', '/article[1]/sec[3]'), ('-', '2009074', 'Q0', '10136', 6, 0.8349, 'DjibrilMohamedOmaimaDouae', '/article[1]/sec[4]'), ('-', '2009074', 'Q0', '10136', 7, 0.8349, 'DjibrilMohamedOmaimaDouae', '/article[1]/sec[6]')], [('-', '2009078', 'Q0', '10136', 7, 0.8349, 'DjibrilMohamedOmaimaDouae', '/article[1]/sec[4]'), ('-', '2009078', 'Q0', '10136', 8, 2.6117, 'DjibrilMohamedOmaimaDouae', '/article[1]/sec[3]'), ('-', '2009078', 'Q0', '10136', 9, 3.78, 'DjibrilMohamedOmaimaDouae', '/article[1]/sec[6]')], [('-', '2009085', 'Q0', '10136', 9, 0.6771, 'DjibrilMohamedOmaimaDouae', '/article[1]/sec[2]'), ('-', '2009085', 'Q0', '10136', 10, 1.0002, 'DjibrilMohamedOmaimaDouae', '/article[1]/sec[6]'), ('-', '2009085', 'Q0', '10136', 11, 1.3543, 'DjibrilMohamedOmaimaDouae', '/article[1]/sec[1]'), ('-', '2009085', 'Q0', '10136', 12, 2.9558, 'DjibrilMohamedOmaimaDouae', '/article[1]/sec[3]'), ('-', '2009085', 'Q0', '10136', 13, 3.117, 'DjibrilMohamedOmaimaDouae', '/article[1]/sec[4]')]], [[], [('-', '2009036', 'Q0', '10793', 0, 1.5137, 'DjibrilMohamedOmaimaDouae', '/article[1]/sec[9]'), ('-', '2009036', 'Q0', '10793', 1, 2.2359, 'DjibrilMohamedOmaimaDouae', '/article[1]/sec[1]'), ('-', '2009036', 'Q0', '10793', 2, 2.425, 'DjibrilMohamedOmaimaDouae', '/article[1]/sec[8]'), ('-', '2009036', 'Q0', '10793', 3, 2.5717, 'DjibrilMohamedOmaimaDouae', '/article[1]/sec[5]'), ('-', '2009036', 'Q0', '10793', 4, 2.6916, 'DjibrilMohamedOmaimaDouae', '/article[1]/sec[4]'), ('-', '2009036', 'Q0', '10793', 5, 3.6029, 'DjibrilMohamedOmaimaDouae', '/article[1]/sec[10]'), ('-', '2009036', 'Q0', '10793', 6, 4.9501, 'DjibrilMohamedOmaimaDouae', '/article[1]/sec[3]'), ('-', '2009036', 'Q0', '10793', 7, 5.2052, 'DjibrilMohamedOmaimaDouae', '/article[1]/sec[7]'), ('-', '2009036', 'Q0', '10793', 8, 9.1743, 'DjibrilMohamedOmaimaDouae', '/article[1]/sec[6]'), ('-', '2009036', 'Q0', '10793', 9, 12.093, 'DjibrilMohamedOmaimaDouae', '/article[1]/sec[2]')], [('-', '2009067', 'Q0', '10793', 9, 0.185, 'DjibrilMohamedOmaimaDouae', '/article[1]/sec[8]'), ('-', '2009067', 'Q0', '10793', 10, 0.2732, 'DjibrilMohamedOmaimaDouae', '/article[1]/sec[3]'), ('-', '2009067', 'Q0', '10793', 11, 0.3142, 'DjibrilMohamedOmaimaDouae', '/article[1]/sec[5]'), ('-', '2009067', 'Q0', '10793', 12, 0.3289, 'DjibrilMohamedOmaimaDouae', '/article[1]/sec[1]'), ('-', '2009067', 'Q0', '10793', 13, 0.3289, 'DjibrilMohamedOmaimaDouae', '/article[1]/sec[4]'), ('-', '2009067', 'Q0', '10793', 14, 0.3289, 'DjibrilMohamedOmaimaDouae', '/article[1]/sec[6]'), ('-', '2009067', 'Q0', '10793', 15, 0.3614, 'DjibrilMohamedOmaimaDouae', '/article[1]/sec[7]'), ('-', '2009067', 'Q0', '10793', 16, 0.9851, 'DjibrilMohamedOmaimaDouae', '/article[1]/sec[10]'), ('-', '2009067', 'Q0', '10793', 17, 1.2741, 'DjibrilMohamedOmaimaDouae', '/article[1]/sec[2]')], [('-', '2009073', 'Q0', '10793', 17, 1.2127, 'DjibrilMohamedOmaimaDouae', '/article[1]/sec[4]')], [], [], []], [[('-', '2009011', 'Q0', '11286', 0, 1.2541, 'DjibrilMohamedOmaimaDouae', '/article[1]/sec[2]'), ('-', '2009011', 'Q0', '11286', 1, 1.8524, 'DjibrilMohamedOmaimaDouae', '/article[1]/sec[6]'), ('-', '2009011', 'Q0', '11286', 2, 2.0091, 'DjibrilMohamedOmaimaDouae', '/article[1]/sec[3]')], [('-', '2009036', 'Q0', '11286', 2, 5.8492, 'DjibrilMohamedOmaimaDouae', '/article[1]/sec[4]')], [('-', '2009067', 'Q0', '11286', 2, 0.185, 'DjibrilMohamedOmaimaDouae', '/article[1]/sec[1]'), ('-', '2009067', 'Q0', '11286', 3, 0.2963, 'DjibrilMohamedOmaimaDouae', '/article[1]/sec[2]'), ('-', '2009067', 'Q0', '11286', 4, 0.3289, 'DjibrilMohamedOmaimaDouae', '/article[1]/sec[4]'), ('-', '2009067', 'Q0', '11286', 5, 0.3413, 'DjibrilMohamedOmaimaDouae', '/article[1]/sec[3]'), ('-', '2009067', 'Q0', '11286', 6, 0.8738, 'DjibrilMohamedOmaimaDouae', '/article[1]/sec[7]'), ('-', '2009067', 'Q0', '11286', 7, 0.9294, 'DjibrilMohamedOmaimaDouae', '/article[1]/sec[6]')], [('-', '2009073', 'Q0', '11286', 7, 0.9267, 'DjibrilMohamedOmaimaDouae', '/article[1]/sec[7]')], [], [('-', '2009078', 'Q0', '11286', 0, 1.2029, 'DjibrilMohamedOmaimaDouae', '/article[1]/sec[4]')], []], [[], [], [('-', '2009067', 'Q0', '11298', 0, 0.185, 'DjibrilMohamedOmaimaDouae', '/article[1]/sec[5]'), ('-', '2009067', 'Q0', '11298', 1, 0.185, 'DjibrilMohamedOmaimaDouae', '/article[1]/sec[7]'), ('-', '2009067', 'Q0', '11298', 2, 0.4402, 'DjibrilMohamedOmaimaDouae', '/article[1]/sec[2]'), ('-', '2009067', 'Q0', '11298', 3, 0.4658, 'DjibrilMohamedOmaimaDouae', '/article[1]/sec[1]'), ('-', '2009067', 'Q0', '11298', 4, 2.4937, 'DjibrilMohamedOmaimaDouae', '/article[1]/sec[3]')], [('-', '2009073', 'Q0', '11298', 4, 1.2127, 'DjibrilMohamedOmaimaDouae', '/article[1]/sec[2]')], [], [], [('-', '2009085', 'Q0', '11298', 0, 0.6771, 'DjibrilMohamedOmaimaDouae', '/article[1]/sec[3]'), ('-', '2009085', 'Q0', '11298', 1, 1.0002, 'DjibrilMohamedOmaimaDouae', '/article[1]/sec[2]'), ('-', '2009085', 'Q0', '11298', 2, 1.2041, 'DjibrilMohamedOmaimaDouae', '/article[1]/sec[1]')]]]\n",
      "[[[('-', '2009011', 'Q0', '10013', 1, 1.2541, 'DjibrilMohamedOmaimaDouae', '/article[1]/sec[2]'), ('-', '2009011', 'Q0', '10013', 2, 1.6316, 'DjibrilMohamedOmaimaDouae', '/article[1]/sec[11]'), ('-', '2009011', 'Q0', '10013', 3, 1.6316, 'DjibrilMohamedOmaimaDouae', '/article[1]/sec[3]'), ('-', '2009011', 'Q0', '10013', 4, 1.6316, 'DjibrilMohamedOmaimaDouae', '/article[1]/sec[7]'), ('-', '2009011', 'Q0', '10013', 5, 1.68, 'DjibrilMohamedOmaimaDouae', '/article[1]/sec[6]'), ('-', '2009011', 'Q0', '10013', 6, 2.0091, 'DjibrilMohamedOmaimaDouae', '/article[1]/sec[12]'), ('-', '2009011', 'Q0', '10013', 7, 2.9341, 'DjibrilMohamedOmaimaDouae', '/article[1]/sec[8]'), ('-', '2009011', 'Q0', '10013', 8, 3.4399, 'DjibrilMohamedOmaimaDouae', '/article[1]/sec[4]')], [], [('-', '2009067', 'Q0', '10013', 0, 0.185, 'DjibrilMohamedOmaimaDouae', '/article[1]/sec[10]'), ('-', '2009067', 'Q0', '10013', 1, 0.185, 'DjibrilMohamedOmaimaDouae', '/article[1]/sec[7]'), ('-', '2009067', 'Q0', '10013', 2, 0.185, 'DjibrilMohamedOmaimaDouae', '/article[1]/sec[9]'), ('-', '2009067', 'Q0', '10013', 3, 0.3142, 'DjibrilMohamedOmaimaDouae', '/article[1]/sec[11]'), ('-', '2009067', 'Q0', '10013', 4, 0.3142, 'DjibrilMohamedOmaimaDouae', '/article[1]/sec[12]'), ('-', '2009067', 'Q0', '10013', 5, 0.3289, 'DjibrilMohamedOmaimaDouae', '/article[1]/sec[3]'), ('-', '2009067', 'Q0', '10013', 6, 0.4295, 'DjibrilMohamedOmaimaDouae', '/article[1]/sec[8]'), ('-', '2009067', 'Q0', '10013', 7, 1.0664, 'DjibrilMohamedOmaimaDouae', '/article[1]/sec[5]'), ('-', '2009067', 'Q0', '10013', 8, 1.2482, 'DjibrilMohamedOmaimaDouae', '/article[1]/sec[4]'), ('-', '2009067', 'Q0', '10013', 9, 1.3317, 'DjibrilMohamedOmaimaDouae', '/article[1]/sec[1]'), ('-', '2009067', 'Q0', '10013', 10, 1.7491, 'DjibrilMohamedOmaimaDouae', '/article[1]/sec[6]')], [('-', '2009073', 'Q0', '10013', 10, 0.9476, 'DjibrilMohamedOmaimaDouae', '/article[1]/sec[6]'), ('-', '2009073', 'Q0', '10013', 11, 1.2127, 'DjibrilMohamedOmaimaDouae', '/article[1]/sec[1]'), ('-', '2009073', 'Q0', '10013', 12, 1.7913, 'DjibrilMohamedOmaimaDouae', '/article[1]/sec[12]')], [('-', '2009074', 'Q0', '10013', 12, 0.8349, 'DjibrilMohamedOmaimaDouae', '/article[1]/sec[10]'), ('-', '2009074', 'Q0', '10013', 13, 0.9476, 'DjibrilMohamedOmaimaDouae', '/article[1]/sec[6]'), ('-', '2009074', 'Q0', '10013', 14, 2.1572, 'DjibrilMohamedOmaimaDouae', '/article[1]/sec[4]')], [('-', '2009078', 'Q0', '10013', 14, 0.8349, 'DjibrilMohamedOmaimaDouae', '/article[1]/sec[10]')], [('-', '2009085', 'Q0', '10013', 14, 0.881, 'DjibrilMohamedOmaimaDouae', '/article[1]/sec[4]')]], [[('-', '2009011', 'Q0', '10136', 14, 1.2541, 'DjibrilMohamedOmaimaDouae', '/article[1]/sec[3]'), ('-', '2009011', 'Q0', '10136', 15, 2.6631, 'DjibrilMohamedOmaimaDouae', '/article[1]/sec[1]')], [], [('-', '2009067', 'Q0', '10136', 0, 0.185, 'DjibrilMohamedOmaimaDouae', '/article[1]/sec[5]'), ('-', '2009067', 'Q0', '10136', 1, 1.0301, 'DjibrilMohamedOmaimaDouae', '/article[1]/sec[1]'), ('-', '2009067', 'Q0', '10136', 2, 1.2251, 'DjibrilMohamedOmaimaDouae', '/article[1]/sec[2]'), ('-', '2009067', 'Q0', '10136', 3, 1.3177, 'DjibrilMohamedOmaimaDouae', '/article[1]/sec[4]'), ('-', '2009067', 'Q0', '10136', 4, 2.2054, 'DjibrilMohamedOmaimaDouae', '/article[1]/sec[3]')], [('-', '2009073', 'Q0', '10136', 4, 0.9267, 'DjibrilMohamedOmaimaDouae', '/article[1]/sec[6]'), ('-', '2009073', 'Q0', '10136', 5, 2.718, 'DjibrilMohamedOmaimaDouae', '/article[1]/sec[1]')], [('-', '2009074', 'Q0', '10136', 5, 0.8349, 'DjibrilMohamedOmaimaDouae', '/article[1]/sec[3]'), ('-', '2009074', 'Q0', '10136', 6, 0.8349, 'DjibrilMohamedOmaimaDouae', '/article[1]/sec[4]'), ('-', '2009074', 'Q0', '10136', 7, 0.8349, 'DjibrilMohamedOmaimaDouae', '/article[1]/sec[6]')], [('-', '2009078', 'Q0', '10136', 7, 0.8349, 'DjibrilMohamedOmaimaDouae', '/article[1]/sec[4]'), ('-', '2009078', 'Q0', '10136', 8, 2.6117, 'DjibrilMohamedOmaimaDouae', '/article[1]/sec[3]'), ('-', '2009078', 'Q0', '10136', 9, 3.78, 'DjibrilMohamedOmaimaDouae', '/article[1]/sec[6]')], [('-', '2009085', 'Q0', '10136', 9, 0.6771, 'DjibrilMohamedOmaimaDouae', '/article[1]/sec[2]'), ('-', '2009085', 'Q0', '10136', 10, 1.0002, 'DjibrilMohamedOmaimaDouae', '/article[1]/sec[6]'), ('-', '2009085', 'Q0', '10136', 11, 1.3543, 'DjibrilMohamedOmaimaDouae', '/article[1]/sec[1]'), ('-', '2009085', 'Q0', '10136', 12, 2.9558, 'DjibrilMohamedOmaimaDouae', '/article[1]/sec[3]'), ('-', '2009085', 'Q0', '10136', 13, 3.117, 'DjibrilMohamedOmaimaDouae', '/article[1]/sec[4]')]], [[], [('-', '2009036', 'Q0', '10793', 0, 1.5137, 'DjibrilMohamedOmaimaDouae', '/article[1]/sec[9]'), ('-', '2009036', 'Q0', '10793', 1, 2.2359, 'DjibrilMohamedOmaimaDouae', '/article[1]/sec[1]'), ('-', '2009036', 'Q0', '10793', 2, 2.425, 'DjibrilMohamedOmaimaDouae', '/article[1]/sec[8]'), ('-', '2009036', 'Q0', '10793', 3, 2.5717, 'DjibrilMohamedOmaimaDouae', '/article[1]/sec[5]'), ('-', '2009036', 'Q0', '10793', 4, 2.6916, 'DjibrilMohamedOmaimaDouae', '/article[1]/sec[4]'), ('-', '2009036', 'Q0', '10793', 5, 3.6029, 'DjibrilMohamedOmaimaDouae', '/article[1]/sec[10]'), ('-', '2009036', 'Q0', '10793', 6, 4.9501, 'DjibrilMohamedOmaimaDouae', '/article[1]/sec[3]'), ('-', '2009036', 'Q0', '10793', 7, 5.2052, 'DjibrilMohamedOmaimaDouae', '/article[1]/sec[7]'), ('-', '2009036', 'Q0', '10793', 8, 9.1743, 'DjibrilMohamedOmaimaDouae', '/article[1]/sec[6]'), ('-', '2009036', 'Q0', '10793', 9, 12.093, 'DjibrilMohamedOmaimaDouae', '/article[1]/sec[2]')], [('-', '2009067', 'Q0', '10793', 9, 0.185, 'DjibrilMohamedOmaimaDouae', '/article[1]/sec[8]'), ('-', '2009067', 'Q0', '10793', 10, 0.2732, 'DjibrilMohamedOmaimaDouae', '/article[1]/sec[3]'), ('-', '2009067', 'Q0', '10793', 11, 0.3142, 'DjibrilMohamedOmaimaDouae', '/article[1]/sec[5]'), ('-', '2009067', 'Q0', '10793', 12, 0.3289, 'DjibrilMohamedOmaimaDouae', '/article[1]/sec[1]'), ('-', '2009067', 'Q0', '10793', 13, 0.3289, 'DjibrilMohamedOmaimaDouae', '/article[1]/sec[4]'), ('-', '2009067', 'Q0', '10793', 14, 0.3289, 'DjibrilMohamedOmaimaDouae', '/article[1]/sec[6]'), ('-', '2009067', 'Q0', '10793', 15, 0.3614, 'DjibrilMohamedOmaimaDouae', '/article[1]/sec[7]'), ('-', '2009067', 'Q0', '10793', 16, 0.9851, 'DjibrilMohamedOmaimaDouae', '/article[1]/sec[10]'), ('-', '2009067', 'Q0', '10793', 17, 1.2741, 'DjibrilMohamedOmaimaDouae', '/article[1]/sec[2]')], [('-', '2009073', 'Q0', '10793', 17, 1.2127, 'DjibrilMohamedOmaimaDouae', '/article[1]/sec[4]')], [], [], []], [[('-', '2009011', 'Q0', '11286', 0, 1.2541, 'DjibrilMohamedOmaimaDouae', '/article[1]/sec[2]'), ('-', '2009011', 'Q0', '11286', 1, 1.8524, 'DjibrilMohamedOmaimaDouae', '/article[1]/sec[6]'), ('-', '2009011', 'Q0', '11286', 2, 2.0091, 'DjibrilMohamedOmaimaDouae', '/article[1]/sec[3]')], [('-', '2009036', 'Q0', '11286', 2, 5.8492, 'DjibrilMohamedOmaimaDouae', '/article[1]/sec[4]')], [('-', '2009067', 'Q0', '11286', 2, 0.185, 'DjibrilMohamedOmaimaDouae', '/article[1]/sec[1]'), ('-', '2009067', 'Q0', '11286', 3, 0.2963, 'DjibrilMohamedOmaimaDouae', '/article[1]/sec[2]'), ('-', '2009067', 'Q0', '11286', 4, 0.3289, 'DjibrilMohamedOmaimaDouae', '/article[1]/sec[4]'), ('-', '2009067', 'Q0', '11286', 5, 0.3413, 'DjibrilMohamedOmaimaDouae', '/article[1]/sec[3]'), ('-', '2009067', 'Q0', '11286', 6, 0.8738, 'DjibrilMohamedOmaimaDouae', '/article[1]/sec[7]'), ('-', '2009067', 'Q0', '11286', 7, 0.9294, 'DjibrilMohamedOmaimaDouae', '/article[1]/sec[6]')], [('-', '2009073', 'Q0', '11286', 7, 0.9267, 'DjibrilMohamedOmaimaDouae', '/article[1]/sec[7]')], [], [('-', '2009078', 'Q0', '11286', 0, 1.2029, 'DjibrilMohamedOmaimaDouae', '/article[1]/sec[4]')], []], [[], [], [('-', '2009067', 'Q0', '11298', 0, 0.185, 'DjibrilMohamedOmaimaDouae', '/article[1]/sec[5]'), ('-', '2009067', 'Q0', '11298', 1, 0.185, 'DjibrilMohamedOmaimaDouae', '/article[1]/sec[7]'), ('-', '2009067', 'Q0', '11298', 2, 0.4402, 'DjibrilMohamedOmaimaDouae', '/article[1]/sec[2]'), ('-', '2009067', 'Q0', '11298', 3, 0.4658, 'DjibrilMohamedOmaimaDouae', '/article[1]/sec[1]'), ('-', '2009067', 'Q0', '11298', 4, 2.4937, 'DjibrilMohamedOmaimaDouae', '/article[1]/sec[3]')], [('-', '2009073', 'Q0', '11298', 4, 1.2127, 'DjibrilMohamedOmaimaDouae', '/article[1]/sec[2]')], [], [], [('-', '2009085', 'Q0', '11298', 0, 0.6771, 'DjibrilMohamedOmaimaDouae', '/article[1]/sec[3]'), ('-', '2009085', 'Q0', '11298', 1, 1.0002, 'DjibrilMohamedOmaimaDouae', '/article[1]/sec[2]'), ('-', '2009085', 'Q0', '11298', 2, 1.2041, 'DjibrilMohamedOmaimaDouae', '/article[1]/sec[1]')]], [[('-', '2009011', 'Q0', '12431', 2, 1.2541, 'DjibrilMohamedOmaimaDouae', '/article[1]/sec[8]')], [], [('-', '2009067', 'Q0', '12431', 0, 0.2406, 'DjibrilMohamedOmaimaDouae', '/article[1]/sec[4]'), ('-', '2009067', 'Q0', '12431', 1, 0.2732, 'DjibrilMohamedOmaimaDouae', '/article[1]/sec[7]'), ('-', '2009067', 'Q0', '12431', 2, 0.3289, 'DjibrilMohamedOmaimaDouae', '/article[1]/sec[3]'), ('-', '2009067', 'Q0', '12431', 3, 0.3776, 'DjibrilMohamedOmaimaDouae', '/article[1]/sec[1]'), ('-', '2009067', 'Q0', '12431', 4, 0.6888, 'DjibrilMohamedOmaimaDouae', '/article[1]/sec[6]'), ('-', '2009067', 'Q0', '12431', 5, 2.961, 'DjibrilMohamedOmaimaDouae', '/article[1]/sec[2]')], [('-', '2009073', 'Q0', '12431', 5, 0.9476, 'DjibrilMohamedOmaimaDouae', '/article[1]/sec[4]'), ('-', '2009073', 'Q0', '12431', 6, 0.9476, 'DjibrilMohamedOmaimaDouae', '/article[1]/sec[7]'), ('-', '2009073', 'Q0', '12431', 7, 1.2329, 'DjibrilMohamedOmaimaDouae', '/article[1]/sec[6]'), ('-', '2009073', 'Q0', '12431', 8, 1.3998, 'DjibrilMohamedOmaimaDouae', '/article[1]/sec[8]'), ('-', '2009073', 'Q0', '12431', 9, 1.7485, 'DjibrilMohamedOmaimaDouae', '/article[1]/sec[1]'), ('-', '2009073', 'Q0', '12431', 10, 3.8902, 'DjibrilMohamedOmaimaDouae', '/article[1]/sec[2]')], [('-', '2009074', 'Q0', '12431', 10, 0.9476, 'DjibrilMohamedOmaimaDouae', '/article[1]/sec[4]'), ('-', '2009074', 'Q0', '12431', 11, 0.9476, 'DjibrilMohamedOmaimaDouae', '/article[1]/sec[7]'), ('-', '2009074', 'Q0', '12431', 12, 1.2329, 'DjibrilMohamedOmaimaDouae', '/article[1]/sec[6]'), ('-', '2009074', 'Q0', '12431', 13, 1.3998, 'DjibrilMohamedOmaimaDouae', '/article[1]/sec[8]'), ('-', '2009074', 'Q0', '12431', 14, 3.9397, 'DjibrilMohamedOmaimaDouae', '/article[1]/sec[2]'), ('-', '2009074', 'Q0', '12431', 15, 6.4377, 'DjibrilMohamedOmaimaDouae', '/article[1]/sec[1]')], [('-', '2009078', 'Q0', '12431', 15, 0.8349, 'DjibrilMohamedOmaimaDouae', '/article[1]/sec[2]'), ('-', '2009078', 'Q0', '12431', 16, 1.2333, 'DjibrilMohamedOmaimaDouae', '/article[1]/sec[1]')], [('-', '2009085', 'Q0', '12431', 16, 0.6771, 'DjibrilMohamedOmaimaDouae', '/article[1]/sec[1]')]]]\n",
      "[[[('-', '2009011', 'Q0', '10013', 1, 1.2541, 'DjibrilMohamedOmaimaDouae', '/article[1]/sec[2]'), ('-', '2009011', 'Q0', '10013', 2, 1.6316, 'DjibrilMohamedOmaimaDouae', '/article[1]/sec[11]'), ('-', '2009011', 'Q0', '10013', 3, 1.6316, 'DjibrilMohamedOmaimaDouae', '/article[1]/sec[3]'), ('-', '2009011', 'Q0', '10013', 4, 1.6316, 'DjibrilMohamedOmaimaDouae', '/article[1]/sec[7]'), ('-', '2009011', 'Q0', '10013', 5, 1.68, 'DjibrilMohamedOmaimaDouae', '/article[1]/sec[6]'), ('-', '2009011', 'Q0', '10013', 6, 2.0091, 'DjibrilMohamedOmaimaDouae', '/article[1]/sec[12]'), ('-', '2009011', 'Q0', '10013', 7, 2.9341, 'DjibrilMohamedOmaimaDouae', '/article[1]/sec[8]'), ('-', '2009011', 'Q0', '10013', 8, 3.4399, 'DjibrilMohamedOmaimaDouae', '/article[1]/sec[4]')], [], [('-', '2009067', 'Q0', '10013', 0, 0.185, 'DjibrilMohamedOmaimaDouae', '/article[1]/sec[10]'), ('-', '2009067', 'Q0', '10013', 1, 0.185, 'DjibrilMohamedOmaimaDouae', '/article[1]/sec[7]'), ('-', '2009067', 'Q0', '10013', 2, 0.185, 'DjibrilMohamedOmaimaDouae', '/article[1]/sec[9]'), ('-', '2009067', 'Q0', '10013', 3, 0.3142, 'DjibrilMohamedOmaimaDouae', '/article[1]/sec[11]'), ('-', '2009067', 'Q0', '10013', 4, 0.3142, 'DjibrilMohamedOmaimaDouae', '/article[1]/sec[12]'), ('-', '2009067', 'Q0', '10013', 5, 0.3289, 'DjibrilMohamedOmaimaDouae', '/article[1]/sec[3]'), ('-', '2009067', 'Q0', '10013', 6, 0.4295, 'DjibrilMohamedOmaimaDouae', '/article[1]/sec[8]'), ('-', '2009067', 'Q0', '10013', 7, 1.0664, 'DjibrilMohamedOmaimaDouae', '/article[1]/sec[5]'), ('-', '2009067', 'Q0', '10013', 8, 1.2482, 'DjibrilMohamedOmaimaDouae', '/article[1]/sec[4]'), ('-', '2009067', 'Q0', '10013', 9, 1.3317, 'DjibrilMohamedOmaimaDouae', '/article[1]/sec[1]'), ('-', '2009067', 'Q0', '10013', 10, 1.7491, 'DjibrilMohamedOmaimaDouae', '/article[1]/sec[6]')], [('-', '2009073', 'Q0', '10013', 10, 0.9476, 'DjibrilMohamedOmaimaDouae', '/article[1]/sec[6]'), ('-', '2009073', 'Q0', '10013', 11, 1.2127, 'DjibrilMohamedOmaimaDouae', '/article[1]/sec[1]'), ('-', '2009073', 'Q0', '10013', 12, 1.7913, 'DjibrilMohamedOmaimaDouae', '/article[1]/sec[12]')], [('-', '2009074', 'Q0', '10013', 12, 0.8349, 'DjibrilMohamedOmaimaDouae', '/article[1]/sec[10]'), ('-', '2009074', 'Q0', '10013', 13, 0.9476, 'DjibrilMohamedOmaimaDouae', '/article[1]/sec[6]'), ('-', '2009074', 'Q0', '10013', 14, 2.1572, 'DjibrilMohamedOmaimaDouae', '/article[1]/sec[4]')], [('-', '2009078', 'Q0', '10013', 14, 0.8349, 'DjibrilMohamedOmaimaDouae', '/article[1]/sec[10]')], [('-', '2009085', 'Q0', '10013', 14, 0.881, 'DjibrilMohamedOmaimaDouae', '/article[1]/sec[4]')]], [[('-', '2009011', 'Q0', '10136', 14, 1.2541, 'DjibrilMohamedOmaimaDouae', '/article[1]/sec[3]'), ('-', '2009011', 'Q0', '10136', 15, 2.6631, 'DjibrilMohamedOmaimaDouae', '/article[1]/sec[1]')], [], [('-', '2009067', 'Q0', '10136', 0, 0.185, 'DjibrilMohamedOmaimaDouae', '/article[1]/sec[5]'), ('-', '2009067', 'Q0', '10136', 1, 1.0301, 'DjibrilMohamedOmaimaDouae', '/article[1]/sec[1]'), ('-', '2009067', 'Q0', '10136', 2, 1.2251, 'DjibrilMohamedOmaimaDouae', '/article[1]/sec[2]'), ('-', '2009067', 'Q0', '10136', 3, 1.3177, 'DjibrilMohamedOmaimaDouae', '/article[1]/sec[4]'), ('-', '2009067', 'Q0', '10136', 4, 2.2054, 'DjibrilMohamedOmaimaDouae', '/article[1]/sec[3]')], [('-', '2009073', 'Q0', '10136', 4, 0.9267, 'DjibrilMohamedOmaimaDouae', '/article[1]/sec[6]'), ('-', '2009073', 'Q0', '10136', 5, 2.718, 'DjibrilMohamedOmaimaDouae', '/article[1]/sec[1]')], [('-', '2009074', 'Q0', '10136', 5, 0.8349, 'DjibrilMohamedOmaimaDouae', '/article[1]/sec[3]'), ('-', '2009074', 'Q0', '10136', 6, 0.8349, 'DjibrilMohamedOmaimaDouae', '/article[1]/sec[4]'), ('-', '2009074', 'Q0', '10136', 7, 0.8349, 'DjibrilMohamedOmaimaDouae', '/article[1]/sec[6]')], [('-', '2009078', 'Q0', '10136', 7, 0.8349, 'DjibrilMohamedOmaimaDouae', '/article[1]/sec[4]'), ('-', '2009078', 'Q0', '10136', 8, 2.6117, 'DjibrilMohamedOmaimaDouae', '/article[1]/sec[3]'), ('-', '2009078', 'Q0', '10136', 9, 3.78, 'DjibrilMohamedOmaimaDouae', '/article[1]/sec[6]')], [('-', '2009085', 'Q0', '10136', 9, 0.6771, 'DjibrilMohamedOmaimaDouae', '/article[1]/sec[2]'), ('-', '2009085', 'Q0', '10136', 10, 1.0002, 'DjibrilMohamedOmaimaDouae', '/article[1]/sec[6]'), ('-', '2009085', 'Q0', '10136', 11, 1.3543, 'DjibrilMohamedOmaimaDouae', '/article[1]/sec[1]'), ('-', '2009085', 'Q0', '10136', 12, 2.9558, 'DjibrilMohamedOmaimaDouae', '/article[1]/sec[3]'), ('-', '2009085', 'Q0', '10136', 13, 3.117, 'DjibrilMohamedOmaimaDouae', '/article[1]/sec[4]')]], [[], [('-', '2009036', 'Q0', '10793', 0, 1.5137, 'DjibrilMohamedOmaimaDouae', '/article[1]/sec[9]'), ('-', '2009036', 'Q0', '10793', 1, 2.2359, 'DjibrilMohamedOmaimaDouae', '/article[1]/sec[1]'), ('-', '2009036', 'Q0', '10793', 2, 2.425, 'DjibrilMohamedOmaimaDouae', '/article[1]/sec[8]'), ('-', '2009036', 'Q0', '10793', 3, 2.5717, 'DjibrilMohamedOmaimaDouae', '/article[1]/sec[5]'), ('-', '2009036', 'Q0', '10793', 4, 2.6916, 'DjibrilMohamedOmaimaDouae', '/article[1]/sec[4]'), ('-', '2009036', 'Q0', '10793', 5, 3.6029, 'DjibrilMohamedOmaimaDouae', '/article[1]/sec[10]'), ('-', '2009036', 'Q0', '10793', 6, 4.9501, 'DjibrilMohamedOmaimaDouae', '/article[1]/sec[3]'), ('-', '2009036', 'Q0', '10793', 7, 5.2052, 'DjibrilMohamedOmaimaDouae', '/article[1]/sec[7]'), ('-', '2009036', 'Q0', '10793', 8, 9.1743, 'DjibrilMohamedOmaimaDouae', '/article[1]/sec[6]'), ('-', '2009036', 'Q0', '10793', 9, 12.093, 'DjibrilMohamedOmaimaDouae', '/article[1]/sec[2]')], [('-', '2009067', 'Q0', '10793', 9, 0.185, 'DjibrilMohamedOmaimaDouae', '/article[1]/sec[8]'), ('-', '2009067', 'Q0', '10793', 10, 0.2732, 'DjibrilMohamedOmaimaDouae', '/article[1]/sec[3]'), ('-', '2009067', 'Q0', '10793', 11, 0.3142, 'DjibrilMohamedOmaimaDouae', '/article[1]/sec[5]'), ('-', '2009067', 'Q0', '10793', 12, 0.3289, 'DjibrilMohamedOmaimaDouae', '/article[1]/sec[1]'), ('-', '2009067', 'Q0', '10793', 13, 0.3289, 'DjibrilMohamedOmaimaDouae', '/article[1]/sec[4]'), ('-', '2009067', 'Q0', '10793', 14, 0.3289, 'DjibrilMohamedOmaimaDouae', '/article[1]/sec[6]'), ('-', '2009067', 'Q0', '10793', 15, 0.3614, 'DjibrilMohamedOmaimaDouae', '/article[1]/sec[7]'), ('-', '2009067', 'Q0', '10793', 16, 0.9851, 'DjibrilMohamedOmaimaDouae', '/article[1]/sec[10]'), ('-', '2009067', 'Q0', '10793', 17, 1.2741, 'DjibrilMohamedOmaimaDouae', '/article[1]/sec[2]')], [('-', '2009073', 'Q0', '10793', 17, 1.2127, 'DjibrilMohamedOmaimaDouae', '/article[1]/sec[4]')], [], [], []], [[('-', '2009011', 'Q0', '11286', 0, 1.2541, 'DjibrilMohamedOmaimaDouae', '/article[1]/sec[2]'), ('-', '2009011', 'Q0', '11286', 1, 1.8524, 'DjibrilMohamedOmaimaDouae', '/article[1]/sec[6]'), ('-', '2009011', 'Q0', '11286', 2, 2.0091, 'DjibrilMohamedOmaimaDouae', '/article[1]/sec[3]')], [('-', '2009036', 'Q0', '11286', 2, 5.8492, 'DjibrilMohamedOmaimaDouae', '/article[1]/sec[4]')], [('-', '2009067', 'Q0', '11286', 2, 0.185, 'DjibrilMohamedOmaimaDouae', '/article[1]/sec[1]'), ('-', '2009067', 'Q0', '11286', 3, 0.2963, 'DjibrilMohamedOmaimaDouae', '/article[1]/sec[2]'), ('-', '2009067', 'Q0', '11286', 4, 0.3289, 'DjibrilMohamedOmaimaDouae', '/article[1]/sec[4]'), ('-', '2009067', 'Q0', '11286', 5, 0.3413, 'DjibrilMohamedOmaimaDouae', '/article[1]/sec[3]'), ('-', '2009067', 'Q0', '11286', 6, 0.8738, 'DjibrilMohamedOmaimaDouae', '/article[1]/sec[7]'), ('-', '2009067', 'Q0', '11286', 7, 0.9294, 'DjibrilMohamedOmaimaDouae', '/article[1]/sec[6]')], [('-', '2009073', 'Q0', '11286', 7, 0.9267, 'DjibrilMohamedOmaimaDouae', '/article[1]/sec[7]')], [], [('-', '2009078', 'Q0', '11286', 0, 1.2029, 'DjibrilMohamedOmaimaDouae', '/article[1]/sec[4]')], []], [[], [], [('-', '2009067', 'Q0', '11298', 0, 0.185, 'DjibrilMohamedOmaimaDouae', '/article[1]/sec[5]'), ('-', '2009067', 'Q0', '11298', 1, 0.185, 'DjibrilMohamedOmaimaDouae', '/article[1]/sec[7]'), ('-', '2009067', 'Q0', '11298', 2, 0.4402, 'DjibrilMohamedOmaimaDouae', '/article[1]/sec[2]'), ('-', '2009067', 'Q0', '11298', 3, 0.4658, 'DjibrilMohamedOmaimaDouae', '/article[1]/sec[1]'), ('-', '2009067', 'Q0', '11298', 4, 2.4937, 'DjibrilMohamedOmaimaDouae', '/article[1]/sec[3]')], [('-', '2009073', 'Q0', '11298', 4, 1.2127, 'DjibrilMohamedOmaimaDouae', '/article[1]/sec[2]')], [], [], [('-', '2009085', 'Q0', '11298', 0, 0.6771, 'DjibrilMohamedOmaimaDouae', '/article[1]/sec[3]'), ('-', '2009085', 'Q0', '11298', 1, 1.0002, 'DjibrilMohamedOmaimaDouae', '/article[1]/sec[2]'), ('-', '2009085', 'Q0', '11298', 2, 1.2041, 'DjibrilMohamedOmaimaDouae', '/article[1]/sec[1]')]], [[('-', '2009011', 'Q0', '12431', 2, 1.2541, 'DjibrilMohamedOmaimaDouae', '/article[1]/sec[8]')], [], [('-', '2009067', 'Q0', '12431', 0, 0.2406, 'DjibrilMohamedOmaimaDouae', '/article[1]/sec[4]'), ('-', '2009067', 'Q0', '12431', 1, 0.2732, 'DjibrilMohamedOmaimaDouae', '/article[1]/sec[7]'), ('-', '2009067', 'Q0', '12431', 2, 0.3289, 'DjibrilMohamedOmaimaDouae', '/article[1]/sec[3]'), ('-', '2009067', 'Q0', '12431', 3, 0.3776, 'DjibrilMohamedOmaimaDouae', '/article[1]/sec[1]'), ('-', '2009067', 'Q0', '12431', 4, 0.6888, 'DjibrilMohamedOmaimaDouae', '/article[1]/sec[6]'), ('-', '2009067', 'Q0', '12431', 5, 2.961, 'DjibrilMohamedOmaimaDouae', '/article[1]/sec[2]')], [('-', '2009073', 'Q0', '12431', 5, 0.9476, 'DjibrilMohamedOmaimaDouae', '/article[1]/sec[4]'), ('-', '2009073', 'Q0', '12431', 6, 0.9476, 'DjibrilMohamedOmaimaDouae', '/article[1]/sec[7]'), ('-', '2009073', 'Q0', '12431', 7, 1.2329, 'DjibrilMohamedOmaimaDouae', '/article[1]/sec[6]'), ('-', '2009073', 'Q0', '12431', 8, 1.3998, 'DjibrilMohamedOmaimaDouae', '/article[1]/sec[8]'), ('-', '2009073', 'Q0', '12431', 9, 1.7485, 'DjibrilMohamedOmaimaDouae', '/article[1]/sec[1]'), ('-', '2009073', 'Q0', '12431', 10, 3.8902, 'DjibrilMohamedOmaimaDouae', '/article[1]/sec[2]')], [('-', '2009074', 'Q0', '12431', 10, 0.9476, 'DjibrilMohamedOmaimaDouae', '/article[1]/sec[4]'), ('-', '2009074', 'Q0', '12431', 11, 0.9476, 'DjibrilMohamedOmaimaDouae', '/article[1]/sec[7]'), ('-', '2009074', 'Q0', '12431', 12, 1.2329, 'DjibrilMohamedOmaimaDouae', '/article[1]/sec[6]'), ('-', '2009074', 'Q0', '12431', 13, 1.3998, 'DjibrilMohamedOmaimaDouae', '/article[1]/sec[8]'), ('-', '2009074', 'Q0', '12431', 14, 3.9397, 'DjibrilMohamedOmaimaDouae', '/article[1]/sec[2]'), ('-', '2009074', 'Q0', '12431', 15, 6.4377, 'DjibrilMohamedOmaimaDouae', '/article[1]/sec[1]')], [('-', '2009078', 'Q0', '12431', 15, 0.8349, 'DjibrilMohamedOmaimaDouae', '/article[1]/sec[2]'), ('-', '2009078', 'Q0', '12431', 16, 1.2333, 'DjibrilMohamedOmaimaDouae', '/article[1]/sec[1]')], [('-', '2009085', 'Q0', '12431', 16, 0.6771, 'DjibrilMohamedOmaimaDouae', '/article[1]/sec[1]')]], [[('-', '2009011', 'Q0', '12486', 16, 3.1512, 'DjibrilMohamedOmaimaDouae', '/article[1]/sec[2]'), ('-', '2009011', 'Q0', '12486', 17, 4.4065, 'DjibrilMohamedOmaimaDouae', '/article[1]/sec[1]'), ('-', '2009011', 'Q0', '12486', 18, 6.8444, 'DjibrilMohamedOmaimaDouae', '/article[1]/sec[3]')], [], [('-', '2009067', 'Q0', '12486', 0, 0.185, 'DjibrilMohamedOmaimaDouae', '/article[1]/sec[5]'), ('-', '2009067', 'Q0', '12486', 1, 0.2963, 'DjibrilMohamedOmaimaDouae', '/article[1]/sec[2]'), ('-', '2009067', 'Q0', '12486', 2, 0.3969, 'DjibrilMohamedOmaimaDouae', '/article[1]/sec[1]'), ('-', '2009067', 'Q0', '12486', 3, 0.4942, 'DjibrilMohamedOmaimaDouae', '/article[1]/sec[3]')], [], [], [], []]]\n",
      "[[[('-', '2009011', 'Q0', '10013', 1, 1.2541, 'DjibrilMohamedOmaimaDouae', '/article[1]/sec[2]'), ('-', '2009011', 'Q0', '10013', 2, 1.6316, 'DjibrilMohamedOmaimaDouae', '/article[1]/sec[11]'), ('-', '2009011', 'Q0', '10013', 3, 1.6316, 'DjibrilMohamedOmaimaDouae', '/article[1]/sec[3]'), ('-', '2009011', 'Q0', '10013', 4, 1.6316, 'DjibrilMohamedOmaimaDouae', '/article[1]/sec[7]'), ('-', '2009011', 'Q0', '10013', 5, 1.68, 'DjibrilMohamedOmaimaDouae', '/article[1]/sec[6]'), ('-', '2009011', 'Q0', '10013', 6, 2.0091, 'DjibrilMohamedOmaimaDouae', '/article[1]/sec[12]'), ('-', '2009011', 'Q0', '10013', 7, 2.9341, 'DjibrilMohamedOmaimaDouae', '/article[1]/sec[8]'), ('-', '2009011', 'Q0', '10013', 8, 3.4399, 'DjibrilMohamedOmaimaDouae', '/article[1]/sec[4]')], [], [('-', '2009067', 'Q0', '10013', 0, 0.185, 'DjibrilMohamedOmaimaDouae', '/article[1]/sec[10]'), ('-', '2009067', 'Q0', '10013', 1, 0.185, 'DjibrilMohamedOmaimaDouae', '/article[1]/sec[7]'), ('-', '2009067', 'Q0', '10013', 2, 0.185, 'DjibrilMohamedOmaimaDouae', '/article[1]/sec[9]'), ('-', '2009067', 'Q0', '10013', 3, 0.3142, 'DjibrilMohamedOmaimaDouae', '/article[1]/sec[11]'), ('-', '2009067', 'Q0', '10013', 4, 0.3142, 'DjibrilMohamedOmaimaDouae', '/article[1]/sec[12]'), ('-', '2009067', 'Q0', '10013', 5, 0.3289, 'DjibrilMohamedOmaimaDouae', '/article[1]/sec[3]'), ('-', '2009067', 'Q0', '10013', 6, 0.4295, 'DjibrilMohamedOmaimaDouae', '/article[1]/sec[8]'), ('-', '2009067', 'Q0', '10013', 7, 1.0664, 'DjibrilMohamedOmaimaDouae', '/article[1]/sec[5]'), ('-', '2009067', 'Q0', '10013', 8, 1.2482, 'DjibrilMohamedOmaimaDouae', '/article[1]/sec[4]'), ('-', '2009067', 'Q0', '10013', 9, 1.3317, 'DjibrilMohamedOmaimaDouae', '/article[1]/sec[1]'), ('-', '2009067', 'Q0', '10013', 10, 1.7491, 'DjibrilMohamedOmaimaDouae', '/article[1]/sec[6]')], [('-', '2009073', 'Q0', '10013', 10, 0.9476, 'DjibrilMohamedOmaimaDouae', '/article[1]/sec[6]'), ('-', '2009073', 'Q0', '10013', 11, 1.2127, 'DjibrilMohamedOmaimaDouae', '/article[1]/sec[1]'), ('-', '2009073', 'Q0', '10013', 12, 1.7913, 'DjibrilMohamedOmaimaDouae', '/article[1]/sec[12]')], [('-', '2009074', 'Q0', '10013', 12, 0.8349, 'DjibrilMohamedOmaimaDouae', '/article[1]/sec[10]'), ('-', '2009074', 'Q0', '10013', 13, 0.9476, 'DjibrilMohamedOmaimaDouae', '/article[1]/sec[6]'), ('-', '2009074', 'Q0', '10013', 14, 2.1572, 'DjibrilMohamedOmaimaDouae', '/article[1]/sec[4]')], [('-', '2009078', 'Q0', '10013', 14, 0.8349, 'DjibrilMohamedOmaimaDouae', '/article[1]/sec[10]')], [('-', '2009085', 'Q0', '10013', 14, 0.881, 'DjibrilMohamedOmaimaDouae', '/article[1]/sec[4]')]], [[('-', '2009011', 'Q0', '10136', 14, 1.2541, 'DjibrilMohamedOmaimaDouae', '/article[1]/sec[3]'), ('-', '2009011', 'Q0', '10136', 15, 2.6631, 'DjibrilMohamedOmaimaDouae', '/article[1]/sec[1]')], [], [('-', '2009067', 'Q0', '10136', 0, 0.185, 'DjibrilMohamedOmaimaDouae', '/article[1]/sec[5]'), ('-', '2009067', 'Q0', '10136', 1, 1.0301, 'DjibrilMohamedOmaimaDouae', '/article[1]/sec[1]'), ('-', '2009067', 'Q0', '10136', 2, 1.2251, 'DjibrilMohamedOmaimaDouae', '/article[1]/sec[2]'), ('-', '2009067', 'Q0', '10136', 3, 1.3177, 'DjibrilMohamedOmaimaDouae', '/article[1]/sec[4]'), ('-', '2009067', 'Q0', '10136', 4, 2.2054, 'DjibrilMohamedOmaimaDouae', '/article[1]/sec[3]')], [('-', '2009073', 'Q0', '10136', 4, 0.9267, 'DjibrilMohamedOmaimaDouae', '/article[1]/sec[6]'), ('-', '2009073', 'Q0', '10136', 5, 2.718, 'DjibrilMohamedOmaimaDouae', '/article[1]/sec[1]')], [('-', '2009074', 'Q0', '10136', 5, 0.8349, 'DjibrilMohamedOmaimaDouae', '/article[1]/sec[3]'), ('-', '2009074', 'Q0', '10136', 6, 0.8349, 'DjibrilMohamedOmaimaDouae', '/article[1]/sec[4]'), ('-', '2009074', 'Q0', '10136', 7, 0.8349, 'DjibrilMohamedOmaimaDouae', '/article[1]/sec[6]')], [('-', '2009078', 'Q0', '10136', 7, 0.8349, 'DjibrilMohamedOmaimaDouae', '/article[1]/sec[4]'), ('-', '2009078', 'Q0', '10136', 8, 2.6117, 'DjibrilMohamedOmaimaDouae', '/article[1]/sec[3]'), ('-', '2009078', 'Q0', '10136', 9, 3.78, 'DjibrilMohamedOmaimaDouae', '/article[1]/sec[6]')], [('-', '2009085', 'Q0', '10136', 9, 0.6771, 'DjibrilMohamedOmaimaDouae', '/article[1]/sec[2]'), ('-', '2009085', 'Q0', '10136', 10, 1.0002, 'DjibrilMohamedOmaimaDouae', '/article[1]/sec[6]'), ('-', '2009085', 'Q0', '10136', 11, 1.3543, 'DjibrilMohamedOmaimaDouae', '/article[1]/sec[1]'), ('-', '2009085', 'Q0', '10136', 12, 2.9558, 'DjibrilMohamedOmaimaDouae', '/article[1]/sec[3]'), ('-', '2009085', 'Q0', '10136', 13, 3.117, 'DjibrilMohamedOmaimaDouae', '/article[1]/sec[4]')]], [[], [('-', '2009036', 'Q0', '10793', 0, 1.5137, 'DjibrilMohamedOmaimaDouae', '/article[1]/sec[9]'), ('-', '2009036', 'Q0', '10793', 1, 2.2359, 'DjibrilMohamedOmaimaDouae', '/article[1]/sec[1]'), ('-', '2009036', 'Q0', '10793', 2, 2.425, 'DjibrilMohamedOmaimaDouae', '/article[1]/sec[8]'), ('-', '2009036', 'Q0', '10793', 3, 2.5717, 'DjibrilMohamedOmaimaDouae', '/article[1]/sec[5]'), ('-', '2009036', 'Q0', '10793', 4, 2.6916, 'DjibrilMohamedOmaimaDouae', '/article[1]/sec[4]'), ('-', '2009036', 'Q0', '10793', 5, 3.6029, 'DjibrilMohamedOmaimaDouae', '/article[1]/sec[10]'), ('-', '2009036', 'Q0', '10793', 6, 4.9501, 'DjibrilMohamedOmaimaDouae', '/article[1]/sec[3]'), ('-', '2009036', 'Q0', '10793', 7, 5.2052, 'DjibrilMohamedOmaimaDouae', '/article[1]/sec[7]'), ('-', '2009036', 'Q0', '10793', 8, 9.1743, 'DjibrilMohamedOmaimaDouae', '/article[1]/sec[6]'), ('-', '2009036', 'Q0', '10793', 9, 12.093, 'DjibrilMohamedOmaimaDouae', '/article[1]/sec[2]')], [('-', '2009067', 'Q0', '10793', 9, 0.185, 'DjibrilMohamedOmaimaDouae', '/article[1]/sec[8]'), ('-', '2009067', 'Q0', '10793', 10, 0.2732, 'DjibrilMohamedOmaimaDouae', '/article[1]/sec[3]'), ('-', '2009067', 'Q0', '10793', 11, 0.3142, 'DjibrilMohamedOmaimaDouae', '/article[1]/sec[5]'), ('-', '2009067', 'Q0', '10793', 12, 0.3289, 'DjibrilMohamedOmaimaDouae', '/article[1]/sec[1]'), ('-', '2009067', 'Q0', '10793', 13, 0.3289, 'DjibrilMohamedOmaimaDouae', '/article[1]/sec[4]'), ('-', '2009067', 'Q0', '10793', 14, 0.3289, 'DjibrilMohamedOmaimaDouae', '/article[1]/sec[6]'), ('-', '2009067', 'Q0', '10793', 15, 0.3614, 'DjibrilMohamedOmaimaDouae', '/article[1]/sec[7]'), ('-', '2009067', 'Q0', '10793', 16, 0.9851, 'DjibrilMohamedOmaimaDouae', '/article[1]/sec[10]'), ('-', '2009067', 'Q0', '10793', 17, 1.2741, 'DjibrilMohamedOmaimaDouae', '/article[1]/sec[2]')], [('-', '2009073', 'Q0', '10793', 17, 1.2127, 'DjibrilMohamedOmaimaDouae', '/article[1]/sec[4]')], [], [], []], [[('-', '2009011', 'Q0', '11286', 0, 1.2541, 'DjibrilMohamedOmaimaDouae', '/article[1]/sec[2]'), ('-', '2009011', 'Q0', '11286', 1, 1.8524, 'DjibrilMohamedOmaimaDouae', '/article[1]/sec[6]'), ('-', '2009011', 'Q0', '11286', 2, 2.0091, 'DjibrilMohamedOmaimaDouae', '/article[1]/sec[3]')], [('-', '2009036', 'Q0', '11286', 2, 5.8492, 'DjibrilMohamedOmaimaDouae', '/article[1]/sec[4]')], [('-', '2009067', 'Q0', '11286', 2, 0.185, 'DjibrilMohamedOmaimaDouae', '/article[1]/sec[1]'), ('-', '2009067', 'Q0', '11286', 3, 0.2963, 'DjibrilMohamedOmaimaDouae', '/article[1]/sec[2]'), ('-', '2009067', 'Q0', '11286', 4, 0.3289, 'DjibrilMohamedOmaimaDouae', '/article[1]/sec[4]'), ('-', '2009067', 'Q0', '11286', 5, 0.3413, 'DjibrilMohamedOmaimaDouae', '/article[1]/sec[3]'), ('-', '2009067', 'Q0', '11286', 6, 0.8738, 'DjibrilMohamedOmaimaDouae', '/article[1]/sec[7]'), ('-', '2009067', 'Q0', '11286', 7, 0.9294, 'DjibrilMohamedOmaimaDouae', '/article[1]/sec[6]')], [('-', '2009073', 'Q0', '11286', 7, 0.9267, 'DjibrilMohamedOmaimaDouae', '/article[1]/sec[7]')], [], [('-', '2009078', 'Q0', '11286', 0, 1.2029, 'DjibrilMohamedOmaimaDouae', '/article[1]/sec[4]')], []], [[], [], [('-', '2009067', 'Q0', '11298', 0, 0.185, 'DjibrilMohamedOmaimaDouae', '/article[1]/sec[5]'), ('-', '2009067', 'Q0', '11298', 1, 0.185, 'DjibrilMohamedOmaimaDouae', '/article[1]/sec[7]'), ('-', '2009067', 'Q0', '11298', 2, 0.4402, 'DjibrilMohamedOmaimaDouae', '/article[1]/sec[2]'), ('-', '2009067', 'Q0', '11298', 3, 0.4658, 'DjibrilMohamedOmaimaDouae', '/article[1]/sec[1]'), ('-', '2009067', 'Q0', '11298', 4, 2.4937, 'DjibrilMohamedOmaimaDouae', '/article[1]/sec[3]')], [('-', '2009073', 'Q0', '11298', 4, 1.2127, 'DjibrilMohamedOmaimaDouae', '/article[1]/sec[2]')], [], [], [('-', '2009085', 'Q0', '11298', 0, 0.6771, 'DjibrilMohamedOmaimaDouae', '/article[1]/sec[3]'), ('-', '2009085', 'Q0', '11298', 1, 1.0002, 'DjibrilMohamedOmaimaDouae', '/article[1]/sec[2]'), ('-', '2009085', 'Q0', '11298', 2, 1.2041, 'DjibrilMohamedOmaimaDouae', '/article[1]/sec[1]')]], [[('-', '2009011', 'Q0', '12431', 2, 1.2541, 'DjibrilMohamedOmaimaDouae', '/article[1]/sec[8]')], [], [('-', '2009067', 'Q0', '12431', 0, 0.2406, 'DjibrilMohamedOmaimaDouae', '/article[1]/sec[4]'), ('-', '2009067', 'Q0', '12431', 1, 0.2732, 'DjibrilMohamedOmaimaDouae', '/article[1]/sec[7]'), ('-', '2009067', 'Q0', '12431', 2, 0.3289, 'DjibrilMohamedOmaimaDouae', '/article[1]/sec[3]'), ('-', '2009067', 'Q0', '12431', 3, 0.3776, 'DjibrilMohamedOmaimaDouae', '/article[1]/sec[1]'), ('-', '2009067', 'Q0', '12431', 4, 0.6888, 'DjibrilMohamedOmaimaDouae', '/article[1]/sec[6]'), ('-', '2009067', 'Q0', '12431', 5, 2.961, 'DjibrilMohamedOmaimaDouae', '/article[1]/sec[2]')], [('-', '2009073', 'Q0', '12431', 5, 0.9476, 'DjibrilMohamedOmaimaDouae', '/article[1]/sec[4]'), ('-', '2009073', 'Q0', '12431', 6, 0.9476, 'DjibrilMohamedOmaimaDouae', '/article[1]/sec[7]'), ('-', '2009073', 'Q0', '12431', 7, 1.2329, 'DjibrilMohamedOmaimaDouae', '/article[1]/sec[6]'), ('-', '2009073', 'Q0', '12431', 8, 1.3998, 'DjibrilMohamedOmaimaDouae', '/article[1]/sec[8]'), ('-', '2009073', 'Q0', '12431', 9, 1.7485, 'DjibrilMohamedOmaimaDouae', '/article[1]/sec[1]'), ('-', '2009073', 'Q0', '12431', 10, 3.8902, 'DjibrilMohamedOmaimaDouae', '/article[1]/sec[2]')], [('-', '2009074', 'Q0', '12431', 10, 0.9476, 'DjibrilMohamedOmaimaDouae', '/article[1]/sec[4]'), ('-', '2009074', 'Q0', '12431', 11, 0.9476, 'DjibrilMohamedOmaimaDouae', '/article[1]/sec[7]'), ('-', '2009074', 'Q0', '12431', 12, 1.2329, 'DjibrilMohamedOmaimaDouae', '/article[1]/sec[6]'), ('-', '2009074', 'Q0', '12431', 13, 1.3998, 'DjibrilMohamedOmaimaDouae', '/article[1]/sec[8]'), ('-', '2009074', 'Q0', '12431', 14, 3.9397, 'DjibrilMohamedOmaimaDouae', '/article[1]/sec[2]'), ('-', '2009074', 'Q0', '12431', 15, 6.4377, 'DjibrilMohamedOmaimaDouae', '/article[1]/sec[1]')], [('-', '2009078', 'Q0', '12431', 15, 0.8349, 'DjibrilMohamedOmaimaDouae', '/article[1]/sec[2]'), ('-', '2009078', 'Q0', '12431', 16, 1.2333, 'DjibrilMohamedOmaimaDouae', '/article[1]/sec[1]')], [('-', '2009085', 'Q0', '12431', 16, 0.6771, 'DjibrilMohamedOmaimaDouae', '/article[1]/sec[1]')]], [[('-', '2009011', 'Q0', '12486', 16, 3.1512, 'DjibrilMohamedOmaimaDouae', '/article[1]/sec[2]'), ('-', '2009011', 'Q0', '12486', 17, 4.4065, 'DjibrilMohamedOmaimaDouae', '/article[1]/sec[1]'), ('-', '2009011', 'Q0', '12486', 18, 6.8444, 'DjibrilMohamedOmaimaDouae', '/article[1]/sec[3]')], [], [('-', '2009067', 'Q0', '12486', 0, 0.185, 'DjibrilMohamedOmaimaDouae', '/article[1]/sec[5]'), ('-', '2009067', 'Q0', '12486', 1, 0.2963, 'DjibrilMohamedOmaimaDouae', '/article[1]/sec[2]'), ('-', '2009067', 'Q0', '12486', 2, 0.3969, 'DjibrilMohamedOmaimaDouae', '/article[1]/sec[1]'), ('-', '2009067', 'Q0', '12486', 3, 0.4942, 'DjibrilMohamedOmaimaDouae', '/article[1]/sec[3]')], [], [], [], []], [[], [], [('-', '2009067', 'Q0', '13035', 0, 0.185, 'DjibrilMohamedOmaimaDouae', '/article[1]/sec[5]'), ('-', '2009067', 'Q0', '13035', 1, 0.2406, 'DjibrilMohamedOmaimaDouae', '/article[1]/sec[2]'), ('-', '2009067', 'Q0', '13035', 2, 0.3142, 'DjibrilMohamedOmaimaDouae', '/article[1]/sec[1]'), ('-', '2009067', 'Q0', '13035', 3, 0.3699, 'DjibrilMohamedOmaimaDouae', '/article[1]/sec[3]'), ('-', '2009067', 'Q0', '13035', 4, 0.3845, 'DjibrilMohamedOmaimaDouae', '/article[1]/sec[6]'), ('-', '2009067', 'Q0', '13035', 5, 1.0177, 'DjibrilMohamedOmaimaDouae', '/article[1]/sec[4]')], [('-', '2009073', 'Q0', '13035', 5, 1.2127, 'DjibrilMohamedOmaimaDouae', '/article[1]/sec[5]'), ('-', '2009073', 'Q0', '13035', 6, 1.2127, 'DjibrilMohamedOmaimaDouae', '/article[1]/sec[9]')], [('-', '2009074', 'Q0', '13035', 6, 0.8349, 'DjibrilMohamedOmaimaDouae', '/article[1]/sec[5]'), ('-', '2009074', 'Q0', '13035', 7, 1.2333, 'DjibrilMohamedOmaimaDouae', '/article[1]/sec[2]'), ('-', '2009074', 'Q0', '13035', 8, 1.2333, 'DjibrilMohamedOmaimaDouae', '/article[1]/sec[6]'), ('-', '2009074', 'Q0', '13035', 9, 1.3376, 'DjibrilMohamedOmaimaDouae', '/article[1]/sec[4]'), ('-', '2009074', 'Q0', '13035', 10, 1.5405, 'DjibrilMohamedOmaimaDouae', '/article[1]/sec[3]')], [('-', '2009078', 'Q0', '13035', 10, 0.8349, 'DjibrilMohamedOmaimaDouae', '/article[1]/sec[5]'), ('-', '2009078', 'Q0', '13035', 11, 1.2333, 'DjibrilMohamedOmaimaDouae', '/article[1]/sec[2]'), ('-', '2009078', 'Q0', '13035', 12, 1.2333, 'DjibrilMohamedOmaimaDouae', '/article[1]/sec[6]'), ('-', '2009078', 'Q0', '13035', 13, 1.3376, 'DjibrilMohamedOmaimaDouae', '/article[1]/sec[4]'), ('-', '2009078', 'Q0', '13035', 14, 1.5405, 'DjibrilMohamedOmaimaDouae', '/article[1]/sec[3]')], [('-', '2009085', 'Q0', '13035', 14, 0.6771, 'DjibrilMohamedOmaimaDouae', '/article[1]/sec[4]'), ('-', '2009085', 'Q0', '13035', 15, 0.881, 'DjibrilMohamedOmaimaDouae', '/article[1]/sec[5]'), ('-', '2009085', 'Q0', '13035', 16, 1.0002, 'DjibrilMohamedOmaimaDouae', '/article[1]/sec[2]'), ('-', '2009085', 'Q0', '13035', 17, 1.3543, 'DjibrilMohamedOmaimaDouae', '/article[1]/sec[3]')]]]\n",
      "[[[('-', '2009011', 'Q0', '10013', 1, 1.2541, 'DjibrilMohamedOmaimaDouae', '/article[1]/sec[2]'), ('-', '2009011', 'Q0', '10013', 2, 1.6316, 'DjibrilMohamedOmaimaDouae', '/article[1]/sec[11]'), ('-', '2009011', 'Q0', '10013', 3, 1.6316, 'DjibrilMohamedOmaimaDouae', '/article[1]/sec[3]'), ('-', '2009011', 'Q0', '10013', 4, 1.6316, 'DjibrilMohamedOmaimaDouae', '/article[1]/sec[7]'), ('-', '2009011', 'Q0', '10013', 5, 1.68, 'DjibrilMohamedOmaimaDouae', '/article[1]/sec[6]'), ('-', '2009011', 'Q0', '10013', 6, 2.0091, 'DjibrilMohamedOmaimaDouae', '/article[1]/sec[12]'), ('-', '2009011', 'Q0', '10013', 7, 2.9341, 'DjibrilMohamedOmaimaDouae', '/article[1]/sec[8]'), ('-', '2009011', 'Q0', '10013', 8, 3.4399, 'DjibrilMohamedOmaimaDouae', '/article[1]/sec[4]')], [], [('-', '2009067', 'Q0', '10013', 0, 0.185, 'DjibrilMohamedOmaimaDouae', '/article[1]/sec[10]'), ('-', '2009067', 'Q0', '10013', 1, 0.185, 'DjibrilMohamedOmaimaDouae', '/article[1]/sec[7]'), ('-', '2009067', 'Q0', '10013', 2, 0.185, 'DjibrilMohamedOmaimaDouae', '/article[1]/sec[9]'), ('-', '2009067', 'Q0', '10013', 3, 0.3142, 'DjibrilMohamedOmaimaDouae', '/article[1]/sec[11]'), ('-', '2009067', 'Q0', '10013', 4, 0.3142, 'DjibrilMohamedOmaimaDouae', '/article[1]/sec[12]'), ('-', '2009067', 'Q0', '10013', 5, 0.3289, 'DjibrilMohamedOmaimaDouae', '/article[1]/sec[3]'), ('-', '2009067', 'Q0', '10013', 6, 0.4295, 'DjibrilMohamedOmaimaDouae', '/article[1]/sec[8]'), ('-', '2009067', 'Q0', '10013', 7, 1.0664, 'DjibrilMohamedOmaimaDouae', '/article[1]/sec[5]'), ('-', '2009067', 'Q0', '10013', 8, 1.2482, 'DjibrilMohamedOmaimaDouae', '/article[1]/sec[4]'), ('-', '2009067', 'Q0', '10013', 9, 1.3317, 'DjibrilMohamedOmaimaDouae', '/article[1]/sec[1]'), ('-', '2009067', 'Q0', '10013', 10, 1.7491, 'DjibrilMohamedOmaimaDouae', '/article[1]/sec[6]')], [('-', '2009073', 'Q0', '10013', 10, 0.9476, 'DjibrilMohamedOmaimaDouae', '/article[1]/sec[6]'), ('-', '2009073', 'Q0', '10013', 11, 1.2127, 'DjibrilMohamedOmaimaDouae', '/article[1]/sec[1]'), ('-', '2009073', 'Q0', '10013', 12, 1.7913, 'DjibrilMohamedOmaimaDouae', '/article[1]/sec[12]')], [('-', '2009074', 'Q0', '10013', 12, 0.8349, 'DjibrilMohamedOmaimaDouae', '/article[1]/sec[10]'), ('-', '2009074', 'Q0', '10013', 13, 0.9476, 'DjibrilMohamedOmaimaDouae', '/article[1]/sec[6]'), ('-', '2009074', 'Q0', '10013', 14, 2.1572, 'DjibrilMohamedOmaimaDouae', '/article[1]/sec[4]')], [('-', '2009078', 'Q0', '10013', 14, 0.8349, 'DjibrilMohamedOmaimaDouae', '/article[1]/sec[10]')], [('-', '2009085', 'Q0', '10013', 14, 0.881, 'DjibrilMohamedOmaimaDouae', '/article[1]/sec[4]')]], [[('-', '2009011', 'Q0', '10136', 14, 1.2541, 'DjibrilMohamedOmaimaDouae', '/article[1]/sec[3]'), ('-', '2009011', 'Q0', '10136', 15, 2.6631, 'DjibrilMohamedOmaimaDouae', '/article[1]/sec[1]')], [], [('-', '2009067', 'Q0', '10136', 0, 0.185, 'DjibrilMohamedOmaimaDouae', '/article[1]/sec[5]'), ('-', '2009067', 'Q0', '10136', 1, 1.0301, 'DjibrilMohamedOmaimaDouae', '/article[1]/sec[1]'), ('-', '2009067', 'Q0', '10136', 2, 1.2251, 'DjibrilMohamedOmaimaDouae', '/article[1]/sec[2]'), ('-', '2009067', 'Q0', '10136', 3, 1.3177, 'DjibrilMohamedOmaimaDouae', '/article[1]/sec[4]'), ('-', '2009067', 'Q0', '10136', 4, 2.2054, 'DjibrilMohamedOmaimaDouae', '/article[1]/sec[3]')], [('-', '2009073', 'Q0', '10136', 4, 0.9267, 'DjibrilMohamedOmaimaDouae', '/article[1]/sec[6]'), ('-', '2009073', 'Q0', '10136', 5, 2.718, 'DjibrilMohamedOmaimaDouae', '/article[1]/sec[1]')], [('-', '2009074', 'Q0', '10136', 5, 0.8349, 'DjibrilMohamedOmaimaDouae', '/article[1]/sec[3]'), ('-', '2009074', 'Q0', '10136', 6, 0.8349, 'DjibrilMohamedOmaimaDouae', '/article[1]/sec[4]'), ('-', '2009074', 'Q0', '10136', 7, 0.8349, 'DjibrilMohamedOmaimaDouae', '/article[1]/sec[6]')], [('-', '2009078', 'Q0', '10136', 7, 0.8349, 'DjibrilMohamedOmaimaDouae', '/article[1]/sec[4]'), ('-', '2009078', 'Q0', '10136', 8, 2.6117, 'DjibrilMohamedOmaimaDouae', '/article[1]/sec[3]'), ('-', '2009078', 'Q0', '10136', 9, 3.78, 'DjibrilMohamedOmaimaDouae', '/article[1]/sec[6]')], [('-', '2009085', 'Q0', '10136', 9, 0.6771, 'DjibrilMohamedOmaimaDouae', '/article[1]/sec[2]'), ('-', '2009085', 'Q0', '10136', 10, 1.0002, 'DjibrilMohamedOmaimaDouae', '/article[1]/sec[6]'), ('-', '2009085', 'Q0', '10136', 11, 1.3543, 'DjibrilMohamedOmaimaDouae', '/article[1]/sec[1]'), ('-', '2009085', 'Q0', '10136', 12, 2.9558, 'DjibrilMohamedOmaimaDouae', '/article[1]/sec[3]'), ('-', '2009085', 'Q0', '10136', 13, 3.117, 'DjibrilMohamedOmaimaDouae', '/article[1]/sec[4]')]], [[], [('-', '2009036', 'Q0', '10793', 0, 1.5137, 'DjibrilMohamedOmaimaDouae', '/article[1]/sec[9]'), ('-', '2009036', 'Q0', '10793', 1, 2.2359, 'DjibrilMohamedOmaimaDouae', '/article[1]/sec[1]'), ('-', '2009036', 'Q0', '10793', 2, 2.425, 'DjibrilMohamedOmaimaDouae', '/article[1]/sec[8]'), ('-', '2009036', 'Q0', '10793', 3, 2.5717, 'DjibrilMohamedOmaimaDouae', '/article[1]/sec[5]'), ('-', '2009036', 'Q0', '10793', 4, 2.6916, 'DjibrilMohamedOmaimaDouae', '/article[1]/sec[4]'), ('-', '2009036', 'Q0', '10793', 5, 3.6029, 'DjibrilMohamedOmaimaDouae', '/article[1]/sec[10]'), ('-', '2009036', 'Q0', '10793', 6, 4.9501, 'DjibrilMohamedOmaimaDouae', '/article[1]/sec[3]'), ('-', '2009036', 'Q0', '10793', 7, 5.2052, 'DjibrilMohamedOmaimaDouae', '/article[1]/sec[7]'), ('-', '2009036', 'Q0', '10793', 8, 9.1743, 'DjibrilMohamedOmaimaDouae', '/article[1]/sec[6]'), ('-', '2009036', 'Q0', '10793', 9, 12.093, 'DjibrilMohamedOmaimaDouae', '/article[1]/sec[2]')], [('-', '2009067', 'Q0', '10793', 9, 0.185, 'DjibrilMohamedOmaimaDouae', '/article[1]/sec[8]'), ('-', '2009067', 'Q0', '10793', 10, 0.2732, 'DjibrilMohamedOmaimaDouae', '/article[1]/sec[3]'), ('-', '2009067', 'Q0', '10793', 11, 0.3142, 'DjibrilMohamedOmaimaDouae', '/article[1]/sec[5]'), ('-', '2009067', 'Q0', '10793', 12, 0.3289, 'DjibrilMohamedOmaimaDouae', '/article[1]/sec[1]'), ('-', '2009067', 'Q0', '10793', 13, 0.3289, 'DjibrilMohamedOmaimaDouae', '/article[1]/sec[4]'), ('-', '2009067', 'Q0', '10793', 14, 0.3289, 'DjibrilMohamedOmaimaDouae', '/article[1]/sec[6]'), ('-', '2009067', 'Q0', '10793', 15, 0.3614, 'DjibrilMohamedOmaimaDouae', '/article[1]/sec[7]'), ('-', '2009067', 'Q0', '10793', 16, 0.9851, 'DjibrilMohamedOmaimaDouae', '/article[1]/sec[10]'), ('-', '2009067', 'Q0', '10793', 17, 1.2741, 'DjibrilMohamedOmaimaDouae', '/article[1]/sec[2]')], [('-', '2009073', 'Q0', '10793', 17, 1.2127, 'DjibrilMohamedOmaimaDouae', '/article[1]/sec[4]')], [], [], []], [[('-', '2009011', 'Q0', '11286', 0, 1.2541, 'DjibrilMohamedOmaimaDouae', '/article[1]/sec[2]'), ('-', '2009011', 'Q0', '11286', 1, 1.8524, 'DjibrilMohamedOmaimaDouae', '/article[1]/sec[6]'), ('-', '2009011', 'Q0', '11286', 2, 2.0091, 'DjibrilMohamedOmaimaDouae', '/article[1]/sec[3]')], [('-', '2009036', 'Q0', '11286', 2, 5.8492, 'DjibrilMohamedOmaimaDouae', '/article[1]/sec[4]')], [('-', '2009067', 'Q0', '11286', 2, 0.185, 'DjibrilMohamedOmaimaDouae', '/article[1]/sec[1]'), ('-', '2009067', 'Q0', '11286', 3, 0.2963, 'DjibrilMohamedOmaimaDouae', '/article[1]/sec[2]'), ('-', '2009067', 'Q0', '11286', 4, 0.3289, 'DjibrilMohamedOmaimaDouae', '/article[1]/sec[4]'), ('-', '2009067', 'Q0', '11286', 5, 0.3413, 'DjibrilMohamedOmaimaDouae', '/article[1]/sec[3]'), ('-', '2009067', 'Q0', '11286', 6, 0.8738, 'DjibrilMohamedOmaimaDouae', '/article[1]/sec[7]'), ('-', '2009067', 'Q0', '11286', 7, 0.9294, 'DjibrilMohamedOmaimaDouae', '/article[1]/sec[6]')], [('-', '2009073', 'Q0', '11286', 7, 0.9267, 'DjibrilMohamedOmaimaDouae', '/article[1]/sec[7]')], [], [('-', '2009078', 'Q0', '11286', 0, 1.2029, 'DjibrilMohamedOmaimaDouae', '/article[1]/sec[4]')], []], [[], [], [('-', '2009067', 'Q0', '11298', 0, 0.185, 'DjibrilMohamedOmaimaDouae', '/article[1]/sec[5]'), ('-', '2009067', 'Q0', '11298', 1, 0.185, 'DjibrilMohamedOmaimaDouae', '/article[1]/sec[7]'), ('-', '2009067', 'Q0', '11298', 2, 0.4402, 'DjibrilMohamedOmaimaDouae', '/article[1]/sec[2]'), ('-', '2009067', 'Q0', '11298', 3, 0.4658, 'DjibrilMohamedOmaimaDouae', '/article[1]/sec[1]'), ('-', '2009067', 'Q0', '11298', 4, 2.4937, 'DjibrilMohamedOmaimaDouae', '/article[1]/sec[3]')], [('-', '2009073', 'Q0', '11298', 4, 1.2127, 'DjibrilMohamedOmaimaDouae', '/article[1]/sec[2]')], [], [], [('-', '2009085', 'Q0', '11298', 0, 0.6771, 'DjibrilMohamedOmaimaDouae', '/article[1]/sec[3]'), ('-', '2009085', 'Q0', '11298', 1, 1.0002, 'DjibrilMohamedOmaimaDouae', '/article[1]/sec[2]'), ('-', '2009085', 'Q0', '11298', 2, 1.2041, 'DjibrilMohamedOmaimaDouae', '/article[1]/sec[1]')]], [[('-', '2009011', 'Q0', '12431', 2, 1.2541, 'DjibrilMohamedOmaimaDouae', '/article[1]/sec[8]')], [], [('-', '2009067', 'Q0', '12431', 0, 0.2406, 'DjibrilMohamedOmaimaDouae', '/article[1]/sec[4]'), ('-', '2009067', 'Q0', '12431', 1, 0.2732, 'DjibrilMohamedOmaimaDouae', '/article[1]/sec[7]'), ('-', '2009067', 'Q0', '12431', 2, 0.3289, 'DjibrilMohamedOmaimaDouae', '/article[1]/sec[3]'), ('-', '2009067', 'Q0', '12431', 3, 0.3776, 'DjibrilMohamedOmaimaDouae', '/article[1]/sec[1]'), ('-', '2009067', 'Q0', '12431', 4, 0.6888, 'DjibrilMohamedOmaimaDouae', '/article[1]/sec[6]'), ('-', '2009067', 'Q0', '12431', 5, 2.961, 'DjibrilMohamedOmaimaDouae', '/article[1]/sec[2]')], [('-', '2009073', 'Q0', '12431', 5, 0.9476, 'DjibrilMohamedOmaimaDouae', '/article[1]/sec[4]'), ('-', '2009073', 'Q0', '12431', 6, 0.9476, 'DjibrilMohamedOmaimaDouae', '/article[1]/sec[7]'), ('-', '2009073', 'Q0', '12431', 7, 1.2329, 'DjibrilMohamedOmaimaDouae', '/article[1]/sec[6]'), ('-', '2009073', 'Q0', '12431', 8, 1.3998, 'DjibrilMohamedOmaimaDouae', '/article[1]/sec[8]'), ('-', '2009073', 'Q0', '12431', 9, 1.7485, 'DjibrilMohamedOmaimaDouae', '/article[1]/sec[1]'), ('-', '2009073', 'Q0', '12431', 10, 3.8902, 'DjibrilMohamedOmaimaDouae', '/article[1]/sec[2]')], [('-', '2009074', 'Q0', '12431', 10, 0.9476, 'DjibrilMohamedOmaimaDouae', '/article[1]/sec[4]'), ('-', '2009074', 'Q0', '12431', 11, 0.9476, 'DjibrilMohamedOmaimaDouae', '/article[1]/sec[7]'), ('-', '2009074', 'Q0', '12431', 12, 1.2329, 'DjibrilMohamedOmaimaDouae', '/article[1]/sec[6]'), ('-', '2009074', 'Q0', '12431', 13, 1.3998, 'DjibrilMohamedOmaimaDouae', '/article[1]/sec[8]'), ('-', '2009074', 'Q0', '12431', 14, 3.9397, 'DjibrilMohamedOmaimaDouae', '/article[1]/sec[2]'), ('-', '2009074', 'Q0', '12431', 15, 6.4377, 'DjibrilMohamedOmaimaDouae', '/article[1]/sec[1]')], [('-', '2009078', 'Q0', '12431', 15, 0.8349, 'DjibrilMohamedOmaimaDouae', '/article[1]/sec[2]'), ('-', '2009078', 'Q0', '12431', 16, 1.2333, 'DjibrilMohamedOmaimaDouae', '/article[1]/sec[1]')], [('-', '2009085', 'Q0', '12431', 16, 0.6771, 'DjibrilMohamedOmaimaDouae', '/article[1]/sec[1]')]], [[('-', '2009011', 'Q0', '12486', 16, 3.1512, 'DjibrilMohamedOmaimaDouae', '/article[1]/sec[2]'), ('-', '2009011', 'Q0', '12486', 17, 4.4065, 'DjibrilMohamedOmaimaDouae', '/article[1]/sec[1]'), ('-', '2009011', 'Q0', '12486', 18, 6.8444, 'DjibrilMohamedOmaimaDouae', '/article[1]/sec[3]')], [], [('-', '2009067', 'Q0', '12486', 0, 0.185, 'DjibrilMohamedOmaimaDouae', '/article[1]/sec[5]'), ('-', '2009067', 'Q0', '12486', 1, 0.2963, 'DjibrilMohamedOmaimaDouae', '/article[1]/sec[2]'), ('-', '2009067', 'Q0', '12486', 2, 0.3969, 'DjibrilMohamedOmaimaDouae', '/article[1]/sec[1]'), ('-', '2009067', 'Q0', '12486', 3, 0.4942, 'DjibrilMohamedOmaimaDouae', '/article[1]/sec[3]')], [], [], [], []], [[], [], [('-', '2009067', 'Q0', '13035', 0, 0.185, 'DjibrilMohamedOmaimaDouae', '/article[1]/sec[5]'), ('-', '2009067', 'Q0', '13035', 1, 0.2406, 'DjibrilMohamedOmaimaDouae', '/article[1]/sec[2]'), ('-', '2009067', 'Q0', '13035', 2, 0.3142, 'DjibrilMohamedOmaimaDouae', '/article[1]/sec[1]'), ('-', '2009067', 'Q0', '13035', 3, 0.3699, 'DjibrilMohamedOmaimaDouae', '/article[1]/sec[3]'), ('-', '2009067', 'Q0', '13035', 4, 0.3845, 'DjibrilMohamedOmaimaDouae', '/article[1]/sec[6]'), ('-', '2009067', 'Q0', '13035', 5, 1.0177, 'DjibrilMohamedOmaimaDouae', '/article[1]/sec[4]')], [('-', '2009073', 'Q0', '13035', 5, 1.2127, 'DjibrilMohamedOmaimaDouae', '/article[1]/sec[5]'), ('-', '2009073', 'Q0', '13035', 6, 1.2127, 'DjibrilMohamedOmaimaDouae', '/article[1]/sec[9]')], [('-', '2009074', 'Q0', '13035', 6, 0.8349, 'DjibrilMohamedOmaimaDouae', '/article[1]/sec[5]'), ('-', '2009074', 'Q0', '13035', 7, 1.2333, 'DjibrilMohamedOmaimaDouae', '/article[1]/sec[2]'), ('-', '2009074', 'Q0', '13035', 8, 1.2333, 'DjibrilMohamedOmaimaDouae', '/article[1]/sec[6]'), ('-', '2009074', 'Q0', '13035', 9, 1.3376, 'DjibrilMohamedOmaimaDouae', '/article[1]/sec[4]'), ('-', '2009074', 'Q0', '13035', 10, 1.5405, 'DjibrilMohamedOmaimaDouae', '/article[1]/sec[3]')], [('-', '2009078', 'Q0', '13035', 10, 0.8349, 'DjibrilMohamedOmaimaDouae', '/article[1]/sec[5]'), ('-', '2009078', 'Q0', '13035', 11, 1.2333, 'DjibrilMohamedOmaimaDouae', '/article[1]/sec[2]'), ('-', '2009078', 'Q0', '13035', 12, 1.2333, 'DjibrilMohamedOmaimaDouae', '/article[1]/sec[6]'), ('-', '2009078', 'Q0', '13035', 13, 1.3376, 'DjibrilMohamedOmaimaDouae', '/article[1]/sec[4]'), ('-', '2009078', 'Q0', '13035', 14, 1.5405, 'DjibrilMohamedOmaimaDouae', '/article[1]/sec[3]')], [('-', '2009085', 'Q0', '13035', 14, 0.6771, 'DjibrilMohamedOmaimaDouae', '/article[1]/sec[4]'), ('-', '2009085', 'Q0', '13035', 15, 0.881, 'DjibrilMohamedOmaimaDouae', '/article[1]/sec[5]'), ('-', '2009085', 'Q0', '13035', 16, 1.0002, 'DjibrilMohamedOmaimaDouae', '/article[1]/sec[2]'), ('-', '2009085', 'Q0', '13035', 17, 1.3543, 'DjibrilMohamedOmaimaDouae', '/article[1]/sec[3]')]], [[], [('-', '2009036', 'Q0', '13460', 0, 1.6257, 'DjibrilMohamedOmaimaDouae', '/article[1]/sec[3]')], [('-', '2009067', 'Q0', '13460', 0, 0.2406, 'DjibrilMohamedOmaimaDouae', '/article[1]/sec[1]'), ('-', '2009067', 'Q0', '13460', 1, 0.2406, 'DjibrilMohamedOmaimaDouae', '/article[1]/sec[5]'), ('-', '2009067', 'Q0', '13460', 2, 0.2406, 'DjibrilMohamedOmaimaDouae', '/article[1]/sec[9]'), ('-', '2009067', 'Q0', '13460', 3, 0.2732, 'DjibrilMohamedOmaimaDouae', '/article[1]/sec[2]'), ('-', '2009067', 'Q0', '13460', 4, 0.3142, 'DjibrilMohamedOmaimaDouae', '/article[1]/sec[6]'), ('-', '2009067', 'Q0', '13460', 5, 1.1694, 'DjibrilMohamedOmaimaDouae', '/article[1]/sec[4]'), ('-', '2009067', 'Q0', '13460', 6, 2.4789, 'DjibrilMohamedOmaimaDouae', '/article[1]/sec[8]'), ('-', '2009067', 'Q0', '13460', 7, 4.3242, 'DjibrilMohamedOmaimaDouae', '/article[1]/sec[3]')], [('-', '2009073', 'Q0', '13460', 7, 0.9476, 'DjibrilMohamedOmaimaDouae', '/article[1]/sec[2]'), ('-', '2009073', 'Q0', '13460', 8, 0.9476, 'DjibrilMohamedOmaimaDouae', '/article[1]/sec[9]'), ('-', '2009073', 'Q0', '13460', 9, 1.2329, 'DjibrilMohamedOmaimaDouae', '/article[1]/sec[4]'), ('-', '2009073', 'Q0', '13460', 10, 1.2329, 'DjibrilMohamedOmaimaDouae', '/article[1]/sec[5]'), ('-', '2009073', 'Q0', '13460', 11, 3.7459, 'DjibrilMohamedOmaimaDouae', '/article[1]/sec[3]')], [('-', '2009074', 'Q0', '13460', 11, 0.9476, 'DjibrilMohamedOmaimaDouae', '/article[1]/sec[2]'), ('-', '2009074', 'Q0', '13460', 12, 0.9476, 'DjibrilMohamedOmaimaDouae', '/article[1]/sec[9]'), ('-', '2009074', 'Q0', '13460', 13, 1.2329, 'DjibrilMohamedOmaimaDouae', '/article[1]/sec[4]'), ('-', '2009074', 'Q0', '13460', 14, 1.2329, 'DjibrilMohamedOmaimaDouae', '/article[1]/sec[5]'), ('-', '2009074', 'Q0', '13460', 15, 1.9703, 'DjibrilMohamedOmaimaDouae', '/article[1]/sec[3]')], [('-', '2009078', 'Q0', '13460', 15, 1.2029, 'DjibrilMohamedOmaimaDouae', '/article[1]/sec[8]')], [('-', '2009085', 'Q0', '13460', 15, 0.6771, 'DjibrilMohamedOmaimaDouae', '/article[1]/sec[2]'), ('-', '2009085', 'Q0', '13460', 16, 1.2887, 'DjibrilMohamedOmaimaDouae', '/article[1]/sec[3]'), ('-', '2009085', 'Q0', '13460', 17, 2.2507, 'DjibrilMohamedOmaimaDouae', '/article[1]/sec[4]')]]]\n",
      "[[[('-', '2009011', 'Q0', '10013', 1, 1.2541, 'DjibrilMohamedOmaimaDouae', '/article[1]/sec[2]'), ('-', '2009011', 'Q0', '10013', 2, 1.6316, 'DjibrilMohamedOmaimaDouae', '/article[1]/sec[11]'), ('-', '2009011', 'Q0', '10013', 3, 1.6316, 'DjibrilMohamedOmaimaDouae', '/article[1]/sec[3]'), ('-', '2009011', 'Q0', '10013', 4, 1.6316, 'DjibrilMohamedOmaimaDouae', '/article[1]/sec[7]'), ('-', '2009011', 'Q0', '10013', 5, 1.68, 'DjibrilMohamedOmaimaDouae', '/article[1]/sec[6]'), ('-', '2009011', 'Q0', '10013', 6, 2.0091, 'DjibrilMohamedOmaimaDouae', '/article[1]/sec[12]'), ('-', '2009011', 'Q0', '10013', 7, 2.9341, 'DjibrilMohamedOmaimaDouae', '/article[1]/sec[8]'), ('-', '2009011', 'Q0', '10013', 8, 3.4399, 'DjibrilMohamedOmaimaDouae', '/article[1]/sec[4]')], [], [('-', '2009067', 'Q0', '10013', 0, 0.185, 'DjibrilMohamedOmaimaDouae', '/article[1]/sec[10]'), ('-', '2009067', 'Q0', '10013', 1, 0.185, 'DjibrilMohamedOmaimaDouae', '/article[1]/sec[7]'), ('-', '2009067', 'Q0', '10013', 2, 0.185, 'DjibrilMohamedOmaimaDouae', '/article[1]/sec[9]'), ('-', '2009067', 'Q0', '10013', 3, 0.3142, 'DjibrilMohamedOmaimaDouae', '/article[1]/sec[11]'), ('-', '2009067', 'Q0', '10013', 4, 0.3142, 'DjibrilMohamedOmaimaDouae', '/article[1]/sec[12]'), ('-', '2009067', 'Q0', '10013', 5, 0.3289, 'DjibrilMohamedOmaimaDouae', '/article[1]/sec[3]'), ('-', '2009067', 'Q0', '10013', 6, 0.4295, 'DjibrilMohamedOmaimaDouae', '/article[1]/sec[8]'), ('-', '2009067', 'Q0', '10013', 7, 1.0664, 'DjibrilMohamedOmaimaDouae', '/article[1]/sec[5]'), ('-', '2009067', 'Q0', '10013', 8, 1.2482, 'DjibrilMohamedOmaimaDouae', '/article[1]/sec[4]'), ('-', '2009067', 'Q0', '10013', 9, 1.3317, 'DjibrilMohamedOmaimaDouae', '/article[1]/sec[1]'), ('-', '2009067', 'Q0', '10013', 10, 1.7491, 'DjibrilMohamedOmaimaDouae', '/article[1]/sec[6]')], [('-', '2009073', 'Q0', '10013', 10, 0.9476, 'DjibrilMohamedOmaimaDouae', '/article[1]/sec[6]'), ('-', '2009073', 'Q0', '10013', 11, 1.2127, 'DjibrilMohamedOmaimaDouae', '/article[1]/sec[1]'), ('-', '2009073', 'Q0', '10013', 12, 1.7913, 'DjibrilMohamedOmaimaDouae', '/article[1]/sec[12]')], [('-', '2009074', 'Q0', '10013', 12, 0.8349, 'DjibrilMohamedOmaimaDouae', '/article[1]/sec[10]'), ('-', '2009074', 'Q0', '10013', 13, 0.9476, 'DjibrilMohamedOmaimaDouae', '/article[1]/sec[6]'), ('-', '2009074', 'Q0', '10013', 14, 2.1572, 'DjibrilMohamedOmaimaDouae', '/article[1]/sec[4]')], [('-', '2009078', 'Q0', '10013', 14, 0.8349, 'DjibrilMohamedOmaimaDouae', '/article[1]/sec[10]')], [('-', '2009085', 'Q0', '10013', 14, 0.881, 'DjibrilMohamedOmaimaDouae', '/article[1]/sec[4]')]], [[('-', '2009011', 'Q0', '10136', 14, 1.2541, 'DjibrilMohamedOmaimaDouae', '/article[1]/sec[3]'), ('-', '2009011', 'Q0', '10136', 15, 2.6631, 'DjibrilMohamedOmaimaDouae', '/article[1]/sec[1]')], [], [('-', '2009067', 'Q0', '10136', 0, 0.185, 'DjibrilMohamedOmaimaDouae', '/article[1]/sec[5]'), ('-', '2009067', 'Q0', '10136', 1, 1.0301, 'DjibrilMohamedOmaimaDouae', '/article[1]/sec[1]'), ('-', '2009067', 'Q0', '10136', 2, 1.2251, 'DjibrilMohamedOmaimaDouae', '/article[1]/sec[2]'), ('-', '2009067', 'Q0', '10136', 3, 1.3177, 'DjibrilMohamedOmaimaDouae', '/article[1]/sec[4]'), ('-', '2009067', 'Q0', '10136', 4, 2.2054, 'DjibrilMohamedOmaimaDouae', '/article[1]/sec[3]')], [('-', '2009073', 'Q0', '10136', 4, 0.9267, 'DjibrilMohamedOmaimaDouae', '/article[1]/sec[6]'), ('-', '2009073', 'Q0', '10136', 5, 2.718, 'DjibrilMohamedOmaimaDouae', '/article[1]/sec[1]')], [('-', '2009074', 'Q0', '10136', 5, 0.8349, 'DjibrilMohamedOmaimaDouae', '/article[1]/sec[3]'), ('-', '2009074', 'Q0', '10136', 6, 0.8349, 'DjibrilMohamedOmaimaDouae', '/article[1]/sec[4]'), ('-', '2009074', 'Q0', '10136', 7, 0.8349, 'DjibrilMohamedOmaimaDouae', '/article[1]/sec[6]')], [('-', '2009078', 'Q0', '10136', 7, 0.8349, 'DjibrilMohamedOmaimaDouae', '/article[1]/sec[4]'), ('-', '2009078', 'Q0', '10136', 8, 2.6117, 'DjibrilMohamedOmaimaDouae', '/article[1]/sec[3]'), ('-', '2009078', 'Q0', '10136', 9, 3.78, 'DjibrilMohamedOmaimaDouae', '/article[1]/sec[6]')], [('-', '2009085', 'Q0', '10136', 9, 0.6771, 'DjibrilMohamedOmaimaDouae', '/article[1]/sec[2]'), ('-', '2009085', 'Q0', '10136', 10, 1.0002, 'DjibrilMohamedOmaimaDouae', '/article[1]/sec[6]'), ('-', '2009085', 'Q0', '10136', 11, 1.3543, 'DjibrilMohamedOmaimaDouae', '/article[1]/sec[1]'), ('-', '2009085', 'Q0', '10136', 12, 2.9558, 'DjibrilMohamedOmaimaDouae', '/article[1]/sec[3]'), ('-', '2009085', 'Q0', '10136', 13, 3.117, 'DjibrilMohamedOmaimaDouae', '/article[1]/sec[4]')]], [[], [('-', '2009036', 'Q0', '10793', 0, 1.5137, 'DjibrilMohamedOmaimaDouae', '/article[1]/sec[9]'), ('-', '2009036', 'Q0', '10793', 1, 2.2359, 'DjibrilMohamedOmaimaDouae', '/article[1]/sec[1]'), ('-', '2009036', 'Q0', '10793', 2, 2.425, 'DjibrilMohamedOmaimaDouae', '/article[1]/sec[8]'), ('-', '2009036', 'Q0', '10793', 3, 2.5717, 'DjibrilMohamedOmaimaDouae', '/article[1]/sec[5]'), ('-', '2009036', 'Q0', '10793', 4, 2.6916, 'DjibrilMohamedOmaimaDouae', '/article[1]/sec[4]'), ('-', '2009036', 'Q0', '10793', 5, 3.6029, 'DjibrilMohamedOmaimaDouae', '/article[1]/sec[10]'), ('-', '2009036', 'Q0', '10793', 6, 4.9501, 'DjibrilMohamedOmaimaDouae', '/article[1]/sec[3]'), ('-', '2009036', 'Q0', '10793', 7, 5.2052, 'DjibrilMohamedOmaimaDouae', '/article[1]/sec[7]'), ('-', '2009036', 'Q0', '10793', 8, 9.1743, 'DjibrilMohamedOmaimaDouae', '/article[1]/sec[6]'), ('-', '2009036', 'Q0', '10793', 9, 12.093, 'DjibrilMohamedOmaimaDouae', '/article[1]/sec[2]')], [('-', '2009067', 'Q0', '10793', 9, 0.185, 'DjibrilMohamedOmaimaDouae', '/article[1]/sec[8]'), ('-', '2009067', 'Q0', '10793', 10, 0.2732, 'DjibrilMohamedOmaimaDouae', '/article[1]/sec[3]'), ('-', '2009067', 'Q0', '10793', 11, 0.3142, 'DjibrilMohamedOmaimaDouae', '/article[1]/sec[5]'), ('-', '2009067', 'Q0', '10793', 12, 0.3289, 'DjibrilMohamedOmaimaDouae', '/article[1]/sec[1]'), ('-', '2009067', 'Q0', '10793', 13, 0.3289, 'DjibrilMohamedOmaimaDouae', '/article[1]/sec[4]'), ('-', '2009067', 'Q0', '10793', 14, 0.3289, 'DjibrilMohamedOmaimaDouae', '/article[1]/sec[6]'), ('-', '2009067', 'Q0', '10793', 15, 0.3614, 'DjibrilMohamedOmaimaDouae', '/article[1]/sec[7]'), ('-', '2009067', 'Q0', '10793', 16, 0.9851, 'DjibrilMohamedOmaimaDouae', '/article[1]/sec[10]'), ('-', '2009067', 'Q0', '10793', 17, 1.2741, 'DjibrilMohamedOmaimaDouae', '/article[1]/sec[2]')], [('-', '2009073', 'Q0', '10793', 17, 1.2127, 'DjibrilMohamedOmaimaDouae', '/article[1]/sec[4]')], [], [], []], [[('-', '2009011', 'Q0', '11286', 0, 1.2541, 'DjibrilMohamedOmaimaDouae', '/article[1]/sec[2]'), ('-', '2009011', 'Q0', '11286', 1, 1.8524, 'DjibrilMohamedOmaimaDouae', '/article[1]/sec[6]'), ('-', '2009011', 'Q0', '11286', 2, 2.0091, 'DjibrilMohamedOmaimaDouae', '/article[1]/sec[3]')], [('-', '2009036', 'Q0', '11286', 2, 5.8492, 'DjibrilMohamedOmaimaDouae', '/article[1]/sec[4]')], [('-', '2009067', 'Q0', '11286', 2, 0.185, 'DjibrilMohamedOmaimaDouae', '/article[1]/sec[1]'), ('-', '2009067', 'Q0', '11286', 3, 0.2963, 'DjibrilMohamedOmaimaDouae', '/article[1]/sec[2]'), ('-', '2009067', 'Q0', '11286', 4, 0.3289, 'DjibrilMohamedOmaimaDouae', '/article[1]/sec[4]'), ('-', '2009067', 'Q0', '11286', 5, 0.3413, 'DjibrilMohamedOmaimaDouae', '/article[1]/sec[3]'), ('-', '2009067', 'Q0', '11286', 6, 0.8738, 'DjibrilMohamedOmaimaDouae', '/article[1]/sec[7]'), ('-', '2009067', 'Q0', '11286', 7, 0.9294, 'DjibrilMohamedOmaimaDouae', '/article[1]/sec[6]')], [('-', '2009073', 'Q0', '11286', 7, 0.9267, 'DjibrilMohamedOmaimaDouae', '/article[1]/sec[7]')], [], [('-', '2009078', 'Q0', '11286', 0, 1.2029, 'DjibrilMohamedOmaimaDouae', '/article[1]/sec[4]')], []], [[], [], [('-', '2009067', 'Q0', '11298', 0, 0.185, 'DjibrilMohamedOmaimaDouae', '/article[1]/sec[5]'), ('-', '2009067', 'Q0', '11298', 1, 0.185, 'DjibrilMohamedOmaimaDouae', '/article[1]/sec[7]'), ('-', '2009067', 'Q0', '11298', 2, 0.4402, 'DjibrilMohamedOmaimaDouae', '/article[1]/sec[2]'), ('-', '2009067', 'Q0', '11298', 3, 0.4658, 'DjibrilMohamedOmaimaDouae', '/article[1]/sec[1]'), ('-', '2009067', 'Q0', '11298', 4, 2.4937, 'DjibrilMohamedOmaimaDouae', '/article[1]/sec[3]')], [('-', '2009073', 'Q0', '11298', 4, 1.2127, 'DjibrilMohamedOmaimaDouae', '/article[1]/sec[2]')], [], [], [('-', '2009085', 'Q0', '11298', 0, 0.6771, 'DjibrilMohamedOmaimaDouae', '/article[1]/sec[3]'), ('-', '2009085', 'Q0', '11298', 1, 1.0002, 'DjibrilMohamedOmaimaDouae', '/article[1]/sec[2]'), ('-', '2009085', 'Q0', '11298', 2, 1.2041, 'DjibrilMohamedOmaimaDouae', '/article[1]/sec[1]')]], [[('-', '2009011', 'Q0', '12431', 2, 1.2541, 'DjibrilMohamedOmaimaDouae', '/article[1]/sec[8]')], [], [('-', '2009067', 'Q0', '12431', 0, 0.2406, 'DjibrilMohamedOmaimaDouae', '/article[1]/sec[4]'), ('-', '2009067', 'Q0', '12431', 1, 0.2732, 'DjibrilMohamedOmaimaDouae', '/article[1]/sec[7]'), ('-', '2009067', 'Q0', '12431', 2, 0.3289, 'DjibrilMohamedOmaimaDouae', '/article[1]/sec[3]'), ('-', '2009067', 'Q0', '12431', 3, 0.3776, 'DjibrilMohamedOmaimaDouae', '/article[1]/sec[1]'), ('-', '2009067', 'Q0', '12431', 4, 0.6888, 'DjibrilMohamedOmaimaDouae', '/article[1]/sec[6]'), ('-', '2009067', 'Q0', '12431', 5, 2.961, 'DjibrilMohamedOmaimaDouae', '/article[1]/sec[2]')], [('-', '2009073', 'Q0', '12431', 5, 0.9476, 'DjibrilMohamedOmaimaDouae', '/article[1]/sec[4]'), ('-', '2009073', 'Q0', '12431', 6, 0.9476, 'DjibrilMohamedOmaimaDouae', '/article[1]/sec[7]'), ('-', '2009073', 'Q0', '12431', 7, 1.2329, 'DjibrilMohamedOmaimaDouae', '/article[1]/sec[6]'), ('-', '2009073', 'Q0', '12431', 8, 1.3998, 'DjibrilMohamedOmaimaDouae', '/article[1]/sec[8]'), ('-', '2009073', 'Q0', '12431', 9, 1.7485, 'DjibrilMohamedOmaimaDouae', '/article[1]/sec[1]'), ('-', '2009073', 'Q0', '12431', 10, 3.8902, 'DjibrilMohamedOmaimaDouae', '/article[1]/sec[2]')], [('-', '2009074', 'Q0', '12431', 10, 0.9476, 'DjibrilMohamedOmaimaDouae', '/article[1]/sec[4]'), ('-', '2009074', 'Q0', '12431', 11, 0.9476, 'DjibrilMohamedOmaimaDouae', '/article[1]/sec[7]'), ('-', '2009074', 'Q0', '12431', 12, 1.2329, 'DjibrilMohamedOmaimaDouae', '/article[1]/sec[6]'), ('-', '2009074', 'Q0', '12431', 13, 1.3998, 'DjibrilMohamedOmaimaDouae', '/article[1]/sec[8]'), ('-', '2009074', 'Q0', '12431', 14, 3.9397, 'DjibrilMohamedOmaimaDouae', '/article[1]/sec[2]'), ('-', '2009074', 'Q0', '12431', 15, 6.4377, 'DjibrilMohamedOmaimaDouae', '/article[1]/sec[1]')], [('-', '2009078', 'Q0', '12431', 15, 0.8349, 'DjibrilMohamedOmaimaDouae', '/article[1]/sec[2]'), ('-', '2009078', 'Q0', '12431', 16, 1.2333, 'DjibrilMohamedOmaimaDouae', '/article[1]/sec[1]')], [('-', '2009085', 'Q0', '12431', 16, 0.6771, 'DjibrilMohamedOmaimaDouae', '/article[1]/sec[1]')]], [[('-', '2009011', 'Q0', '12486', 16, 3.1512, 'DjibrilMohamedOmaimaDouae', '/article[1]/sec[2]'), ('-', '2009011', 'Q0', '12486', 17, 4.4065, 'DjibrilMohamedOmaimaDouae', '/article[1]/sec[1]'), ('-', '2009011', 'Q0', '12486', 18, 6.8444, 'DjibrilMohamedOmaimaDouae', '/article[1]/sec[3]')], [], [('-', '2009067', 'Q0', '12486', 0, 0.185, 'DjibrilMohamedOmaimaDouae', '/article[1]/sec[5]'), ('-', '2009067', 'Q0', '12486', 1, 0.2963, 'DjibrilMohamedOmaimaDouae', '/article[1]/sec[2]'), ('-', '2009067', 'Q0', '12486', 2, 0.3969, 'DjibrilMohamedOmaimaDouae', '/article[1]/sec[1]'), ('-', '2009067', 'Q0', '12486', 3, 0.4942, 'DjibrilMohamedOmaimaDouae', '/article[1]/sec[3]')], [], [], [], []], [[], [], [('-', '2009067', 'Q0', '13035', 0, 0.185, 'DjibrilMohamedOmaimaDouae', '/article[1]/sec[5]'), ('-', '2009067', 'Q0', '13035', 1, 0.2406, 'DjibrilMohamedOmaimaDouae', '/article[1]/sec[2]'), ('-', '2009067', 'Q0', '13035', 2, 0.3142, 'DjibrilMohamedOmaimaDouae', '/article[1]/sec[1]'), ('-', '2009067', 'Q0', '13035', 3, 0.3699, 'DjibrilMohamedOmaimaDouae', '/article[1]/sec[3]'), ('-', '2009067', 'Q0', '13035', 4, 0.3845, 'DjibrilMohamedOmaimaDouae', '/article[1]/sec[6]'), ('-', '2009067', 'Q0', '13035', 5, 1.0177, 'DjibrilMohamedOmaimaDouae', '/article[1]/sec[4]')], [('-', '2009073', 'Q0', '13035', 5, 1.2127, 'DjibrilMohamedOmaimaDouae', '/article[1]/sec[5]'), ('-', '2009073', 'Q0', '13035', 6, 1.2127, 'DjibrilMohamedOmaimaDouae', '/article[1]/sec[9]')], [('-', '2009074', 'Q0', '13035', 6, 0.8349, 'DjibrilMohamedOmaimaDouae', '/article[1]/sec[5]'), ('-', '2009074', 'Q0', '13035', 7, 1.2333, 'DjibrilMohamedOmaimaDouae', '/article[1]/sec[2]'), ('-', '2009074', 'Q0', '13035', 8, 1.2333, 'DjibrilMohamedOmaimaDouae', '/article[1]/sec[6]'), ('-', '2009074', 'Q0', '13035', 9, 1.3376, 'DjibrilMohamedOmaimaDouae', '/article[1]/sec[4]'), ('-', '2009074', 'Q0', '13035', 10, 1.5405, 'DjibrilMohamedOmaimaDouae', '/article[1]/sec[3]')], [('-', '2009078', 'Q0', '13035', 10, 0.8349, 'DjibrilMohamedOmaimaDouae', '/article[1]/sec[5]'), ('-', '2009078', 'Q0', '13035', 11, 1.2333, 'DjibrilMohamedOmaimaDouae', '/article[1]/sec[2]'), ('-', '2009078', 'Q0', '13035', 12, 1.2333, 'DjibrilMohamedOmaimaDouae', '/article[1]/sec[6]'), ('-', '2009078', 'Q0', '13035', 13, 1.3376, 'DjibrilMohamedOmaimaDouae', '/article[1]/sec[4]'), ('-', '2009078', 'Q0', '13035', 14, 1.5405, 'DjibrilMohamedOmaimaDouae', '/article[1]/sec[3]')], [('-', '2009085', 'Q0', '13035', 14, 0.6771, 'DjibrilMohamedOmaimaDouae', '/article[1]/sec[4]'), ('-', '2009085', 'Q0', '13035', 15, 0.881, 'DjibrilMohamedOmaimaDouae', '/article[1]/sec[5]'), ('-', '2009085', 'Q0', '13035', 16, 1.0002, 'DjibrilMohamedOmaimaDouae', '/article[1]/sec[2]'), ('-', '2009085', 'Q0', '13035', 17, 1.3543, 'DjibrilMohamedOmaimaDouae', '/article[1]/sec[3]')]], [[], [('-', '2009036', 'Q0', '13460', 0, 1.6257, 'DjibrilMohamedOmaimaDouae', '/article[1]/sec[3]')], [('-', '2009067', 'Q0', '13460', 0, 0.2406, 'DjibrilMohamedOmaimaDouae', '/article[1]/sec[1]'), ('-', '2009067', 'Q0', '13460', 1, 0.2406, 'DjibrilMohamedOmaimaDouae', '/article[1]/sec[5]'), ('-', '2009067', 'Q0', '13460', 2, 0.2406, 'DjibrilMohamedOmaimaDouae', '/article[1]/sec[9]'), ('-', '2009067', 'Q0', '13460', 3, 0.2732, 'DjibrilMohamedOmaimaDouae', '/article[1]/sec[2]'), ('-', '2009067', 'Q0', '13460', 4, 0.3142, 'DjibrilMohamedOmaimaDouae', '/article[1]/sec[6]'), ('-', '2009067', 'Q0', '13460', 5, 1.1694, 'DjibrilMohamedOmaimaDouae', '/article[1]/sec[4]'), ('-', '2009067', 'Q0', '13460', 6, 2.4789, 'DjibrilMohamedOmaimaDouae', '/article[1]/sec[8]'), ('-', '2009067', 'Q0', '13460', 7, 4.3242, 'DjibrilMohamedOmaimaDouae', '/article[1]/sec[3]')], [('-', '2009073', 'Q0', '13460', 7, 0.9476, 'DjibrilMohamedOmaimaDouae', '/article[1]/sec[2]'), ('-', '2009073', 'Q0', '13460', 8, 0.9476, 'DjibrilMohamedOmaimaDouae', '/article[1]/sec[9]'), ('-', '2009073', 'Q0', '13460', 9, 1.2329, 'DjibrilMohamedOmaimaDouae', '/article[1]/sec[4]'), ('-', '2009073', 'Q0', '13460', 10, 1.2329, 'DjibrilMohamedOmaimaDouae', '/article[1]/sec[5]'), ('-', '2009073', 'Q0', '13460', 11, 3.7459, 'DjibrilMohamedOmaimaDouae', '/article[1]/sec[3]')], [('-', '2009074', 'Q0', '13460', 11, 0.9476, 'DjibrilMohamedOmaimaDouae', '/article[1]/sec[2]'), ('-', '2009074', 'Q0', '13460', 12, 0.9476, 'DjibrilMohamedOmaimaDouae', '/article[1]/sec[9]'), ('-', '2009074', 'Q0', '13460', 13, 1.2329, 'DjibrilMohamedOmaimaDouae', '/article[1]/sec[4]'), ('-', '2009074', 'Q0', '13460', 14, 1.2329, 'DjibrilMohamedOmaimaDouae', '/article[1]/sec[5]'), ('-', '2009074', 'Q0', '13460', 15, 1.9703, 'DjibrilMohamedOmaimaDouae', '/article[1]/sec[3]')], [('-', '2009078', 'Q0', '13460', 15, 1.2029, 'DjibrilMohamedOmaimaDouae', '/article[1]/sec[8]')], [('-', '2009085', 'Q0', '13460', 15, 0.6771, 'DjibrilMohamedOmaimaDouae', '/article[1]/sec[2]'), ('-', '2009085', 'Q0', '13460', 16, 1.2887, 'DjibrilMohamedOmaimaDouae', '/article[1]/sec[3]'), ('-', '2009085', 'Q0', '13460', 17, 2.2507, 'DjibrilMohamedOmaimaDouae', '/article[1]/sec[4]')]], [[], [], [('-', '2009067', 'Q0', '13914', 0, 0.185, 'DjibrilMohamedOmaimaDouae', '/article[1]/sec[5]'), ('-', '2009067', 'Q0', '13914', 1, 0.3776, 'DjibrilMohamedOmaimaDouae', '/article[1]/sec[4]'), ('-', '2009067', 'Q0', '13914', 2, 0.4633, 'DjibrilMohamedOmaimaDouae', '/article[1]/sec[3]'), ('-', '2009067', 'Q0', '13914', 3, 0.4682, 'DjibrilMohamedOmaimaDouae', '/article[1]/sec[2]'), ('-', '2009067', 'Q0', '13914', 4, 1.0177, 'DjibrilMohamedOmaimaDouae', '/article[1]/sec[1]')], [('-', '2009073', 'Q0', '13914', 4, 1.3689, 'DjibrilMohamedOmaimaDouae', '/article[1]/sec[2]'), ('-', '2009073', 'Q0', '13914', 5, 2.3265, 'DjibrilMohamedOmaimaDouae', '/article[1]/sec[3]')], [('-', '2009074', 'Q0', '13914', 5, 1.3998, 'DjibrilMohamedOmaimaDouae', '/article[1]/sec[3]')], [('-', '2009078', 'Q0', '13914', 5, 1.2029, 'DjibrilMohamedOmaimaDouae', '/article[1]/sec[1]'), ('-', '2009078', 'Q0', '13914', 6, 1.2029, 'DjibrilMohamedOmaimaDouae', '/article[1]/sec[2]'), ('-', '2009078', 'Q0', '13914', 7, 1.2029, 'DjibrilMohamedOmaimaDouae', '/article[1]/sec[3]')], [('-', '2009085', 'Q0', '13914', 7, 0.6771, 'DjibrilMohamedOmaimaDouae', '/article[1]/sec[4]'), ('-', '2009085', 'Q0', '13914', 8, 0.881, 'DjibrilMohamedOmaimaDouae', '/article[1]/sec[5]'), ('-', '2009085', 'Q0', '13914', 9, 1.0002, 'DjibrilMohamedOmaimaDouae', '/article[1]/sec[1]'), ('-', '2009085', 'Q0', '13914', 10, 3.3534, 'DjibrilMohamedOmaimaDouae', '/article[1]/sec[3]'), ('-', '2009085', 'Q0', '13914', 11, 3.5674, 'DjibrilMohamedOmaimaDouae', '/article[1]/sec[2]')]]]\n",
      "2009011 Q0 10013 1 1.2541 DjibrilMohamedOmaimaDouae /article[1]/sec[2]\n",
      "2009011 Q0 10013 2 1.6316 DjibrilMohamedOmaimaDouae /article[1]/sec[11]\n",
      "2009011 Q0 10013 3 1.6316 DjibrilMohamedOmaimaDouae /article[1]/sec[3]\n",
      "2009011 Q0 10013 4 1.6316 DjibrilMohamedOmaimaDouae /article[1]/sec[7]\n",
      "2009011 Q0 10013 5 1.68 DjibrilMohamedOmaimaDouae /article[1]/sec[6]\n",
      "2009011 Q0 10013 6 2.0091 DjibrilMohamedOmaimaDouae /article[1]/sec[12]\n",
      "2009011 Q0 10013 7 2.9341 DjibrilMohamedOmaimaDouae /article[1]/sec[8]\n",
      "2009011 Q0 10013 8 3.4399 DjibrilMohamedOmaimaDouae /article[1]/sec[4]]\n",
      "2009011 Q0 10136 14 1.2541 DjibrilMohamedOmaimaDouae /article[1]/sec[3]\n",
      "2009011 Q0 10136 15 2.6631 DjibrilMohamedOmaimaDouae /article[1]/sec[1]]\n",
      "2009011 Q0 10136 14 1.2541 DjibrilMohamedOmaimaDouae /article[1]/sec[3]\n",
      "2009011 Q0 10136 15 2.6631 DjibrilMohamedOmaimaDouae /article[1]/sec[1\n",
      "2009011 Q0 11286 0 1.2541 DjibrilMohamedOmaimaDouae /article[1]/sec[2]\n",
      "2009011 Q0 11286 1 1.8524 DjibrilMohamedOmaimaDouae /article[1]/sec[6]\n",
      "2009011 Q0 11286 2 2.0091 DjibrilMohamedOmaimaDouae /article[1]/sec[3]]\n",
      "2009011 Q0 11286 0 1.2541 DjibrilMohamedOmaimaDouae /article[1]/sec[2]\n",
      "2009011 Q0 11286 1 1.8524 DjibrilMohamedOmaimaDouae /article[1]/sec[6]\n",
      "2009011 Q0 11286 2 2.0091 DjibrilMohamedOmaimaDouae /article[1]/sec[3]]\n",
      "2009011 Q0 12431 2 1.2541 DjibrilMohamedOmaimaDouae /article[1]/sec[8]]\n",
      "2009011 Q0 12486 16 3.1512 DjibrilMohamedOmaimaDouae /article[1]/sec[2]\n",
      "2009011 Q0 12486 17 4.4065 DjibrilMohamedOmaimaDouae /article[1]/sec[1]\n",
      "2009011 Q0 12486 18 6.8444 DjibrilMohamedOmaimaDouae /article[1]/sec[3]]\n",
      "2009011 Q0 12486 16 3.1512 DjibrilMohamedOmaimaDouae /article[1]/sec[2]\n",
      "2009011 Q0 12486 17 4.4065 DjibrilMohamedOmaimaDouae /article[1]/sec[1]\n",
      "2009011 Q0 12486 18 6.8444 DjibrilMohamedOmaimaDouae /article[1]/sec[3]]\n",
      "2009011 Q0 12486 16 3.1512 DjibrilMohamedOmaimaDouae /article[1]/sec[2]\n",
      "2009011 Q0 12486 17 4.4065 DjibrilMohamedOmaimaDouae /article[1]/sec[1]\n",
      "2009011 Q0 12486 18 6.8444 DjibrilMohamedOmaimaDouae /article[1]/sec[3]]\n",
      "2009011 Q0 12486 16 3.1512 DjibrilMohamedOmaimaDouae /article[1]/sec[2]\n",
      "2009011 Q0 12486 17 4.4065 DjibrilMohamedOmaimaDouae /article[1]/sec[1]\n",
      "2009011 Q0 12486 18 6.8444 DjibrilMohamedOmaimaDouae /article[1]/sec[3]]\n",
      "Execution time for the run 33 is 0.0020003318786621094\n"
     ]
    }
   ],
   "source": [
    "i = 0\n",
    "ltn_s = []\n",
    "j = 1\n",
    "for docno, a in ltn.items():\n",
    "    i+=1\n",
    "    res,j = scores(query,a,docno,j)\n",
    "    if(len(res)>0):\n",
    "        ltn_s.append(res)\n",
    "    print(ltn_s)\n",
    "    if i==10:\n",
    "        break\n",
    "run_id = build_run_files(run_id, ltn_s, 0, use_stem, use_stopword, k, b)\n",
    "\n",
    "#score_ltn_\n",
    "#build_run_file_xml(run_id, score_ltn, 0, use_stem, use_stopword, k, b)\n",
    "#ltn_test\n",
    "#article[1]/sec[1]"
   ]
  },
  {
   "cell_type": "code",
   "execution_count": 35,
   "id": "9362f595",
   "metadata": {},
   "outputs": [
    {
     "name": "stdout",
     "output_type": "stream",
     "text": [
      "../Practice_04_data/topics_M2DSC_7Q.txt\n"
     ]
    }
   ],
   "source": [
    "# get the query file\n",
    "directory = \"../Practice_04_data/\"\n",
    "#list_data_q = practice2.list_file_data(directory)\n",
    "filename_q = str(directory+\"topics_M2DSC_7Q.txt\")\n",
    "query_list =preprocesFile(filename_q)\n",
    "query = query_list.split(\"\\n\")"
   ]
  },
  {
   "cell_type": "code",
   "execution_count": 21,
   "id": "6054e7a5",
   "metadata": {},
   "outputs": [
    {
     "name": "stdout",
     "output_type": "stream",
     "text": [
      "Ltn time :  0.6507244110107422\n",
      "Ltc time :  0.39051151275634766\n",
      "Bm25 time :  0.39559245109558105\n"
     ]
    }
   ],
   "source": [
    "ltn_,ltc_,bm25_ =weinting_function(pl_f, stat_,k,b) \n",
    "score_ltn_,score_ltc_,score_bm25_ = all_score_wf(query, ltn_,ltc_,bm25_)"
   ]
  },
  {
   "cell_type": "code",
   "execution_count": null,
   "id": "335e4445",
   "metadata": {},
   "outputs": [],
   "source": []
  },
  {
   "cell_type": "code",
   "execution_count": 97,
   "id": "5afbda3a",
   "metadata": {},
   "outputs": [],
   "source": [
    "# index is [0,1,2]==['ltn','ltc','bm25']\n",
    "def build_run_files(run_id, wf_score, index, use_stem, use_stopword, k, b):\n",
    "    start = time.time()\n",
    "    if index != 2:\n",
    "        k = 0.0\n",
    "        b = 0.0\n",
    "    run_file_name, run_id = create_run_file(run_id, index, use_stem, use_stopword, k, b)\n",
    "\n",
    "    for score in wf_score:\n",
    "        for i in range(len(score)):\n",
    "            if(len(score[i])>0):\n",
    "                run_score = ''(score[i]).replace(',', '').\\\n",
    "                replace(\"'\", '').replace('(', '').\\\n",
    "                replace(')', '').replace(' ]','').\\\n",
    "                replace(\"[- \",\"\").replace(' - ',\"\\n\")\n",
    "            if score[i]==score[-1]:\n",
    "                run_score = run_score.replace(\"]]\",\"\")\n",
    "            print(run_score)\n",
    "            break\n",
    "            run_file_name.write(run_score + \"\\n\")\n",
    "    run_file_name.close()\n",
    "\n",
    "    print(\"Execution time for the run {} is {}\".format(run_id, time.time() - start))\n",
    "    return run_id"
   ]
  },
  {
   "cell_type": "code",
   "execution_count": 45,
   "id": "9115db92",
   "metadata": {},
   "outputs": [
    {
     "ename": "TypeError",
     "evalue": "unhashable type: 'list'",
     "output_type": "error",
     "traceback": [
      "\u001B[1;31m---------------------------------------------------------------------------\u001B[0m",
      "\u001B[1;31mTypeError\u001B[0m                                 Traceback (most recent call last)",
      "\u001B[1;32m<ipython-input-45-5e3655737cc5>\u001B[0m in \u001B[0;36m<module>\u001B[1;34m\u001B[0m\n\u001B[1;32m----> 1\u001B[1;33m \u001B[0mset\u001B[0m\u001B[1;33m(\u001B[0m\u001B[1;33m[\u001B[0m\u001B[1;33m[\u001B[0m\u001B[1;34m\"10\"\u001B[0m\u001B[1;33m,\u001B[0m\u001B[1;34m\"sec1\"\u001B[0m\u001B[1;33m,\u001B[0m\u001B[1;36m0.3\u001B[0m\u001B[1;33m]\u001B[0m\u001B[1;33m,\u001B[0m\u001B[1;33m[\u001B[0m\u001B[1;34m\"11\"\u001B[0m\u001B[1;33m,\u001B[0m\u001B[1;34m\"sec1\"\u001B[0m\u001B[1;33m,\u001B[0m\u001B[1;36m0.4\u001B[0m\u001B[1;33m]\u001B[0m\u001B[1;33m,\u001B[0m\u001B[1;33m[\u001B[0m\u001B[1;34m\"12\"\u001B[0m\u001B[1;33m,\u001B[0m\u001B[1;34m\"sec1\"\u001B[0m\u001B[1;33m,\u001B[0m\u001B[1;36m0.1\u001B[0m\u001B[1;33m]\u001B[0m\u001B[1;33m,\u001B[0m\u001B[1;33m[\u001B[0m\u001B[1;34m\"10\"\u001B[0m\u001B[1;33m,\u001B[0m\u001B[1;34m\"sec2\"\u001B[0m\u001B[1;33m,\u001B[0m\u001B[1;36m0.1\u001B[0m\u001B[1;33m]\u001B[0m\u001B[1;33m]\u001B[0m\u001B[1;33m)\u001B[0m\u001B[1;33m\u001B[0m\u001B[1;33m\u001B[0m\u001B[0m\n\u001B[0m",
      "\u001B[1;31mTypeError\u001B[0m: unhashable type: 'list'"
     ]
    }
   ],
   "source": [
    "\n",
    "sorted([[\"10\",\"sec1\",0.3],[\"11\",\"sec1\",0.4],[\"12\",\"sec1\",0.1],[\"10\",\"sec2\",0.1]])"
   ]
  },
  {
   "cell_type": "code",
   "execution_count": null,
   "id": "28bb7aea",
   "metadata": {},
   "outputs": [],
   "source": []
  }
 ],
 "metadata": {
  "kernelspec": {
   "display_name": "Python 3",
   "language": "python",
   "name": "python3"
  },
  "language_info": {
   "codemirror_mode": {
    "name": "ipython",
    "version": 3
   },
   "file_extension": ".py",
   "mimetype": "text/x-python",
   "name": "python",
   "nbconvert_exporter": "python",
   "pygments_lexer": "ipython3",
   "version": "3.8.8"
  }
 },
 "nbformat": 4,
 "nbformat_minor": 5
}