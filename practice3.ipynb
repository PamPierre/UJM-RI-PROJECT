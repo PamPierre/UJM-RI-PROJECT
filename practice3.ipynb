{
 "cells": [
  {
   "cell_type": "code",
   "execution_count": 1,
   "id": "3627e59f",
   "metadata": {},
   "outputs": [],
   "source": [
    "import practice2\n",
    "import matplotlib.pyplot as plt\n",
    "import pandas as pd\n",
    "import math\n",
    "import time"
   ]
  },
  {
   "cell_type": "code",
   "execution_count": 2,
   "id": "4426b601",
   "metadata": {},
   "outputs": [],
   "source": [
    "directory = \"Practice_03_data/\"\n",
    "list_data = practice2.list_file_data(directory)\n",
    "filename = str(directory+list_data[0])"
   ]
  },
  {
   "cell_type": "markdown",
   "id": "7402f5b7",
   "metadata": {},
   "source": [
    "## Exercise 2: Collection Statistics "
   ]
  },
  {
   "cell_type": "code",
   "execution_count": 3,
   "id": "78fa9c62",
   "metadata": {},
   "outputs": [
    {
     "name": "stdout",
     "output_type": "stream",
     "text": [
      "40.80051851272583\n"
     ]
    }
   ],
   "source": [
    "pl_1, lt_1 = practice2.text_mining(filename,False)"
   ]
  },
  {
   "cell_type": "code",
   "execution_count": 28,
   "id": "d9c55aa6",
   "metadata": {
    "scrolled": true
   },
   "outputs": [],
   "source": [
    "stat_1 = practice2.get_statistics(pl_1, lt_1)"
   ]
  },
  {
   "cell_type": "code",
   "execution_count": null,
   "id": "eb21fa71",
   "metadata": {},
   "outputs": [],
   "source": []
  },
  {
   "cell_type": "code",
   "execution_count": 5,
   "id": "0f9d2e2c",
   "metadata": {},
   "outputs": [],
   "source": [
    "dl = pd.DataFrame(stat_1['df'],columns=['Document numbers', 'DL'])\n",
    "tl = pd.DataFrame(stat_1['tl'],columns=['Terms', 'tl'])"
   ]
  },
  {
   "cell_type": "code",
   "execution_count": 6,
   "id": "80bf0b4a",
   "metadata": {},
   "outputs": [],
   "source": [
    "c_freq_l = list()\n",
    "for k,v in stat_1['colec_freq'].items():\n",
    "    c_freq_l.append((k,v[0][0],v[0][1]))"
   ]
  },
  {
   "cell_type": "code",
   "execution_count": 7,
   "id": "571aefc8",
   "metadata": {},
   "outputs": [],
   "source": [
    "c_freq = pd.DataFrame(c_freq_l,columns=['Terms', 'freq','Df'])"
   ]
  },
  {
   "cell_type": "code",
   "execution_count": 8,
   "id": "3d322d5d",
   "metadata": {},
   "outputs": [],
   "source": [
    "tl_red = tl[:100]\n",
    "c_f_red = c_freq[:150]"
   ]
  },
  {
   "cell_type": "code",
   "execution_count": 9,
   "id": "afbf20a4",
   "metadata": {},
   "outputs": [],
   "source": [
    "writer = pd.ExcelWriter('statistique.xlsx')\n",
    "dl.to_excel(writer,'Document lenght')\n",
    "tl_red.to_excel(writer,'Terms lenght')\n",
    "c_f_red.to_excel(writer,'Collection frequency terms')\n",
    "writer.save()"
   ]
  },
  {
   "cell_type": "code",
   "execution_count": null,
   "id": "6fceffdd",
   "metadata": {},
   "outputs": [],
   "source": []
  },
  {
   "cell_type": "markdown",
   "id": "6797834e",
   "metadata": {},
   "source": [
    "## Exercise 3: Collection Statistics using stop-words and stemmer "
   ]
  },
  {
   "cell_type": "code",
   "execution_count": 4,
   "id": "ff71a535",
   "metadata": {},
   "outputs": [
    {
     "name": "stdout",
     "output_type": "stream",
     "text": [
      "1441.4933235645294\n"
     ]
    }
   ],
   "source": [
    "pl_2, lt_2 = practice2.text_mining(filename,True)"
   ]
  },
  {
   "cell_type": "code",
   "execution_count": 5,
   "id": "0a1ed3d6",
   "metadata": {},
   "outputs": [],
   "source": [
    "stat_2 = practice2.get_statistics(pl_2,lt_2)"
   ]
  },
  {
   "cell_type": "code",
   "execution_count": 6,
   "id": "b820fd8c",
   "metadata": {},
   "outputs": [
    {
     "data": {
      "text/plain": [
       "6604890"
      ]
     },
     "execution_count": 6,
     "metadata": {},
     "output_type": "execute_result"
    }
   ],
   "source": [
    "dl = stat_2['df'] \n",
    "#print(dl)\n",
    "word_total = sum([dl[x] for x in dl.keys()])# <--- somme de tous les termes dans toutes la collections"
   ]
  },
  {
   "cell_type": "code",
   "execution_count": 7,
   "id": "6aed3aae",
   "metadata": {},
   "outputs": [],
   "source": [
    "dl = pd.DataFrame(stat_2['df'],columns=['Document numbers', 'DL'])\n",
    "tl = pd.DataFrame(stat_2['tl'],columns=['Terms', 'tl'])\n",
    "\n",
    "c_freq_l = list()\n",
    "i=0\n",
    "for k,v in stat_2['colec_freq'].items():\n",
    "    i+=1\n",
    "    if i==200: break\n",
    "    c_freq_l.append((k,v[0][0],v[0][1]))\n",
    "\n",
    "c_freq = pd.DataFrame(c_freq_l,columns=['Terms', 'freq','Df'])\n",
    "\n",
    "tl_red = tl[:100]\n",
    "c_f_red = c_freq[:150]\n",
    "\n",
    "writer = pd.ExcelWriter('statistique_stopword_stemming.xlsx')\n",
    "dl.to_excel(writer,'Document lenght')\n",
    "tl_red.to_excel(writer,'Terms lenght')\n",
    "c_f_red.to_excel(writer,'Collection frequency terms')\n",
    "writer.save()"
   ]
  },
  {
   "cell_type": "markdown",
   "id": "676a4e47",
   "metadata": {},
   "source": [
    "## Exercise 4: SMART ltn weighting "
   ]
  },
  {
   "cell_type": "code",
   "execution_count": 8,
   "id": "36a93eda",
   "metadata": {},
   "outputs": [],
   "source": [
    "def smart_ltn(posting_list,n, df_t):\n",
    "    df = 0\n",
    "    #(1+LOG(tf))*LOG(n/df)\n",
    "    #tf is the frequence of term on a document\n",
    "    #df number of document where the term appear\n",
    "    ltn_value = {} # key doc number, value (terme, ltn)\n",
    "    for term, value in posting_list.items():\n",
    "        dl = df_t[term]\n",
    "        df = dl[0][1] # nombre de doc dans lequel le terme apparait sur toute la collection\n",
    "        for v in value:\n",
    "            tf = v[1]\n",
    "            ltn = (1+math.log10(tf))*(math.log10(n/df))\n",
    "            ltn_value.setdefault(v[0],[]).append((term,round(ltn,4)))\n",
    "    return ltn_value\n",
    "\n",
    "s_ltn = smart_ltn(pl_2, stat_2['n_doc'],stat_2['colec_freq'])"
   ]
  },
  {
   "cell_type": "markdown",
   "id": "434a75f1",
   "metadata": {},
   "source": [
    "## Exercise 5: Ranked Retrieval (ltn weighting) "
   ]
  },
  {
   "cell_type": "code",
   "execution_count": 9,
   "id": "ecd7f659",
   "metadata": {},
   "outputs": [],
   "source": [
    "query = \"web ranking scoring algorithm\"\n",
    "query = practice2.clean(query, True)\n",
    "# Doc = score(sucle(ltn(term)))\n",
    "def rsv_score(query,wf):\n",
    "    rsv_doc = {}       \n",
    "\n",
    "    for term in query.split():\n",
    "        for doc, values in wf.items():\n",
    "            for v in values:\n",
    "                if term == v[0]:\n",
    "                    rsv_doc.setdefault(doc,[]).append(v[1]) \n",
    "                else: continue\n",
    "                    \n",
    "    rsv = [(sum(wf_list),doc) for doc,wf_list in rsv_doc.items()]\n",
    "    return rsv\n",
    "\n",
    "#rsv = practice2.scoring_doc(practice2.clean(query, True), posting_list, list_terms)"
   ]
  },
  {
   "cell_type": "code",
   "execution_count": 10,
   "id": "929d0e5c",
   "metadata": {},
   "outputs": [
    {
     "data": {
      "text/plain": [
       "[('23724', 6.8495),\n",
       " ('70421', 6.4105),\n",
       " ('1482394', 6.2382),\n",
       " ('448834', 6.1813),\n",
       " ('12431', 5.7765),\n",
       " ('462448', 5.5505),\n",
       " ('207747', 5.4624),\n",
       " ('1793571', 5.435),\n",
       " ('587642', 5.4273),\n",
       " ('47293', 5.3256)]"
      ]
     },
     "execution_count": 10,
     "metadata": {},
     "output_type": "execute_result"
    }
   ],
   "source": [
    "rsv = rsv_score(query,s_ltn)\n",
    "score = sorted(rsv, reverse=True) # To get the score descending\n",
    "score = [(doc, round(ltn,4)) for ltn, doc in score]\n",
    "score[:10]"
   ]
  },
  {
   "cell_type": "markdown",
   "id": "6e5bc05c",
   "metadata": {},
   "source": [
    "## Exercise 6: SMART ltc weighting \n",
    " - Compute a weighted index based on SMART ltc weighting function. "
   ]
  },
  {
   "cell_type": "code",
   "execution_count": 11,
   "id": "5ef821ce",
   "metadata": {},
   "outputs": [],
   "source": [
    "def smart_ltc(smart_ltn):\n",
    "    # ltn = doc:(term, ltn)\n",
    "    #  (ltn_term/sqrt(sum(each pow(ltn_term,2))on a document))\n",
    "    ltc_value = {}\n",
    "    for doc, value in smart_ltn.items():\n",
    "        pow_ltn_term = [pow(v[1],2) for v in value]\n",
    "        normalize = math.sqrt(sum(pow_ltn_term))\n",
    "        for v in value:\n",
    "            ltc_value.setdefault(doc,[]).append((v[0],round((v[1]/normalize),4)))\n",
    "    return ltc_value\n"
   ]
  },
  {
   "cell_type": "markdown",
   "id": "d86627b3",
   "metadata": {},
   "source": [
    "## Exercise 7: Ranked Retrieval (ltc weighting) \n",
    "Compute the score of each document for the query  « web ranking scoring algorithm », using the index based \n",
    "on SMART ltc weighting function. Print the list of the ten most relevant documents, and their relevance score"
   ]
  },
  {
   "cell_type": "code",
   "execution_count": 12,
   "id": "dc90a56d",
   "metadata": {},
   "outputs": [
    {
     "data": {
      "text/plain": [
       "[('18096221', 0.2324),\n",
       " ('2363262', 0.2253),\n",
       " ('6422823', 0.2202),\n",
       " ('1395835', 0.2158),\n",
       " ('8080270', 0.2123),\n",
       " ('10416781', 0.2028),\n",
       " ('4839372', 0.2016),\n",
       " ('1851223', 0.2007),\n",
       " ('19413518', 0.2007),\n",
       " ('2851233', 0.1932)]"
      ]
     },
     "execution_count": 12,
     "metadata": {},
     "output_type": "execute_result"
    }
   ],
   "source": [
    "s_ltc = smart_ltc(s_ltn)\n",
    "rsv_c = rsv_score(query,s_ltc)\n",
    "score_c = sorted(rsv_c, reverse=True)\n",
    "score_c = [(doc, round(ltc,4)) for ltc, doc in score_c]\n",
    "score_c[:10]"
   ]
  },
  {
   "cell_type": "markdown",
   "id": "ea8963f7",
   "metadata": {},
   "source": [
    "## Exercise 8: BM25 weighting \n",
    "Compute a weighted index based on BM25 weighting function. "
   ]
  },
  {
   "cell_type": "code",
   "execution_count": 13,
   "id": "bb51d430",
   "metadata": {},
   "outputs": [],
   "source": [
    "def tf_part(posting_list,dl,n):\n",
    "    #(tf*(k+1))/(k*((1-b)+b*(dl/avdl))+tf)\n",
    "    #[  1     ]             [   2   ]\n",
    "    #              [      3         ]\n",
    "    #            [         4            ]   \n",
    "    k = 1.0\n",
    "    b = 0.5\n",
    "    dl_ = sum([dl[x] for x in dl.keys()])\n",
    "    doc_len = 0\n",
    "    avdl = dl_/n\n",
    "    #print(avdl)\n",
    "    #avdl = 20\n",
    "    tf_part_val = {}\n",
    "    for term, value in posting_list.items():\n",
    "        for v in value:\n",
    "            #if not term in v\n",
    "            tf = v[1]\n",
    "            doc_len = dl[v[0]]\n",
    "            #doc_len = [doc_l for docno,doc_l in dl if docno==v[0]]\n",
    "            bloc_1 = tf*(k+1)\n",
    "            bloc_2 = doc_len/avdl\n",
    "            bloc_3 = k * ((1-b) + b * bloc_2)\n",
    "            bloc_4 = bloc_3+tf       \n",
    "            tf_part_val.setdefault(v[0],[]).append((term,bloc_1/bloc_4)) \n",
    "    return tf_part_val"
   ]
  },
  {
   "cell_type": "code",
   "execution_count": 12,
   "id": "e71e06e6",
   "metadata": {},
   "outputs": [],
   "source": [
    "#dl = stat_2['df']\n",
    "#tf_part(pl_2, stat_2['df'],stat_2['n_doc'])"
   ]
  },
  {
   "cell_type": "code",
   "execution_count": 14,
   "id": "ddd4321f",
   "metadata": {},
   "outputs": [],
   "source": [
    "def idf_part(posting_list,df_,n):\n",
    "    #log((n-df+0.5)/(df+0.5))\n",
    "    #    [   1    ] [  2   ]\n",
    "    idf_part_val ={}\n",
    "    for term, value in posting_list.items():\n",
    "        df = df_[term]\n",
    "        df = df[0][1]\n",
    "        bloc_1 = abs(n-df+0.5)\n",
    "        bloc_2 = df + 0.5\n",
    "        idf_part_val.setdefault(term,[]).append(math.log10(bloc_1/bloc_2))\n",
    "    return idf_part_val\n"
   ]
  },
  {
   "cell_type": "code",
   "execution_count": 55,
   "id": "c84fddb8",
   "metadata": {},
   "outputs": [],
   "source": [
    "#idf_part(pl_2,stat_2['colec_freq'], stat_2['n_doc'])"
   ]
  },
  {
   "cell_type": "code",
   "execution_count": 15,
   "id": "55d6b8a7",
   "metadata": {},
   "outputs": [],
   "source": [
    "def bm25(posting_list, stat):\n",
    "    tf_part_ = tf_part(posting_list,stat['df'],stat['n_doc'])\n",
    "\n",
    "    idf_part_ = idf_part(posting_list,stat['colec_freq'], stat['n_doc'])\n",
    "    bm25_val = {}\n",
    "    # doc 1 : ('a' , tf_part_[a]*idf[a])\n",
    "    for doc, tf_value in tf_part_.items():\n",
    "        for tf in tf_value:\n",
    "            bm25_val.setdefault(doc,[]).append((tf[0], tf[1]*idf_part_[tf[0]][0]))     \n",
    "    return bm25_val\n",
    "    "
   ]
  },
  {
   "cell_type": "markdown",
   "id": "90640d60",
   "metadata": {},
   "source": [
    "## Exercise 9: Ranked Retrieval (BM25 weighting) "
   ]
  },
  {
   "cell_type": "code",
   "execution_count": 16,
   "id": "6005b272",
   "metadata": {},
   "outputs": [],
   "source": [
    "bm25_val = bm25(pl_2,stat_2)"
   ]
  },
  {
   "cell_type": "code",
   "execution_count": 17,
   "id": "6aa0dc70",
   "metadata": {},
   "outputs": [
    {
     "data": {
      "text/plain": [
       "[('187326', 0.16492234183028834),\n",
       " ('21525', 0.17389084150482922),\n",
       " ('2095669', 0.19371905274607265),\n",
       " ('16818407', 0.2082106731276129),\n",
       " ('58353', 0.22617769907954288),\n",
       " ('8177460', 0.24622534467780063),\n",
       " ('48728', 0.2480262101148634),\n",
       " ('1990194', 0.25843030456337124),\n",
       " ('1649530', 0.26514453611936334),\n",
       " ('1347979', 0.26676664209739426)]"
      ]
     },
     "execution_count": 17,
     "metadata": {},
     "output_type": "execute_result"
    }
   ],
   "source": [
    "bm25_score= rsv_score(query,bm25_val)\n",
    "score_bm25 = sorted(bm25_score, reverse=False)\n",
    "score_bm25 = [(doc, bm25_) for bm25_, doc in score_bm25]\n",
    "score_bm25[:10]"
   ]
  },
  {
   "cell_type": "code",
   "execution_count": null,
   "id": "2d4b1e20",
   "metadata": {},
   "outputs": [],
   "source": []
  }
 ],
 "metadata": {
  "kernelspec": {
   "display_name": "Python 3",
   "language": "python",
   "name": "python3"
  },
  "language_info": {
   "codemirror_mode": {
    "name": "ipython",
    "version": 3
   },
   "file_extension": ".py",
   "mimetype": "text/x-python",
   "name": "python",
   "nbconvert_exporter": "python",
   "pygments_lexer": "ipython3",
   "version": "3.8.8"
  }
 },
 "nbformat": 4,
 "nbformat_minor": 5
}
