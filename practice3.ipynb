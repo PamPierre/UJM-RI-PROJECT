{
 "cells": [
  {
   "cell_type": "code",
   "execution_count": 1,
   "id": "3627e59f",
   "metadata": {},
   "outputs": [],
   "source": [
    "import practice2"
   ]
  },
  {
   "cell_type": "code",
   "execution_count": 2,
   "id": "4426b601",
   "metadata": {},
   "outputs": [],
   "source": [
    "directory = \"Practice_03_data/\"\n",
    "list_data = practice2.list_file_data(directory)\n",
    "filename = str(directory+list_data[0])"
   ]
  },
  {
   "cell_type": "markdown",
   "id": "ed7bb325",
   "metadata": {},
   "source": [
    "## Exercise 2: Collection Statistics "
   ]
  },
  {
   "cell_type": "code",
   "execution_count": 3,
   "id": "6276ee97",
   "metadata": {},
   "outputs": [
    {
     "name": "stderr",
     "output_type": "stream",
     "text": [
      "IOPub data rate exceeded.\n",
      "The notebook server will temporarily stop sending output\n",
      "to the client in order to avoid crashing it.\n",
      "To change this limit, set the config variable\n",
      "`--NotebookApp.iopub_data_rate_limit`.\n",
      "\n",
      "Current values:\n",
      "NotebookApp.iopub_data_rate_limit=1000000.0 (bytes/sec)\n",
      "NotebookApp.rate_limit_window=3.0 (secs)\n",
      "\n"
     ]
    }
   ],
   "source": [
    "posting_list, list_terms = practice2.text_mining(filename,False)\n",
    "stat = practice2.get_statistics(posting_list, list_terms)"
   ]
  },
  {
   "cell_type": "markdown",
   "id": "65b2e9bf",
   "metadata": {},
   "source": [
    "## Exercise 3: Collection Statistics using stop-words and stemmer "
   ]
  },
  {
   "cell_type": "code",
   "execution_count": null,
   "id": "8415d84b",
   "metadata": {},
   "outputs": [],
   "source": [
    "posting_list, list_terms = practice2.text_mining(filename,True)\n",
    "stat = practice2.get_statistics(posting_list, list_terms)"
   ]
  },
  {
   "cell_type": "markdown",
   "id": "24061f7d",
   "metadata": {},
   "source": [
    "## Exercise 5: Ranked Retrieval (ltn weighting) "
   ]
  },
  {
   "cell_type": "code",
   "execution_count": null,
   "id": "293744c8",
   "metadata": {},
   "outputs": [],
   "source": [
    "query = \"web ranking scoring algorithm\"\n",
    "rsv = practice2.scoring_doc(practice2.clean(query, True), posting_list, list_terms)"
   ]
  },
  {
   "cell_type": "code",
   "execution_count": null,
   "id": "382d1e00",
   "metadata": {},
   "outputs": [],
   "source": [
    "rsv"
   ]
  },
  {
   "cell_type": "code",
   "execution_count": null,
   "id": "b48027c6",
   "metadata": {},
   "outputs": [],
   "source": []
  }
 ],
 "metadata": {
  "kernelspec": {
   "display_name": "Python 3",
   "language": "python",
   "name": "python3"
  },
  "language_info": {
   "codemirror_mode": {
    "name": "ipython",
    "version": 3
   },
   "file_extension": ".py",
   "mimetype": "text/x-python",
   "name": "python",
   "nbconvert_exporter": "python",
   "pygments_lexer": "ipython3",
   "version": "3.8.8"
  }
 },
 "nbformat": 4,
 "nbformat_minor": 5
}
