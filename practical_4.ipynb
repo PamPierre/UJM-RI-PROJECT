{
 "cells": [
  {
   "cell_type": "code",
   "execution_count": 1,
   "id": "9fbc08f7",
   "metadata": {},
   "outputs": [],
   "source": [
    "import practice2\n",
    "import practice3\n",
    "import matplotlib.pyplot as plt\n",
    "import pandas as pd\n",
    "import math\n",
    "import time"
   ]
  },
  {
   "cell_type": "code",
   "execution_count": 2,
   "id": "bfd837f4",
   "metadata": {},
   "outputs": [],
   "source": [
    "directory = \"Practice_03_data/\"\n",
    "list_data = practice2.list_file_data(directory)\n",
    "filename = str(directory+list_data[0])"
   ]
  },
  {
   "cell_type": "code",
   "execution_count": 3,
   "id": "23934ae6",
   "metadata": {},
   "outputs": [],
   "source": [
    "directory = \"Practice_04_data/\"\n",
    "list_data_q = practice2.list_file_data(directory)\n",
    "filename_q = str(directory+list_data_q[0])"
   ]
  },
  {
   "cell_type": "code",
   "execution_count": 19,
   "id": "a1ec6258",
   "metadata": {},
   "outputs": [
    {
     "data": {
      "text/plain": [
       "['2009011', 'olive oil health benefit']"
      ]
     },
     "execution_count": 19,
     "metadata": {},
     "output_type": "execute_result"
    }
   ],
   "source": [
    "query_list = practice2.preprocesFile(filename_q)\n",
    "query_list = query_list.split(\"\\n\")\n",
    "query_list[0].split(' ',1)"
   ]
  },
  {
   "cell_type": "code",
   "execution_count": 5,
   "id": "a811b6eb",
   "metadata": {},
   "outputs": [
    {
     "name": "stdout",
     "output_type": "stream",
     "text": [
      "156.64678931236267\n"
     ]
    }
   ],
   "source": [
    "pl, lt = practice2.text_mining(filename,True)"
   ]
  },
  {
   "cell_type": "code",
   "execution_count": 6,
   "id": "066cf15e",
   "metadata": {},
   "outputs": [],
   "source": [
    "stat = practice2.get_statistics(pl, lt)"
   ]
  },
  {
   "cell_type": "code",
   "execution_count": 36,
   "id": "f3c32edf",
   "metadata": {},
   "outputs": [],
   "source": [
    "# 2009011 Q0 15343730 1 0.011317152113888167 Mathias /article[1]\n",
    "#('187326', 0.16492234183028834),\n",
    "def result_query(num_query, rsv_result):\n",
    "    score = reverse_score(rsv_result)\n",
    "    x = score\n",
    "    if len(x)>1500:\n",
    "        x = x[:1500]\n",
    "    rsv_r = [(num_query,\n",
    "              'Q0', x[i][0],i+1,\n",
    "              x[i][1], 'DjibrilMohamedOmaimaDouae', \n",
    "              '/article[1]') for i in range(len(x))]\n",
    "    return rsv_r\n",
    "\n",
    "def reverse_score(score_result):\n",
    "    score = sorted(score_result, reverse=True)\n",
    "    score = [(doc, result) for result, doc in score]\n",
    "    return score"
   ]
  },
  {
   "cell_type": "code",
   "execution_count": 8,
   "id": "91eb3d32",
   "metadata": {},
   "outputs": [],
   "source": [
    "ltn,ltc,bm25 = practice3.weinting_function(pl, stat)"
   ]
  },
  {
   "cell_type": "code",
   "execution_count": null,
   "id": "e6d24881",
   "metadata": {},
   "outputs": [],
   "source": []
  },
  {
   "cell_type": "code",
   "execution_count": 46,
   "id": "8460cb96",
   "metadata": {
    "scrolled": true
   },
   "outputs": [],
   "source": [
    "run_ltn = []\n",
    "\n",
    "\n",
    "run_ltc = []\n",
    "run_bm25 = []\n",
    "q0 = query_list[0].split(' ',1)\n",
    "\n",
    "for query in query_list:\n",
    "    query  = query.split(' ',1)\n",
    "    run_ltn.append(result_query(query[0],practice3.rsv_score(query[1],ltn))) \n",
    "    run_ltc.append(result_query(query[0],practice3.rsv_score(query[1],ltc))) \n",
    "    run_bm25.append(result_query(query[0],practice3.rsv_score(query[1],bm25))) \n",
    "    "
   ]
  },
  {
   "cell_type": "code",
   "execution_count": null,
   "id": "658c6330",
   "metadata": {},
   "outputs": [],
   "source": []
  },
  {
   "cell_type": "code",
   "execution_count": null,
   "id": "3059a96a",
   "metadata": {},
   "outputs": [],
   "source": [
    "\n"
   ]
  }
 ],
 "metadata": {
  "kernelspec": {
   "display_name": "Python 3",
   "language": "python",
   "name": "python3"
  },
  "language_info": {
   "codemirror_mode": {
    "name": "ipython",
    "version": 3
   },
   "file_extension": ".py",
   "mimetype": "text/x-python",
   "name": "python",
   "nbconvert_exporter": "python",
   "pygments_lexer": "ipython3",
   "version": "3.8.8"
  }
 },
 "nbformat": 4,
 "nbformat_minor": 5
}
