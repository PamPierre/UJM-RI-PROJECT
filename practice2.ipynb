{
 "cells": [
  {
   "cell_type": "code",
   "execution_count": 74,
   "id": "16f92839",
   "metadata": {},
   "outputs": [],
   "source": [
    "import re\n",
    "import os\n",
    "import gzip\n",
    "import time\n",
    "import matplotlib.pyplot as plt\n",
    "directory = \"Practice_02_data/\"\n"
   ]
  },
  {
   "cell_type": "code",
   "execution_count": 75,
   "id": "4ab9f396",
   "metadata": {},
   "outputs": [],
   "source": [
    "#### Cell of all my function\n",
    "\n",
    "def list_file_data(nom_directory):\n",
    "    myListFile = []\n",
    "    for f in os.listdir(nom_directory):\n",
    "        if os.path.isdir(f): # si f est un dossier\n",
    "            os.chdir(f) # On va lister son contenu\n",
    "            parse()\n",
    "            os.chdir('../') # On revient au répertoire précédent\n",
    "        else:\n",
    "            myListFile.append(f)\n",
    "        # Traitement sur le fichier f\n",
    "    return myListFile\n",
    "\n",
    "\n",
    "def preprocesDataFile(fileName):\n",
    "    input_file = gzip.open(fileName, 'rb')\n",
    "    full_text = input_file.read()\n",
    "    docListNum = re.findall('<doc><docno>(.*?)</docno>(.*?)</doc>', str(full_text).strip())\n",
    "    list_doc = re.findall('<doc><docno>(.*?)</docno>', str(full_text).strip())\n",
    "    return docListNum, list_doc\n",
    "\n",
    "def countWord(words):   \n",
    "    word_count = {} # compte l'occurance d'un terme dans tous les documents\n",
    "    for word in words: # On nparcours la listes de mots*\n",
    "        word  = word.lower()\n",
    "        if not word in word_count:\n",
    "            word_count[word] = 1\n",
    "        else:\n",
    "            word_count[word] = word_count[word] + 1\n",
    "    return word_count\n",
    "\n",
    "def countWordIntoDocs(dico, docno, posting):\n",
    "    docname = str(\"doc_\"+docno)\n",
    "    \n",
    "    for word, frequence in dico.items():\n",
    "        posting.setdefault(word,[]).append((docname,frequence)) ### Remplace les lignes de commande suivante:\n",
    "        \"\"\"\n",
    "        if not word in list(posting.keys()):\n",
    "            posting[word] = [(docname, frequence)]\n",
    "        else:\n",
    "            posting[word].append((docname, frequence))\n",
    "        \"\"\"\n",
    "    return posting\n",
    "\n"
   ]
  },
  {
   "cell_type": "code",
   "execution_count": 76,
   "id": "0279fe54",
   "metadata": {},
   "outputs": [],
   "source": [
    "### Cell to initialise variable\n",
    "list_data = list_file_data(directory)\n",
    "posting_list = {}\n",
    "posting_list_global = {}\n",
    "file_indexing_infos = {}\n",
    "x_axis = list()\n",
    "y_time = list()"
   ]
  },
  {
   "cell_type": "code",
   "execution_count": 77,
   "id": "4fc58476",
   "metadata": {},
   "outputs": [],
   "source": [
    "for index in range(len(list_data)):\n",
    "    start = time.time()\n",
    "    \n",
    "    fileName = str(directory+list_data[index]) \n",
    "    docListNum, list_doc = preprocesDataFile(fileName)\n",
    "    size = os.path.getsize(fileName)\n",
    "    \n",
    "    for i in range(len(list_doc)):\n",
    "        list_terms = docListNum[i][1].replace('\\\\n', '').split()\n",
    "        current_dico = countWord(list_terms)\n",
    "        posting_list = countWordIntoDocs(current_dico, list_doc[i], posting_list)\n",
    "    \n",
    "    file_number = fileName.replace('Practice_02_data/','').split('-',1)\n",
    "    vocub_size = 0\n",
    "    for k,v in posting_list.items():\n",
    "        vocub_size+=len(posting_list[k])\n",
    "    end = time.time()\n",
    "    elapsed = end - start\n",
    "    file_indexing_infos[file_number[0]]=(round(elapsed,3), vocub_size)\n",
    "    "
   ]
  },
  {
   "cell_type": "code",
   "execution_count": 78,
   "id": "b6e9b628",
   "metadata": {},
   "outputs": [
    {
     "data": {
      "text/plain": [
       "{'01': (0.3, 8658),\n",
       " '02': (0.038, 17093),\n",
       " '03': (0.049, 35491),\n",
       " '04': (0.045, 55907),\n",
       " '05': (0.113, 114606),\n",
       " '06': (0.234, 213271),\n",
       " '07': (0.868, 347291),\n",
       " '08': (0.782, 562762),\n",
       " '09': (2.932, 1315606)}"
      ]
     },
     "execution_count": 78,
     "metadata": {},
     "output_type": "execute_result"
    }
   ],
   "source": [
    "file_indexing_infos"
   ]
  },
  {
   "cell_type": "code",
   "execution_count": 79,
   "id": "b54fa92c",
   "metadata": {},
   "outputs": [],
   "source": [
    "\n",
    "for key, values in file_indexing_infos.items():\n",
    "    x_axis.append(key)\n",
    "    y_time.append(values[0])\n",
    "    "
   ]
  },
  {
   "cell_type": "code",
   "execution_count": 80,
   "id": "460df4d4",
   "metadata": {},
   "outputs": [
    {
     "data": {
      "image/png": "[encoded data removed]",
      "text/plain": [
       "<Figure size 432x288 with 1 Axes>"
      ]
     },
     "metadata": {
      "needs_background": "light"
     },
     "output_type": "display_data"
    }
   ],
   "source": [
    "## Pour avoir une courbe avec le plot\n",
    "plt.plot(x_axis,y_time, color='blue',marker='o',linestyle='solid')\n",
    "\n",
    "#Titre\n",
    "plt.title(\"Indexing time evolution\")\n",
    "\n",
    "# label\n",
    "plt.xlabel(\"File number\")\n",
    "plt.show()"
   ]
  },
  {
   "cell_type": "code",
   "execution_count": null,
   "id": "bddae5a6",
   "metadata": {},
   "outputs": [],
   "source": []
  }
 ],
 "metadata": {
  "kernelspec": {
   "display_name": "Python 3",
   "language": "python",
   "name": "python3"
  },
  "language_info": {
   "codemirror_mode": {
    "name": "ipython",
    "version": 3
   },
   "file_extension": ".py",
   "mimetype": "text/x-python",
   "name": "python",
   "nbconvert_exporter": "python",
   "pygments_lexer": "ipython3",
   "version": "3.8.8"
  }
 },
 "nbformat": 4,
 "nbformat_minor": 5
}
