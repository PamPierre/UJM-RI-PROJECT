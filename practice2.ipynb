{
 "cells": [
  {
   "cell_type": "code",
   "execution_count": 113,
   "id": "16f92839",
   "metadata": {},
   "outputs": [],
   "source": [
    "import re\n",
    "import os\n",
    "import gzip\n",
    "import time\n",
    "import matplotlib.pyplot as plt\n",
    "directory = \"Practice_02_data/\"\n"
   ]
  },
  {
   "cell_type": "code",
   "execution_count": 114,
   "id": "4ab9f396",
   "metadata": {},
   "outputs": [],
   "source": [
    "#### Cell of all my function\n",
    "\n",
    "def list_file_data(nom_directory):\n",
    "    myListFile = []\n",
    "    for f in os.listdir(nom_directory):\n",
    "        if os.path.isdir(f): # si f est un dossier\n",
    "            os.chdir(f) # On va lister son contenu\n",
    "            parse()\n",
    "            os.chdir('../') # On revient au répertoire précédent\n",
    "        else:\n",
    "            myListFile.append(f)\n",
    "        # Traitement sur le fichier f\n",
    "    return myListFile\n",
    "\n",
    "\n",
    "def preprocesDataFile(fileName):\n",
    "    input_file = gzip.open(fileName, 'rb')\n",
    "    full_text = input_file.read()\n",
    "    docListNum = re.findall('<doc><docno>(.*?)</docno>(.*?)</doc>', str(full_text).lower().strip())\n",
    "    list_doc = re.findall('<doc><docno>(.*?)</docno>', str(full_text).strip())\n",
    "    return docListNum, list_doc\n",
    "\n",
    "def countWord(words):   \n",
    "    word_count = {} # compte l'occurance d'un terme dans tous les documents\n",
    "    for word in words: # On nparcours la listes de mots*\n",
    "        word  = word.lower()\n",
    "        if not word in word_count:\n",
    "            word_count[word] = 1\n",
    "        else:\n",
    "            word_count[word] = word_count[word] + 1\n",
    "    return word_count\n",
    "\n",
    "def countWordIntoDocs(dico, docno, posting):\n",
    "    docname = docno\n",
    "    \n",
    "    for word, frequence in dico.items():\n",
    "        posting.setdefault(word,[]).append((docname,frequence)) ### Remplace les lignes de commande suivante:\n",
    "        \"\"\"\n",
    "        if not word in list(posting.keys()):\n",
    "            posting[word] = [(docname, frequence)]\n",
    "        else:\n",
    "            posting[word].append((docname, frequence))\n",
    "        \"\"\"\n",
    "    return posting\n",
    "\n",
    "def document_lenght(list_terms,posting_list):\n",
    "    dl = {}\n",
    "    for doc, value in list_terms.items():\n",
    "        somme_tf = 0\n",
    "        for term in value:\n",
    "            for val in sorted(posting_list[term]):\n",
    "                if val[0]==doc:\n",
    "                    somme_tf+=val[1]\n",
    "        dl[doc]=somme_tf\n",
    "        return dl\n",
    "    \n",
    "def vocabulary_size(posting_list):\n",
    "    return len(posting_list.keys())\n",
    "\n",
    "def collection_term_freq(posting_list):\n",
    "    c_size={}\n",
    "    for k,v in posting_list.items():\n",
    "        somme=0\n",
    "        for _,f in v: \n",
    "            somme+=f\n",
    "        dl[k]=somme"
   ]
  },
  {
   "cell_type": "code",
   "execution_count": 115,
   "id": "0279fe54",
   "metadata": {},
   "outputs": [],
   "source": [
    "### Cell to initialise variable\n",
    "list_data = list_file_data(directory)\n",
    "posting_list = {}\n",
    "posting_list_global = {}\n",
    "file_indexing_infos = {}\n",
    "tf = {}\n",
    "x_axis = list()\n",
    "y_time = list()\n",
    "list_terms = {}"
   ]
  },
  {
   "cell_type": "code",
   "execution_count": 116,
   "id": "4fc58476",
   "metadata": {},
   "outputs": [],
   "source": [
    "for index in range(len(list_data)):\n",
    "    start = time.time()\n",
    "    list_terms.clear()\n",
    "    posting_list.clear()\n",
    "    fileName = str(directory+list_data[index])#'01-Text_Only-Ascii-Coll-1-10-NoSem.gz'\n",
    "    docListNum, list_doc = preprocesDataFile(fileName)\n",
    "    size = os.path.getsize(fileName)\n",
    "\n",
    "    for i in range(len(list_doc)):\n",
    "        list_terms[list_doc[i]] = docListNum[i][1].replace('\\\\n', '').split() # Here we create a dictionary of \n",
    "                                                                              # each docments with its terms\n",
    "        lt = docListNum[i][1].replace('\\\\n', '').split()\n",
    "        current_dico = countWord(lt)\n",
    "        posting_list = countWordIntoDocs(current_dico, list_doc[i], posting_list)\n",
    "\n",
    "    file_number = fileName.replace('Practice_02_data/','').split('-',1)\n",
    "    for k,v in posting_list.items():\n",
    "        vocub_size+=len(posting_list[k])\n",
    "    end = time.time()\n",
    "    elapsed = end - start\n",
    "    tf[file_number[0]] = [(i, len(i)) for i in posting_list.keys()]\n",
    "    dl[file_number[0]] = document_lenght(list_terms, ) \n",
    "    file_indexing_infos[file_number[0]]=(round(elapsed,3),tf[file_number[0]].values())\n",
    "    "
   ]
  },
  {
   "cell_type": "code",
   "execution_count": 117,
   "id": "b54fa92c",
   "metadata": {},
   "outputs": [],
   "source": [
    "#print(list_doc)\n",
    "for key, values in file_indexing_infos.items():\n",
    "    x_axis.append(key)\n",
    "    y_time.append(values[0])\n",
    "    "
   ]
  },
  {
   "cell_type": "code",
   "execution_count": 118,
   "id": "460df4d4",
   "metadata": {},
   "outputs": [
    {
     "data": {
      "image/png": "[encoded data removed]",
      "text/plain": [
       "<Figure size 432x288 with 1 Axes>"
      ]
     },
     "metadata": {
      "needs_background": "light"
     },
     "output_type": "display_data"
    }
   ],
   "source": [
    "## Pour avoir une courbe avec le plot\n",
    "plt.plot(x_axis,y_time, color='blue',marker='o',linestyle='solid')\n",
    "\n",
    "#Titre\n",
    "plt.title(\"Indexing time evolution\")\n",
    "\n",
    "# label\n",
    "plt.xlabel(\"File number\")\n",
    "plt.show()"
   ]
  },
  {
   "cell_type": "code",
   "execution_count": null,
   "id": "bddae5a6",
   "metadata": {},
   "outputs": [],
   "source": []
  }
 ],
 "metadata": {
  "kernelspec": {
   "display_name": "Python 3",
   "language": "python",
   "name": "python3"
  }
 },
 "nbformat": 4,
 "nbformat_minor": 5
}
