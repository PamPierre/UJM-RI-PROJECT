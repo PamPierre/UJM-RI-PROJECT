{
 "cells": [
  {
   "cell_type": "code",
   "execution_count": 8,
   "metadata": {},
   "outputs": [],
   "source": [
    "from functions.text_process import *\n",
    "list_file = list_file_data(\"Practice_05_data/XML-Coll-withSem/\")\n",
    "\n",
    "dataset = \"Practice_05_data/XML-Coll-withSem/\"\n",
    "list_termes = {}\n",
    "for file_name in list_file:\n",
    "    list_termes= splitDocs(dataset+file_name,list_termes)\n"
   ]
  },
  {
   "cell_type": "code",
   "execution_count": null,
   "metadata": {
    "pycharm": {
     "name": "#%%\n"
    }
   },
   "outputs": [],
   "source": []
  },
  {
   "cell_type": "code",
   "execution_count": 9,
   "metadata": {},
   "outputs": [],
   "source": [
    "def xml_text_minings(list_terms = dict(), use_stem=bool(), use_stopword=bool()):\n",
    "    start = time.time()\n",
    "    new_list_terms = {}\n",
    "    posting_list = {}\n",
    "    dl = list()\n",
    "    for doc_id, content in list_terms.items():\n",
    "        text_clean = clean(content, use_stem, use_stopword)\n",
    "        new_list_terms[doc_id] = text_clean.split()  # Here we create a dictionary of Here we create a dictionary of\n",
    "        # each docments with its terms\n",
    "        lt = text_clean.split()\n",
    "        current_dico = countWord(lt)\n",
    "        posting_list = countWordIntoDocs(current_dico, doc_id, posting_list)\n",
    "    return posting_list, new_list_terms, (time.time() - start)"
   ]
  },
  {
   "cell_type": "code",
   "execution_count": 10,
   "metadata": {},
   "outputs": [],
   "source": [
    "pl,lt,ti = xml_text_minings(list_termes,False,False)"
   ]
  },
  {
   "cell_type": "code",
   "execution_count": 11,
   "metadata": {},
   "outputs": [],
   "source": [
    "stat = get_statistics(pl,lt)"
   ]
  },
  {
   "cell_type": "code",
   "execution_count": 12,
   "metadata": {},
   "outputs": [],
   "source": [
    "from functions.weiting_function import *"
   ]
  },
  {
   "cell_type": "code",
   "execution_count": 17,
   "metadata": {},
   "outputs": [],
   "source": [
    "ltn = smart_ltn(pl, stat['n_doc'],stat['colec_freq'])"
   ]
  },
  {
   "cell_type": "code",
   "execution_count": 16,
   "metadata": {},
   "outputs": [
    {
     "name": "stdout",
     "output_type": "stream",
     "text": [
      "9804\n"
     ]
    }
   ],
   "source": []
  },
  {
   "cell_type": "code",
   "execution_count": null,
   "metadata": {},
   "outputs": [],
   "source": []
  }
 ],
 "metadata": {
  "kernelspec": {
   "display_name": "Python 3",
   "language": "python",
   "name": "python3"
  },
  "language_info": {
   "codemirror_mode": {
    "name": "ipython",
    "version": 3
   },
   "file_extension": ".py",
   "mimetype": "text/x-python",
   "name": "python",
   "nbconvert_exporter": "python",
   "pygments_lexer": "ipython3",
   "version": "3.8.8"
  }
 },
 "nbformat": 4,
 "nbformat_minor": 1
}