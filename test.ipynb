{
 "cells": [
  {
   "cell_type": "code",
   "execution_count": 1,
   "id": "e913ce5d",
   "metadata": {},
   "outputs": [],
   "source": [
    "# Test on file 1\n",
    "import practice2\n",
    "import matplotlib.pyplot as plt\n",
    "import pandas as pd\n",
    "import math\n",
    "import time"
   ]
  },
  {
   "cell_type": "code",
   "execution_count": 2,
   "id": "06f63fe9",
   "metadata": {},
   "outputs": [],
   "source": [
    "directory = \"Practice_02_data/\"\n",
    "list_data = practice2.list_file_data(directory)\n",
    "filename = str(directory+list_data[0])"
   ]
  },
  {
   "cell_type": "code",
   "execution_count": 5,
   "id": "4b5dac8f",
   "metadata": {},
   "outputs": [
    {
     "name": "stdout",
     "output_type": "stream",
     "text": [
      "0.38521599769592285\n"
     ]
    }
   ],
   "source": [
    "pl_2, lt_2 = practice2.text_mining(filename,True)\n"
   ]
  },
  {
   "cell_type": "code",
   "execution_count": 138,
   "id": "2e4d2bd9",
   "metadata": {},
   "outputs": [],
   "source": [
    "posting = {}\n",
    "posting['a'] = [('1', 1), ('2',1)]\n",
    "posting['b'] = [('2',4)]\n",
    "posting['c'] = [('1', 1), ('2',1)]\n",
    "posting['d'] = [('1', 4)]\n",
    "posting['e'] = [('1', 5)]\n"
   ]
  },
  {
   "cell_type": "code",
   "execution_count": 139,
   "id": "72a83a65",
   "metadata": {},
   "outputs": [],
   "source": [
    "stat = {}\n",
    "stat['dl'] = [('1',11),('2',6)]\n",
    "\n",
    "df = {}\n",
    "df['a'] = 10\n",
    "df['b'] = 25\n",
    "df['c'] = 10\n",
    "df['d'] = 24\n",
    "df['e'] = 250\n",
    "n = 1000\n",
    "avdl = 20\n",
    "k = 1.0\n",
    "b = 0.5\n",
    "q = 'a e'"
   ]
  },
  {
   "cell_type": "code",
   "execution_count": 190,
   "id": "cadaa8e8",
   "metadata": {},
   "outputs": [],
   "source": [
    "def smart_ltn(posting_list,n, df_t):\n",
    "    df = 0\n",
    "    #(1+LOG(tf))*LOG(n/df)\n",
    "    #tf is the frequence of term on a document\n",
    "    #df number of document where the term appear\n",
    "    ltn_value = {} # key doc number, value (terme, ltn)\n",
    "    for term, value in posting_list.items():\n",
    "        df = df_t[term] #\n",
    "        for v in value:\n",
    "            tf = v[1]\n",
    "            if tf == 0:\n",
    "                ltn=0.0\n",
    "            else:\n",
    "                ltn = (1+math.log10(tf))*math.log10(n/df)\n",
    "            ltn_value.setdefault(v[0],[]).append((term,round(ltn,4)))\n",
    "    return ltn_value\n",
    "\n",
    "def rsv_score(query,ltn):\n",
    "    rsv_doc = {}\n",
    "    for term in query.split():\n",
    "        for doc, values in ltn.items():\n",
    "            for v in values:\n",
    "                if term in v[0]:\n",
    "                    rsv_doc.setdefault(doc,[]).append(v[1]) \n",
    "                else: continue\n",
    "    rsv = [(sum(ltn_list),doc) for doc,ltn_list in rsv_doc.items()]\n",
    "    return rsv\n",
    "\n",
    "def smart_ltc(smart_ltn):\n",
    "    # ltn = doc:(term, ltn)\n",
    "    #  (ltn_term/sqrt(sum(each pow(ltn_term,2))on a document))\n",
    "    ltc_value = {}\n",
    "    for doc, value in smart_ltn.items():\n",
    "        pow_ltn_term = [pow(v[1],2) for v in value]\n",
    "        normalize = math.sqrt(sum(pow_ltn_term))\n",
    "        for v in value:\n",
    "            ltc_value.setdefault(doc,[]).append((v[0],round((v[1]/normalize),4)))\n",
    "    return ltc_value\n"
   ]
  },
  {
   "cell_type": "code",
   "execution_count": 191,
   "id": "73339777",
   "metadata": {},
   "outputs": [
    {
     "name": "stdout",
     "output_type": "stream",
     "text": [
      "[(3.0229, '1'), (2.0, '2')]\n",
      "[(0.7609999999999999, '1'), (0.5236, '2')]\n"
     ]
    }
   ],
   "source": [
    "ltn = smart_ltn(posting, n,df)\n",
    "print(rsv_score(q,ltn))\n",
    "ltc = smart_ltc(ltn)\n",
    "print(rsv_score(q,ltc))\n"
   ]
  },
  {
   "cell_type": "code",
   "execution_count": 186,
   "id": "f9591d75",
   "metadata": {},
   "outputs": [],
   "source": [
    "def tf_part(posting_list,dl,n):\n",
    "    #(tf*(k+1))/(k*((1-b)+b*(dl/avdl))+tf)\n",
    "    #[  1     ]             [   2   ]\n",
    "    #              [      3         ]\n",
    "    #            [         4            ]   \n",
    "    k = 1.0\n",
    "    b = 0.5\n",
    "    dl_ = [dl_ for _, dl_ in dl]\n",
    "    doc_len = 0\n",
    "    #avdl = (sum(dl_))/n\n",
    "    avdl = 20\n",
    "    tf_part_val = {}\n",
    "    for term, value in posting_list.items():\n",
    "        for v in value:\n",
    "            #if not term in v\n",
    "            tf = v[1]\n",
    "            doc_len = [doc_l for docno,doc_l in dl if docno==v[0]]\n",
    "            #doc_len = dl[v[0]]\n",
    "            bloc_1 = tf*(k+1)\n",
    "            bloc_2 = doc_len[0]/avdl\n",
    "            bloc_3 = k * ((1-b) + b * bloc_2)\n",
    "            bloc_4 = bloc_3+tf       \n",
    "            tf_part_val.setdefault(v[0],[]).append((term,bloc_1/bloc_4)) \n",
    "    return tf_part_val\n",
    "\n",
    "def idf_part(posting_list,df_,n):\n",
    "    #log((n-df+0.5)/(df+0.5))\n",
    "    #    [   1    ] [  2   ]\n",
    "    idf_part_val ={}\n",
    "    for term, value in posting_list.items():\n",
    "        df = df_[term]\n",
    "        bloc_1 = n-df+0.5\n",
    "        bloc_2 = df + 0.5\n",
    "        \n",
    "        idf_part_val.setdefault(term,[]).append(math.log10(bloc_1/bloc_2))\n",
    "    return idf_part_val\n",
    "\n",
    "def bm25(posting_list, stat,df_,n):\n",
    "    tf_part_ = tf_part(posting_list,stat['dl'],n)\n",
    "\n",
    "    idf_part_ = idf_part(posting_list,df_,n)\n",
    "    bm25_val = {}\n",
    "    # doc 1 : ('a' , tf_part_[a]*idf[a])\n",
    "    for doc, tf_value in tf_part_.items():\n",
    "        for tf in tf_value:\n",
    "            bm25_val.setdefault(doc,[]).append((tf[0], tf[1]*idf_part_[tf[0]][0]))     \n",
    "    return bm25_val\n"
   ]
  },
  {
   "cell_type": "code",
   "execution_count": 187,
   "id": "50f89003",
   "metadata": {},
   "outputs": [],
   "source": [
    "tf_part(posting,stat['dl'],n)\n",
    "#idf = idf_part(posting,df,n)\n",
    "#idf['a']\n",
    "bm25_ = bm25(posting,stat,df,n)\n",
    "#rsv_score(q,bm25)"
   ]
  },
  {
   "cell_type": "code",
   "execution_count": 188,
   "id": "b6882f22",
   "metadata": {},
   "outputs": [
    {
     "data": {
      "text/plain": [
       "[(3.0501574773701985, '1'), (2.393533552490458, '2')]"
      ]
     },
     "execution_count": 188,
     "metadata": {},
     "output_type": "execute_result"
    }
   ],
   "source": [
    "rsv_score(q,bm25_)"
   ]
  },
  {
   "cell_type": "code",
   "execution_count": null,
   "id": "bd361c29",
   "metadata": {},
   "outputs": [],
   "source": []
  }
 ],
 "metadata": {
  "kernelspec": {
   "display_name": "Python 3",
   "language": "python",
   "name": "python3"
  },
  "language_info": {
   "codemirror_mode": {
    "name": "ipython",
    "version": 3
   },
   "file_extension": ".py",
   "mimetype": "text/x-python",
   "name": "python",
   "nbconvert_exporter": "python",
   "pygments_lexer": "ipython3",
   "version": "3.8.8"
  }
 },
 "nbformat": 4,
 "nbformat_minor": 5
}
